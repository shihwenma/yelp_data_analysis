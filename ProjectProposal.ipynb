{
 "cells": [
  {
   "cell_type": "markdown",
   "metadata": {},
   "source": [
    "# COGS 108 - Final Project Proposal"
   ]
  },
  {
   "cell_type": "markdown",
   "metadata": {},
   "source": [
    "# Names\n",
    "\n",
    "- Shih Wen Ma\n",
    "- Andrea Diaz\n",
    "- Viet Nguyen\n",
    "- Manda Tran",
   ]
  },
  {
   "cell_type": "markdown",
   "metadata": {},
   "source": [
    "# Group Members IDs\n",
    "\n",
    "- A15469802\n",
    "- A15084975\n",
    "- A13702483\n",
    "- A14452168"
   ]
  },
  {
   "cell_type": "markdown",
   "metadata": {},
   "source": [
    "# Research Question"
   ]
  },
  {
   "cell_type": "markdown",
   "metadata": {},
   "source": [
    "Is there a 'bandwagon' effect where customers are likely to give ratings close to a restaurant’s current rating on Yelp? How can we quantify this effect? How would we correct this effect?"
   ]
  },
  {
   "cell_type": "markdown",
   "metadata": {},
   "source": [
    "## Background and Prior Work"
   ]
  },
  {
   "cell_type": "markdown",
   "metadata": {},
   "source": [
    "*Fill in your background and prior work here. Be sure to specify which statements are from which references.* \n",
    "\n",
    "Notes:\n",
    "- How corrupt is Yelp? (How much ‘weight’ should you put on a yelp review?)\n",
    "     - What gets filtered out? (criteria)\n",
    "     - Filter’s effects of score (reference #1)\n",
    "     - Paying to hide bad reviews and highlight good ones (reference #4)\n",
    "            - Leads to extortion to maintain reputation (reference #3)\n",
    " - Bandwagon\n"
    "     - Does current rating affect future ratings?\n",
    "            - Consider both highlighted reviews and average score as predictors\n",
    "            - Highlighted extreme ratings affect overall ratings more\n",
    "     - How does this affect small businesses vs. large businesses?\n",
    "            - Large businesses get more ratings than small businesses, and may be more vulnerable to such an effect\n",
    "     - How does demographic/area of interest affect ratings?\n",
    "            - E.g., we expect San Diego to have a higher quality standard for Mexican food than New York. Chipotle in San Diego may be lower rated than Chipotle in New York.\n",
    "     - Do older reviews have less weight to them? How is Yelp’s average review score calculated?\n",
    "References (include links):\n",
    "- 1) The Yelp Review Filter: https://vivial.net/blog/how-to-avoid-the-yelp-review-filter-and-get-more-positive-reviews/ \n",
    "- 2) The Yelp Effect https://rbj.rady.ucsd.edu/index.php/topics/social-impact/2014/01/the-yelp-effect/ \n",
    "- 3) Fake Yelp Reviews: \n",
    "       - https://smallbusiness.yahoo.com/advisor/writing-fake-reviews-yelp-might-sued-173135209.html \n",
    "       - https://www.businessinsider.com/20-percent-of-yelp-reviews-fake-2013-9 \n",
    "- 4) The Yelp Factor https://hbswk.hbs.edu/item/the-yelp-factor-are-consumer-reviews-good-for-business"
   ]
  },
  {
   "cell_type": "markdown",
   "metadata": {},
   "source": [
    "# Hypothesis\n"
   ]
  },
  {
   "cell_type": "markdown",
   "metadata": {},
   "source": [
    "*State and defend your hypotheses here.*",
    " Yelp elicits the 'bandwagon' effect and thus affects the overall reliance of the customer reviews.\n",
    " Average yelp score encourages similarly rated future reviews. In terms of data, we predict a 'funnel' effect where ratings become more condensed over time. Similarly, the ratings of highlighted reviews affect how users will review a restaurant. We predict that a highlighted positive review will move scores up, whereas a highlighted negative review will move scores down."
   ]
  },
  {
   "cell_type": "markdown",
   "metadata": {},
   "source": [
    "# Data"
   ]
  },
  {
   "cell_type": "markdown",
   "metadata": {},
   "source": [
    "*Explain what the ideal dataset you would want to answer this question. (This should include: What variables? How many observations? Who/what/how would these data be collected? How would these data be stored/organized?)* \n",
    "The ideal dataset would include multiple reviews from both local and chain restaurants from multiple similar regions / areas. This data ideally would be collected without emphasis on certain types of reviews (without the influence of yelp’s advertisement services). In addition, the data will be collected by utilizing Yelp’s API to get access to their data. Yelp also has a 'Yelp Dataset Challenge' which provides a link to a downloadable JSON dataset. The data will ideally be organized based on region, size of business, and amount of reviews. We also need information on how reviews change over time. The data will be stored by utilizing the data wrangling method presented in lecture."
   ]
  },
  {
   "cell_type": "markdown",
   "metadata": {},
   "source": [
    "# Ethics & Privacy"
   ]
  },
  {
   "cell_type": "markdown",
   "metadata": {},
   "source": [
    "*Fill in your ethics & privacy discussion here* \n",
    "- Corrected Yelp Scores could help or hurt some businesses \n",
    "- Frequent reviewers could potentially be identified by the location of their reviews (since we are collecting temporal data) \n",
    "      - Since the reviews are available to the public and the reviewers know what they write can be tracked to them, they are consenting to the information they put on their profile. \n",
    "      - Yelp does not have an anonymous reviewer option, which means that people need to jeopardize their information (ex: location), which could lead to safety concerns, in exchange for writing a review \n",
    "- Bandwagon and corruption relationship: Can the corruption be traced?"
   ]
  },
  {
   "cell_type": "markdown",
   "metadata": {},
   "source": [
    "# Team Expectations "
   ]
  },
  {
   "cell_type": "markdown",
   "metadata": {},
   "source": [
    "* Active communication and equal participation \n",
    "* Consistently meeting up per week \n",
    "* Fulfilling tasks assigned"
   ]
  },
  {
   "cell_type": "markdown",
   "metadata": {},
   "source": [
    "# Project Timeline Proposal"
   ]
  },
  {
   "cell_type": "markdown",
   "metadata": {},
   "source": [
    "| Meeting Date  | Meeting Time| Completed Before Meeting  | Discuss at Meeting |\n",
    "|---|---|---|---|\n",
    "| 1/27  |  6 PM | Brainstormed possible project ideas.  | Finalize research question and project proposal. Find background research.  | \n",
    "| 2/3  |  6 PM |  Find data / research for project | Data wrangling, come up with possible factors that affect data | \n",
    "| 2/10  | 6 PM  | Outline analytical approach  | Analyze data and visualizations   |\n",
    "| 2/17  | 6 PM  | Start thinking of visualizations for our data | Finish check in, discuss and edit analysis and visualization   |\n",
    "| 2/24  | 6 PM  | Continue/Complete analysis and visualisations | Discuss/edit analysis and visuals |\n",
    "| 3/9  | 6 PM  | Complete a draft for the conclusion and discussion| Revise the entire project thoroughly.  |\n",
    "| 3/19  | Before 11:59 PM  | NA | Turn in Final Project & Group Project Surveys |"
   ]
  }
 ],
 "metadata": {
  "kernelspec": {
   "display_name": "Python 3",
   "language": "python",
   "name": "python3"
  },
  "language_info": {
   "codemirror_mode": {
    "name": "ipython",
    "version": 3
   },
   "file_extension": ".py",
   "mimetype": "text/x-python",
   "name": "python",
   "nbconvert_exporter": "python",
   "pygments_lexer": "ipython3",
   "version": "3.6.8"
  }
 },
 "nbformat": 4,
 "nbformat_minor": 2
}
