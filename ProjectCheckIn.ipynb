{
 "cells": [
  {
   "cell_type": "markdown",
   "metadata": {},
   "source": [
    "# COGS 108 Final Project Check-In"
   ]
  },
  {
   "cell_type": "markdown",
   "metadata": {},
   "source": [
    "# Names\n",
    "\n",
    "- Shih Wen Ma\n",
    "- Andrea Diaz\n",
    "- Viet Nguyen\n",
    "- Manda Tran\n",
    "- Matthew Luu"
   ]
  },
  {
   "cell_type": "markdown",
   "metadata": {},
   "source": [
    "# Group Members IDs\n",
    "\n",
    "- A15469802\n",
    "- A15084975\n",
    "- A13702483\n",
    "- A14452168\n",
    "- A16067866"
   ]
  },
  {
   "cell_type": "markdown",
   "metadata": {},
   "source": [
    "# Accomplishments"
   ]
  },
  {
   "cell_type": "markdown",
   "metadata": {},
   "source": [
    "*Briefly explain what your group has accomplished up to this point on your final project.*\n",
    "\n",
    "We created an outline of the analyses we want to make in order to answer our question. This includes: \n",
    "1. Most popular “genre” of cuisine\n",
    "2. Which chain correlates to these genres? (heat map)\n",
    "3. How well do these chains do across the country (particularly does this do well in the state where this is the most popular type of food) \n",
    "4. Conclude (based on correlation) if a chain was going to set up a shop there, the ratings / popularity of that shop\n",
    "\n",
    "We thought we found our two major datasets that we will be using for our final project (https://www.yelp.com/dataset/download). We cleaned the data but then realized that we could not use the dataset (which is explained in more detail in the struggles section). So we are now in the process of trying to figure out use the Yelp API to obtain the data we need to answer our question."
   ]
  },
  {
   "cell_type": "markdown",
   "metadata": {},
   "source": [
    "# Going Well"
   ]
  },
  {
   "cell_type": "markdown",
   "metadata": {},
   "source": [
    "*Briefly explain what has gone well so far in completing your group project.*\n",
    "\n",
    "Our group has been meeting consistently and now have a clear direction of where we want to go with the project. We also have specific tasks assigned to each person, although we will all be helping out in other areas if needed."
   ]
  },
  {
   "cell_type": "markdown",
   "metadata": {},
   "source": [
    "# Struggles"
   ]
  },
  {
   "cell_type": "markdown",
   "metadata": {},
   "source": [
    "*Briefly explain what snags or issues your group has faced.*\n",
    "\n",
    "After cleaning our data to only contain restaurants we saw that the dataset only had restaurants from a few states across the US and was not representative of each state. For example, New York only had 10 restaurants while Nevada had around 4,000 restuarants and the data also only included a few restaurants in California. So now we are faced with either changing our question so that we can use the dataset or figure our how to use the Yelp API to get the data we need. We would like to keep our research question and are trying to seek help on how to use the API."
   ]
  },
  {
   "cell_type": "markdown",
   "metadata": {},
   "source": [
    "# Plan Forward"
   ]
  },
  {
   "cell_type": "markdown",
   "metadata": {},
   "source": [
    "*Explain what your plan is for successful completion of your COGS 108 project. If any issues have arisen, address your plan for addressing these issues throughout the rest of the quarter.*\n",
    "\n",
    "We plan on finishing the data gathering and cleaning by the end of week 7. Then in week 8 we will focus on descriptive data analysis and in week 9 we will focus on exploratory data analysis. In week 10 we will put finishing touches on our final project making sure to have clear explanations and data visualizations but mainly finish up the Conclusion & Discussion section and clarify the Ethics & Privacy section from our project proposal."
   ]
  },
  {
   "cell_type": "code",
   "execution_count": null,
   "metadata": {},
   "outputs": [],
   "source": []
  }
 ],
 "metadata": {
  "kernelspec": {
   "display_name": "Python 3",
   "language": "python",
   "name": "python3"
  },
  "language_info": {
   "codemirror_mode": {
    "name": "ipython",
    "version": 3
   },
   "file_extension": ".py",
   "mimetype": "text/x-python",
   "name": "python",
   "nbconvert_exporter": "python",
   "pygments_lexer": "ipython3",
   "version": "3.7.4"
  }
 },
 "nbformat": 4,
 "nbformat_minor": 2
}
