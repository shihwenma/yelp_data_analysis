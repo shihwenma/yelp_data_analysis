{
 "cells": [
  {
   "cell_type": "markdown",
   "metadata": {},
   "source": [
    "# COGS 108 - WORKING TITLE"
   ]
  },
  {
   "cell_type": "markdown",
   "metadata": {},
   "source": [
    "# Names\n",
    "\n",
    "- Shih Wen Ma\n",
    "- Andrea Diaz\n",
    "- Viet Nguyen\n",
    "- Manda Tran\n",
    "- Matthew Luu"
   ]
  },
  {
   "cell_type": "markdown",
   "metadata": {},
   "source": [
    "# Group Members IDs\n",
    "\n",
    "- A15469802\n",
    "- A15084975\n",
    "- A13702483\n",
    "- A14452168\n",
    "- A16067866"
   ]
  },
  {
   "cell_type": "markdown",
   "metadata": {},
   "source": [
    "# Research Question"
   ]
  },
  {
   "cell_type": "markdown",
   "metadata": {},
   "source": [
    "How does the state a restaurant is located in (specifically the United States), affect the rating of restaurants? Can you predict a restaurant’s success based off of location? How do preferences (tendencies) of a certain location such as the demographic of the population, the density of the population, and distance affect ratings? "
   ]
  },
  {
   "cell_type": "markdown",
   "metadata": {},
   "source": [
    "## Background and Prior Work"
   ]
  },
  {
   "cell_type": "markdown",
   "metadata": {},
   "source": [
    "### Background\n",
    "\n",
    "Yelp is an online service in which anyone can comment and/or rate any business on a range from 0 to 5 stars. Users can then describe the business from a range of various factors such as cleanliness, customer service and other amenities as well as upload any photos. We want to find in our data if a specific location such as the area and neighborhoods affects the rating of a particular restaurant. \n",
    "\n",
    "Notes:\n",
    "- How corrupt is Yelp? (How much ‘weight’ should you put on a yelp review?)\n",
    "   - What gets filtered out? (criteria) \n",
    "   - Filter’s effects of score (reference #1) \n",
    "   - Paying to hide bad reviews and highlight good ones (reference #4)\n",
    "   - Extortion to maintain reputation (reference #3)\n",
    "\n",
    "- Bandwagon\n",
    "   - Does current rating affect future ratings? \n",
    "      - Consider both highlighted reviews and average score as predictors\n",
    "      - Highlighted extreme ratings affect overall ratings more \n",
    "   - How does this affect small businesses vs. large businesses?\n",
    "      - Large businesses get more ratings than small businesses, and may be more vulnerable to such an effect \n",
    "   - How does demographic / area of interest affect ratings? \n",
    "      - E.g., we expect San Diego to have a higher quality standard for Mexican food than New York. Chipotle in San Diego may be lower rated than Chipotle in New York. \n",
    "      - Do older reviews have less weight to them? How is Yelp’s average review score calculated?\n",
    "      - How does location affect the rating of restaurants? Can you predict a restaurant’s success based off of location? How do tendencies of a certain location affect ratings? \n",
    "          - Such as chain restaurants vs local mom and pop \n",
    "          - Chain restaurants == control group\n",
    "          - Most popular type of restaurant based on location\n",
    "          - How does parking affect rating? \n",
    "          - Chain restaurants across different locations\n",
    "              - Heat map over geographical location\n",
    "          - “Genre” of cuisine (e.g. Mexican) across locations\n",
    "       - End goal: Conclude (based on correlation) if a chain was going to set up a shop there, the ratings / popularity of that shop\n",
    "\n",
    "\n",
    "References (include links):\n",
    "- 1) The Yelp Review Filter: https://vivial.net/blog/how-to-avoid-the-yelp-review-filter-and-get-more-positive-reviews/ \n",
    "- 2) The Yelp Effect https://rbj.rady.ucsd.edu/index.php/topics/social-impact/2014/01/the-yelp-effect/ \n",
    "- 3) Fake Yelp Reviews\n",
    "     - https://smallbusiness.yahoo.com/advisor/writing-fake-reviews-yelp-might-sued-173135209.html \n",
    "     - https://www.businessinsider.com/20-percent-of-yelp-reviews-fake-2013-9 \n",
    "- 4) The Yelp Factor https://hbswk.hbs.edu/item/the-yelp-factor-are-consumer-reviews-good-for-business\n",
    "- 5) Yelp Dataset Challenge 1 https://github.com/VC444/Yelp-Dataset-Challenge \n",
    "\n",
    "### Prior Work\n",
    "While researching our project we came across the Yelp Dataset Challenge. A couple in particular had to do with predicting the ratings of restaurants based on the text in the reviews which were analyzed based on sentiment (reference #5) using machine learning models. However we could not find any projects or reports that looked into the effect of different locations on the ratings of restaurants which is why we thought it would be an interesting topic to focus on."
   ]
  },
  {
   "cell_type": "markdown",
   "metadata": {},
   "source": [
    "# Hypothesis\n"
   ]
  },
  {
   "cell_type": "markdown",
   "metadata": {},
   "source": [
    "Location will have a large effect on the rating because it sets up the environment and customer expectations the business needs to fulfill. The most popular type of food in a specific area will be set at a higher standard by the consumers and therefore have harsher ratings."
   ]
  },
  {
   "cell_type": "markdown",
   "metadata": {},
   "source": [
    "# Data"
   ]
  },
  {
   "cell_type": "markdown",
   "metadata": {},
   "source": [
    "The ideal dataset would include multiple reviews from both local and chain restaurants from multiple similar regions / areas. This data ideally would be collected without emphasis on certain types of reviews (without the influence of yelp’s advertisement services). In addition, the data will be collected by utilizing Yelp’s API to get access to their data. Yelp also has a 'Yelp Dataset Challenge' which provides a link to a downloadable JSON dataset. The data will ideally be organized based on region, size of business, and amount of reviews. We also need information on how reviews change over time. The data will be stored by utilizing the data wrangling method presented in lecture.\n"
   ]
  },
  {
   "cell_type": "markdown",
   "metadata": {},
   "source": [
    "# Ethics & Privacy"
   ]
  },
  {
   "cell_type": "markdown",
   "metadata": {},
   "source": [
    "- Corrected Yelp Scores could help or hurt some businesses \n",
    "- Frequent reviewers could potentially be identified by the location of their reviews (since we are collecting temporal data) \n",
    "    - Since the reviews are available to the public and the reviewers know what they write can be tracked to them, they are consenting to the information they put on their profile. \n",
    "    - Yelp does not have an anonymous reviewer option, which means that people need to jeopardize their information (ex: location), which could lead to safety concerns, in exchange for writing a review \n",
    "- Bandwagon and corruption relationship: Can the corruption be traced? \n"
   ]
  },
  {
   "cell_type": "markdown",
   "metadata": {},
   "source": [
    "# Team Expectations "
   ]
  },
  {
   "cell_type": "markdown",
   "metadata": {},
   "source": [
    "* Active communication and equal participation\n",
    "* Consistently meeting up per week \n",
    "* Fulfilling tasks assigned"
   ]
  },
  {
   "cell_type": "markdown",
   "metadata": {},
   "source": [
    "# Project Timeline Proposal"
   ]
  },
  {
   "cell_type": "markdown",
   "metadata": {},
   "source": [
    "| Meeting Date  | Meeting Time| Completed Before Meeting  | Discuss at Meeting |\n",
    "|---|---|---|---|\n",
    "| 1/27  |  6 PM | Brainstormed possible project ideas.  | Finalize research question and project proposal. Find background research | \n",
    "| 2/3  |  6 PM | Find data / research for project  | Come up with possible factors that affect data, outline analytical approach | \n",
    "| 2/10  | 6 PM  | Outline analytical approach  | Analyze data and visualizations   |\n",
    "| 2/17  | 6 PM  | Start thinking of visualizations for our data | Finish check in, discuss and edit analysis and visualization   |\n",
    "| 2/24  | 6 PM  | Continue analysis and visualisations | Discuss/edit analysis and visuals |\n",
    "| 3/9  | 6 PM  | Complete a draft for the conclusion and discussion.| Revise the entire project thoroughly |\n",
    "| 3/19  | Before 11:59 PM  | NA | Turn in Final Project & Group Project Surveys |"
   ]
  },
  {
   "cell_type": "markdown",
   "metadata": {},
   "source": [
    "# Data And Data Wrangling"
   ]
  },
  {
   "cell_type": "markdown",
   "metadata": {},
   "source": [
    "# Descriptive And Exploratory Data Analysis"
   ]
  },
  {
   "cell_type": "markdown",
   "metadata": {},
   "source": [
    "# Full Analysis"
   ]
  },
  {
   "cell_type": "code",
   "execution_count": 2,
   "metadata": {},
   "outputs": [],
   "source": [
    "# Results"
   ]
  },
  {
   "cell_type": "code",
   "execution_count": null,
   "metadata": {},
   "outputs": [],
   "source": [
    "# Conclusions"
   ]
  }
 ],
 "metadata": {
  "kernelspec": {
   "display_name": "Python 3",
   "language": "python",
   "name": "python3"
  },
  "language_info": {
   "codemirror_mode": {
    "name": "ipython",
    "version": 3
   },
   "file_extension": ".py",
   "mimetype": "text/x-python",
   "name": "python",
   "nbconvert_exporter": "python",
   "pygments_lexer": "ipython3",
   "version": "3.7.4"
  }
 },
 "nbformat": 4,
 "nbformat_minor": 2
}
