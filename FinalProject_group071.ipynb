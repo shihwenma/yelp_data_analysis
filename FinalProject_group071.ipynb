{
 "cells": [
  {
   "cell_type": "markdown",
   "metadata": {},
   "source": [
    "# COGS 108 - Final Project "
   ]
  },
  {
   "cell_type": "markdown",
   "metadata": {},
   "source": [
    "## Permissions"
   ]
  },
  {
   "cell_type": "markdown",
   "metadata": {},
   "source": [
    "Place an `X` in the appropriate bracket below to specify if you would like your group's project to be made available to the public. (Note that PIDs will be scraped from the public submission, but student names will be included.)\n",
    "\n",
    "* [X] YES - make available\n",
    "* [  ] NO - keep private"
   ]
  },
  {
   "cell_type": "markdown",
   "metadata": {},
   "source": [
    "# Overview"
   ]
  },
  {
   "cell_type": "markdown",
   "metadata": {},
   "source": [
    "Yelp has normalized the reviewing of businesses. This system has benefited its users by allowing them to read on other people’s experiences and opinions, along with updating them on the business’s amenities. This can be either problematic or valuable to businesses. It allows them to receive feedback on how to improve their business and either attracts or dissuades potential customers. In the modern day, Yelp tends to play a factor in and reflect a business’s success. Our project analyzes Yelp data to determine the effects of a business’s location on a business’s success (based off the area and environment it is in). This analysis is used to determine the likelihood of a business’s success based on the location it is set up in. "
   ]
  },
  {
   "cell_type": "markdown",
   "metadata": {},
   "source": [
    "# Names\n",
    "\n",
    "- Shih Wen Ma\n",
    "- Andrea Diaz\n",
    "- Viet Nguyen\n",
    "- Manda Tran\n",
    "- Matthew Luu"
   ]
  },
  {
   "cell_type": "markdown",
   "metadata": {},
   "source": [
    "# Group Members IDs\n",
    "\n",
    "- A15469802\n",
    "- A15084975\n",
    "- A13702483\n",
    "- A14452168\n",
    "- A16067866"
   ]
  },
  {
   "cell_type": "markdown",
   "metadata": {},
   "source": [
    "# Research Question"
   ]
  },
  {
   "cell_type": "markdown",
   "metadata": {},
   "source": [
    "How does the state a restaurant is located in (specifically the United States) affect the success of restaurants? Can you predict a restaurant’s success based on the location?"
   ]
  },
  {
   "cell_type": "markdown",
   "metadata": {},
   "source": [
    "## Background and Prior Work"
   ]
  },
  {
   "cell_type": "markdown",
   "metadata": {},
   "source": [
    "Yelp is an online service in which anyone with an account can comment on and/or rate a business. It allows users to make informed decisions on whether or not they want to receive services from them. For businesses, it is a platform for them to receive feedback on their services, such as what customers would like to see and what improvements they can make. This platform is used by both sides to gauge how successful and/or promising a business is. As such, we focus on Yelp data to help us determine the success of a restaurant (determined by ratings and number of reviews) based on location. \n",
    "\n",
    "When evaluating whether a Yelp data set is the most appropriate for our question, we analyzed the credibility and bias of the dataset. We researched possible factors that could affect the accuracy of the dataset in reflecting the success of a restaurant. One major question we asked is: “Is the data corrupt?”. Upon further research, we found that Yelp does manipulate reviews. They filter out data that they think are fake, but this algorithm is not always correct. The filter affects the success because it is manipulating the data, thus removing data that could potentially affect the ratings of the business. In addition, they accept payments from businesses to advertise for them and/or hide bad reviews while highlighting more favorable ones. This would skew the data because it means that restaurants who pay Yelp to do this are more likely to receive more customers and reviews, thus making the business (seem) more successful than its competitors. Another major aspect we considered was how the bandwagon effect could affect the ratings of a restaurant. We found that current ratings do affect future ratings, which further cements the skew of the data. This affects small businesses, as they are often overshadowed by larger businesses who have the resources to pay Yelp for advertisements and extra services. \n",
    "\n",
    "We have decided to move forward with using the Yelp dataset with these concerns in mind. We concluded that while these factors may affect the accuracy in reflecting the success of a restaurant, they also affect the success of the restaurant. These factors change the way the business is reflected through Yelp, a popular platform used by people to determine whether or not they want to utilize the business’s services. By playing a role in a potential customer’s choice in utilizing the service, Yelp indirectly affects the success of the restaurant. Therefore, it is safe to continue using the Yelp dataset, given that these factors also influence the restaurant’s success. \n",
    "\n",
    "While doing initial research on Yelp dataset, we came across the Yelp Dataset Challenge. We noticed 2-3 projects that had to do with predicting the success of a business. For example, one project predicted success based on the text in the reviews which were analyzed based on sentiment (reference #5) using machine learning models. However, we could not find any projects or reports that looked into the effect of different locations on the ratings of restaurants which is why we thought it would be an interesting topic to focus on. \n",
    "\n",
    "References (include links):\n",
    "- 1) The Yelp Review Filter: https://vivial.net/blog/how-to-avoid-the-yelp-review-filter-and-get-more-positive-reviews/\n",
    "- 2) The Yelp Effect https://rbj.rady.ucsd.edu/index.php/topics/social-impact/2014/01/the-yelp-effect/\n",
    "- 3) Fake Yelp Reviews\n",
    "    - https://smallbusiness.yahoo.com/advisor/writing-fake-reviews-yelp-might-sued-173135209.html\n",
    "    - https://www.businessinsider.com/20-percent-of-yelp-reviews-fake-2013-9\n",
    "- 4) The Yelp Factor https://hbswk.hbs.edu/item/the-yelp-factor-are-consumer-reviews-good-for-business\n",
    "- 5) Yelp Dataset Challenge 1 https://github.com/VC444/Yelp-Dataset-Challenge "
   ]
  },
  {
   "cell_type": "markdown",
   "metadata": {},
   "source": [
    "# Hypothesis\n"
   ]
  },
  {
   "cell_type": "markdown",
   "metadata": {},
   "source": [
    "Location will have a large effect on the rating because it sets up the environment and customer expectations the business needs to fulfill. The most popular type of food in a specific area will be set at a higher standard by the consumers and therefore have harsher ratings. For example, we believe that if Mexican food is very popular in San Diego, then Chipotle chain restaurants, known for its Mexican-style cuisine, will generally have lower ratings due to the fact that there are more local restaurants that specialize in Mexican food. Therefore, we will also place an emphasis on chain restaurants and compare our findings to local restaurants. "
   ]
  },
  {
   "cell_type": "markdown",
   "metadata": {},
   "source": [
    "# Dataset(s)"
   ]
  },
  {
   "cell_type": "markdown",
   "metadata": {},
   "source": [
    "- Dataset Name: Yelp Categories (categories.json)\n",
    "- Link to the dataset: https://www.yelp.com/developers/documentation/v3/all_category_list\n",
    "- Number of observations: 1,563 observations\n",
    "\n",
    "This data was used to gather all the relevant categories to collect our data using the Yelp API. We found the categories by finding all the rows who's parent category contained 'restaurant' in it.\n",
    "\n",
    "\n",
    "- Dataset Name: Yelp Restaurant Data Across America\n",
    "- Link to the dataset: https://www.yelp.com/developers/documentation/v3/business_search\n",
    "- Number of observations: 150,980 observations\n",
    "\n",
    "The data was collected by using a Yelp API and the github repo: https://github.com/gfairchild/yelpapi. We used the dataset categories.json to find all the relevant restaurant categories and ran a search query for each state. The data contains the name of the restaurant, the location (including latitude and longitude), the average rating, the applicable categories, and the number of customer reviews.\n",
    "\n",
    "\n",
    "- Dataset Name: Fast Food Restaurants Across America\n",
    "- Link to the dataset: https://www.kaggle.com/datafiniti/fast-food-restaurants#FastFoodRestaurants.csv\n",
    "- Number of observations: 10,000 observations\n",
    "\n",
    "This dataset provides information about 10,000 fast food restaurants across America. The data was collected from Datafiniti's Business Database in March 2018. We are using this dataset to understand which fast food chains are the most popular across the US (per state) based on the number of locations. While the data comes from a reliable source, the completion of the dataset is cannot be confirmed because there was no free option to download the data directly from the source so we had to download the data from kaggle.com. The data includes the fast food restaurant, its location, and website.\n"
   ]
  },
  {
   "cell_type": "markdown",
   "metadata": {},
   "source": [
    "# Setup"
   ]
  },
  {
   "cell_type": "code",
   "execution_count": 1,
   "metadata": {},
   "outputs": [],
   "source": [
    "# uncomment below if not yet installed\n",
    "#!pip install --user geopandas\n",
    "#!pip install --user descartes"
   ]
  },
  {
   "cell_type": "code",
   "execution_count": 2,
   "metadata": {
    "scrolled": true
   },
   "outputs": [],
   "source": [
    "# import libraries\n",
    "import numpy as np\n",
    "import pandas as pd\n",
    "import geopandas as gpd\n",
    "\n",
    "import matplotlib.pyplot as plt\n",
    "import seaborn as sns\n",
    "\n",
    "import shapely.geometry as shp"
   ]
  },
  {
   "cell_type": "markdown",
   "metadata": {},
   "source": [
    "Import dataframes from csv files"
   ]
  },
  {
   "cell_type": "code",
   "execution_count": 3,
   "metadata": {
    "scrolled": true
   },
   "outputs": [],
   "source": [
    "yelp_df = pd.read_csv('data/cuisine.csv')\n",
    "fast_df = pd.read_csv('data/FastFoodRestaurants.csv')\n",
    "fast_ratings_df = pd.read_csv('data/FastRatings.csv')"
   ]
  },
  {
   "cell_type": "code",
   "execution_count": 40,
   "metadata": {},
   "outputs": [
    {
     "data": {
      "text/plain": [
       "(150980, 8)"
      ]
     },
     "execution_count": 40,
     "metadata": {},
     "output_type": "execute_result"
    }
   ],
   "source": [
    "test_df = pd.read_csv('data/YelpRestaurants.csv')\n",
    "test_df.shape"
   ]
  },
  {
   "cell_type": "code",
   "execution_count": 41,
   "metadata": {},
   "outputs": [],
   "source": [
    "test_df = test_df.drop_duplicates()"
   ]
  },
  {
   "cell_type": "code",
   "execution_count": 43,
   "metadata": {},
   "outputs": [
    {
     "data": {
      "text/html": [
       "<div>\n",
       "<style scoped>\n",
       "    .dataframe tbody tr th:only-of-type {\n",
       "        vertical-align: middle;\n",
       "    }\n",
       "\n",
       "    .dataframe tbody tr th {\n",
       "        vertical-align: top;\n",
       "    }\n",
       "\n",
       "    .dataframe thead th {\n",
       "        text-align: right;\n",
       "    }\n",
       "</style>\n",
       "<table border=\"1\" class=\"dataframe\">\n",
       "  <thead>\n",
       "    <tr style=\"text-align: right;\">\n",
       "      <th></th>\n",
       "      <th>Unnamed: 0</th>\n",
       "      <th>name</th>\n",
       "      <th>coordinates</th>\n",
       "      <th>category</th>\n",
       "      <th>location</th>\n",
       "      <th>rating</th>\n",
       "      <th>review_count</th>\n",
       "      <th>state</th>\n",
       "    </tr>\n",
       "  </thead>\n",
       "  <tbody>\n",
       "    <tr>\n",
       "      <td>0</td>\n",
       "      <td>0</td>\n",
       "      <td>El Barrio</td>\n",
       "      <td>{'latitude': 33.516636, 'longitude': -86.802849}</td>\n",
       "      <td>[{'alias': 'mexican', 'title': 'Mexican'}]</td>\n",
       "      <td>{'address1': '2211 2nd Ave N', 'address2': '',...</td>\n",
       "      <td>4.5</td>\n",
       "      <td>615</td>\n",
       "      <td>AL</td>\n",
       "    </tr>\n",
       "    <tr>\n",
       "      <td>1</td>\n",
       "      <td>1</td>\n",
       "      <td>Saw's Soul Kitchen</td>\n",
       "      <td>{'latitude': 33.52419, 'longitude': -86.77383}</td>\n",
       "      <td>[{'alias': 'bbq', 'title': 'Barbeque'}, {'alia...</td>\n",
       "      <td>{'address1': '215 41st St S', 'address2': None...</td>\n",
       "      <td>4.5</td>\n",
       "      <td>782</td>\n",
       "      <td>AL</td>\n",
       "    </tr>\n",
       "    <tr>\n",
       "      <td>2</td>\n",
       "      <td>2</td>\n",
       "      <td>Yo' Mama's</td>\n",
       "      <td>{'latitude': 33.51766, 'longitude': -86.80183}</td>\n",
       "      <td>[{'alias': 'newamerican', 'title': 'American (...</td>\n",
       "      <td>{'address1': '2328 2nd Ave N', 'address2': Non...</td>\n",
       "      <td>4.5</td>\n",
       "      <td>356</td>\n",
       "      <td>AL</td>\n",
       "    </tr>\n",
       "    <tr>\n",
       "      <td>3</td>\n",
       "      <td>3</td>\n",
       "      <td>Carrigan's Public House</td>\n",
       "      <td>{'latitude': 33.5171239295806, 'longitude': -8...</td>\n",
       "      <td>[{'alias': 'cocktailbars', 'title': 'Cocktail ...</td>\n",
       "      <td>{'address1': '2430 Morris Ave', 'address2': ''...</td>\n",
       "      <td>4.5</td>\n",
       "      <td>527</td>\n",
       "      <td>AL</td>\n",
       "    </tr>\n",
       "    <tr>\n",
       "      <td>4</td>\n",
       "      <td>4</td>\n",
       "      <td>Highlands Bar &amp; Grill</td>\n",
       "      <td>{'latitude': 33.500572, 'longitude': -86.795577}</td>\n",
       "      <td>[{'alias': 'southern', 'title': 'Southern'}, {...</td>\n",
       "      <td>{'address1': '2011 11th Ave S', 'address2': ''...</td>\n",
       "      <td>4.5</td>\n",
       "      <td>298</td>\n",
       "      <td>AL</td>\n",
       "    </tr>\n",
       "    <tr>\n",
       "      <td>...</td>\n",
       "      <td>...</td>\n",
       "      <td>...</td>\n",
       "      <td>...</td>\n",
       "      <td>...</td>\n",
       "      <td>...</td>\n",
       "      <td>...</td>\n",
       "      <td>...</td>\n",
       "      <td>...</td>\n",
       "    </tr>\n",
       "    <tr>\n",
       "      <td>150975</td>\n",
       "      <td>150975</td>\n",
       "      <td>Penny Ann's Cafe</td>\n",
       "      <td>{'latitude': 40.730936, 'longitude': -111.891403}</td>\n",
       "      <td>[{'alias': 'cafes', 'title': 'Cafes'}, {'alias...</td>\n",
       "      <td>{'address1': '1810 S Main St', 'address2': '',...</td>\n",
       "      <td>4.0</td>\n",
       "      <td>1077</td>\n",
       "      <td>UT</td>\n",
       "    </tr>\n",
       "    <tr>\n",
       "      <td>150976</td>\n",
       "      <td>150976</td>\n",
       "      <td>Valter's Osteria</td>\n",
       "      <td>{'latitude': 40.762516, 'longitude': -111.896202}</td>\n",
       "      <td>[{'alias': 'italian', 'title': 'Italian'}]</td>\n",
       "      <td>{'address1': '173 W Broadway', 'address2': Non...</td>\n",
       "      <td>4.5</td>\n",
       "      <td>618</td>\n",
       "      <td>UT</td>\n",
       "    </tr>\n",
       "    <tr>\n",
       "      <td>150977</td>\n",
       "      <td>150977</td>\n",
       "      <td>Whiskey Street</td>\n",
       "      <td>{'latitude': 40.7621595157823, 'longitude': -1...</td>\n",
       "      <td>[{'alias': 'lounges', 'title': 'Lounges'}, {'a...</td>\n",
       "      <td>{'address1': '323 S Main St', 'address2': '', ...</td>\n",
       "      <td>4.0</td>\n",
       "      <td>1065</td>\n",
       "      <td>UT</td>\n",
       "    </tr>\n",
       "    <tr>\n",
       "      <td>150978</td>\n",
       "      <td>150978</td>\n",
       "      <td>Zest Kitchen &amp; Bar</td>\n",
       "      <td>{'latitude': 40.7632679, 'longitude': -111.896...</td>\n",
       "      <td>[{'alias': 'gluten_free', 'title': 'Gluten-Fre...</td>\n",
       "      <td>{'address1': '275 S 200th W', 'address2': None...</td>\n",
       "      <td>4.5</td>\n",
       "      <td>782</td>\n",
       "      <td>UT</td>\n",
       "    </tr>\n",
       "    <tr>\n",
       "      <td>150979</td>\n",
       "      <td>150979</td>\n",
       "      <td>Purgatory</td>\n",
       "      <td>{'latitude': 40.7537909, 'longitude': -111.888...</td>\n",
       "      <td>[{'alias': 'bars', 'title': 'Bars'}, {'alias':...</td>\n",
       "      <td>{'address1': '62 E 700th S', 'address2': '', '...</td>\n",
       "      <td>4.5</td>\n",
       "      <td>686</td>\n",
       "      <td>UT</td>\n",
       "    </tr>\n",
       "  </tbody>\n",
       "</table>\n",
       "<p>150980 rows × 8 columns</p>\n",
       "</div>"
      ],
      "text/plain": [
       "        Unnamed: 0                     name  \\\n",
       "0                0                El Barrio   \n",
       "1                1       Saw's Soul Kitchen   \n",
       "2                2               Yo' Mama's   \n",
       "3                3  Carrigan's Public House   \n",
       "4                4    Highlands Bar & Grill   \n",
       "...            ...                      ...   \n",
       "150975      150975         Penny Ann's Cafe   \n",
       "150976      150976         Valter's Osteria   \n",
       "150977      150977           Whiskey Street   \n",
       "150978      150978       Zest Kitchen & Bar   \n",
       "150979      150979                Purgatory   \n",
       "\n",
       "                                              coordinates  \\\n",
       "0        {'latitude': 33.516636, 'longitude': -86.802849}   \n",
       "1          {'latitude': 33.52419, 'longitude': -86.77383}   \n",
       "2          {'latitude': 33.51766, 'longitude': -86.80183}   \n",
       "3       {'latitude': 33.5171239295806, 'longitude': -8...   \n",
       "4        {'latitude': 33.500572, 'longitude': -86.795577}   \n",
       "...                                                   ...   \n",
       "150975  {'latitude': 40.730936, 'longitude': -111.891403}   \n",
       "150976  {'latitude': 40.762516, 'longitude': -111.896202}   \n",
       "150977  {'latitude': 40.7621595157823, 'longitude': -1...   \n",
       "150978  {'latitude': 40.7632679, 'longitude': -111.896...   \n",
       "150979  {'latitude': 40.7537909, 'longitude': -111.888...   \n",
       "\n",
       "                                                 category  \\\n",
       "0              [{'alias': 'mexican', 'title': 'Mexican'}]   \n",
       "1       [{'alias': 'bbq', 'title': 'Barbeque'}, {'alia...   \n",
       "2       [{'alias': 'newamerican', 'title': 'American (...   \n",
       "3       [{'alias': 'cocktailbars', 'title': 'Cocktail ...   \n",
       "4       [{'alias': 'southern', 'title': 'Southern'}, {...   \n",
       "...                                                   ...   \n",
       "150975  [{'alias': 'cafes', 'title': 'Cafes'}, {'alias...   \n",
       "150976         [{'alias': 'italian', 'title': 'Italian'}]   \n",
       "150977  [{'alias': 'lounges', 'title': 'Lounges'}, {'a...   \n",
       "150978  [{'alias': 'gluten_free', 'title': 'Gluten-Fre...   \n",
       "150979  [{'alias': 'bars', 'title': 'Bars'}, {'alias':...   \n",
       "\n",
       "                                                 location  rating  \\\n",
       "0       {'address1': '2211 2nd Ave N', 'address2': '',...     4.5   \n",
       "1       {'address1': '215 41st St S', 'address2': None...     4.5   \n",
       "2       {'address1': '2328 2nd Ave N', 'address2': Non...     4.5   \n",
       "3       {'address1': '2430 Morris Ave', 'address2': ''...     4.5   \n",
       "4       {'address1': '2011 11th Ave S', 'address2': ''...     4.5   \n",
       "...                                                   ...     ...   \n",
       "150975  {'address1': '1810 S Main St', 'address2': '',...     4.0   \n",
       "150976  {'address1': '173 W Broadway', 'address2': Non...     4.5   \n",
       "150977  {'address1': '323 S Main St', 'address2': '', ...     4.0   \n",
       "150978  {'address1': '275 S 200th W', 'address2': None...     4.5   \n",
       "150979  {'address1': '62 E 700th S', 'address2': '', '...     4.5   \n",
       "\n",
       "        review_count state  \n",
       "0                615    AL  \n",
       "1                782    AL  \n",
       "2                356    AL  \n",
       "3                527    AL  \n",
       "4                298    AL  \n",
       "...              ...   ...  \n",
       "150975          1077    UT  \n",
       "150976           618    UT  \n",
       "150977          1065    UT  \n",
       "150978           782    UT  \n",
       "150979           686    UT  \n",
       "\n",
       "[150980 rows x 8 columns]"
      ]
     },
     "execution_count": 43,
     "metadata": {},
     "output_type": "execute_result"
    }
   ],
   "source": [
    "test_df.shape\n",
    "test_df"
   ]
  },
  {
   "cell_type": "markdown",
   "metadata": {},
   "source": [
    "# Data Cleaning"
   ]
  },
  {
   "cell_type": "markdown",
   "metadata": {},
   "source": [
    "Describe your data cleaning steps here."
   ]
  },
  {
   "cell_type": "code",
   "execution_count": 4,
   "metadata": {
    "scrolled": true
   },
   "outputs": [],
   "source": [
    "## YOUR CODE HERE\n",
    "## FEEL FREE TO ADD MULTIPLE CELLS PER SECTION"
   ]
  },
  {
   "cell_type": "code",
   "execution_count": 5,
   "metadata": {
    "scrolled": true
   },
   "outputs": [],
   "source": [
    "#turns all name to lowercase so capitalization does not affect analysis\n",
    "for i in yelp_df.index:\n",
    "    yelp_df.at[i,'name'] = yelp_df.at[i,'name'].lower()\n",
    "for j in fast_df.index:\n",
    "    fast_df.at[j, 'name'] = fast_df.at[j, 'name'].lower()\n",
    "for k in fast_ratings_df.index:\n",
    "    fast_ratings_df.at[k, 'name'] = fast_ratings_df.at[k, 'name'].lower()"
   ]
  },
  {
   "cell_type": "markdown",
   "metadata": {},
   "source": [
    "#### Clean data in the yelp_df"
   ]
  },
  {
   "cell_type": "code",
   "execution_count": 6,
   "metadata": {
    "scrolled": false
   },
   "outputs": [],
   "source": [
    "# drop duplicate rows if there are any\n",
    "yelp_df=yelp_df.drop_duplicates()\n",
    "yelp_df=yelp_df.reset_index(drop=True)"
   ]
  },
  {
   "cell_type": "code",
   "execution_count": 7,
   "metadata": {
    "scrolled": true
   },
   "outputs": [],
   "source": [
    "#Separate longitude and latitude information from coordinates column for the yelp_df\n",
    "yelp_df['latitude'] = np.nan\n",
    "yelp_df['longitude'] = np.nan\n",
    "for i in yelp_df.index:\n",
    "    coord = yelp_df.at[i, 'coordinates']\n",
    "    yelp_df.at[i, 'latitude'] = coord[coord.find(':') + 1 : coord.find(',')]\n",
    "    yelp_df.at[i, 'longitude'] = coord[coord.find(':', coord.find(',') + 1) + 1 : coord.find('}')]\n",
    "\n",
    "yelp_df = yelp_df.drop('coordinates',axis=1)"
   ]
  },
  {
   "cell_type": "code",
   "execution_count": 8,
   "metadata": {
    "scrolled": true
   },
   "outputs": [],
   "source": [
    "#Separate address information from location column for the yelp_df\n",
    "yelp_df['address'] = ''\n",
    "for i in yelp_df.index:\n",
    "    address = yelp_df.at[i, 'location']\n",
    "    yelp_df.at[i, 'address'] = address[address.find(':') + 3 : address.find(',') - 1]\n",
    "\n",
    "yelp_df = yelp_df.drop('location', axis=1)"
   ]
  },
  {
   "cell_type": "code",
   "execution_count": 9,
   "metadata": {},
   "outputs": [],
   "source": [
    "#Drop unnamed column from yelp_df\n",
    "yelp_df = yelp_df.drop(['Unnamed: 0'], axis=1)"
   ]
  },
  {
   "cell_type": "code",
   "execution_count": 10,
   "metadata": {},
   "outputs": [
    {
     "data": {
      "text/html": [
       "<div>\n",
       "<style scoped>\n",
       "    .dataframe tbody tr th:only-of-type {\n",
       "        vertical-align: middle;\n",
       "    }\n",
       "\n",
       "    .dataframe tbody tr th {\n",
       "        vertical-align: top;\n",
       "    }\n",
       "\n",
       "    .dataframe thead th {\n",
       "        text-align: right;\n",
       "    }\n",
       "</style>\n",
       "<table border=\"1\" class=\"dataframe\">\n",
       "  <thead>\n",
       "    <tr style=\"text-align: right;\">\n",
       "      <th></th>\n",
       "      <th>name</th>\n",
       "      <th>category</th>\n",
       "      <th>rating</th>\n",
       "      <th>review_count</th>\n",
       "      <th>state</th>\n",
       "      <th>latitude</th>\n",
       "      <th>longitude</th>\n",
       "      <th>address</th>\n",
       "    </tr>\n",
       "  </thead>\n",
       "  <tbody>\n",
       "    <tr>\n",
       "      <td>0</td>\n",
       "      <td>el barrio</td>\n",
       "      <td>[{'alias': 'mexican', 'title': 'Mexican'}]</td>\n",
       "      <td>4.5</td>\n",
       "      <td>618</td>\n",
       "      <td>AL</td>\n",
       "      <td>33.516636</td>\n",
       "      <td>-86.802849</td>\n",
       "      <td>2211 2nd Ave N</td>\n",
       "    </tr>\n",
       "    <tr>\n",
       "      <td>1</td>\n",
       "      <td>saw's soul kitchen</td>\n",
       "      <td>[{'alias': 'bbq', 'title': 'Barbeque'}, {'alia...</td>\n",
       "      <td>4.5</td>\n",
       "      <td>783</td>\n",
       "      <td>AL</td>\n",
       "      <td>33.524190</td>\n",
       "      <td>-86.773830</td>\n",
       "      <td>215 41st St S</td>\n",
       "    </tr>\n",
       "    <tr>\n",
       "      <td>2</td>\n",
       "      <td>yo' mama's</td>\n",
       "      <td>[{'alias': 'newamerican', 'title': 'American (...</td>\n",
       "      <td>4.5</td>\n",
       "      <td>355</td>\n",
       "      <td>AL</td>\n",
       "      <td>33.517660</td>\n",
       "      <td>-86.801830</td>\n",
       "      <td>2328 2nd Ave N</td>\n",
       "    </tr>\n",
       "    <tr>\n",
       "      <td>3</td>\n",
       "      <td>carrigan's public house</td>\n",
       "      <td>[{'alias': 'cocktailbars', 'title': 'Cocktail ...</td>\n",
       "      <td>4.5</td>\n",
       "      <td>527</td>\n",
       "      <td>AL</td>\n",
       "      <td>33.517124</td>\n",
       "      <td>-86.798646</td>\n",
       "      <td>2430 Morris Ave</td>\n",
       "    </tr>\n",
       "    <tr>\n",
       "      <td>4</td>\n",
       "      <td>highlands bar &amp; grill</td>\n",
       "      <td>[{'alias': 'southern', 'title': 'Southern'}, {...</td>\n",
       "      <td>4.5</td>\n",
       "      <td>304</td>\n",
       "      <td>AL</td>\n",
       "      <td>33.500572</td>\n",
       "      <td>-86.795577</td>\n",
       "      <td>2011 11th Ave S</td>\n",
       "    </tr>\n",
       "    <tr>\n",
       "      <td>...</td>\n",
       "      <td>...</td>\n",
       "      <td>...</td>\n",
       "      <td>...</td>\n",
       "      <td>...</td>\n",
       "      <td>...</td>\n",
       "      <td>...</td>\n",
       "      <td>...</td>\n",
       "      <td>...</td>\n",
       "    </tr>\n",
       "    <tr>\n",
       "      <td>11215</td>\n",
       "      <td>albany restaurant bar &amp; liquormart</td>\n",
       "      <td>[{'alias': 'bars', 'title': 'Bars'}, {'alias':...</td>\n",
       "      <td>3.5</td>\n",
       "      <td>115</td>\n",
       "      <td>WY</td>\n",
       "      <td>41.131947</td>\n",
       "      <td>-104.815178</td>\n",
       "      <td>1506 Capitol Ave</td>\n",
       "    </tr>\n",
       "    <tr>\n",
       "      <td>11216</td>\n",
       "      <td>wasabi japanese grill &amp; bar</td>\n",
       "      <td>[{'alias': 'japanese', 'title': 'Japanese'}, {...</td>\n",
       "      <td>3.5</td>\n",
       "      <td>118</td>\n",
       "      <td>WY</td>\n",
       "      <td>41.161270</td>\n",
       "      <td>-104.789620</td>\n",
       "      <td>4620 Grandview Ave</td>\n",
       "    </tr>\n",
       "    <tr>\n",
       "      <td>11217</td>\n",
       "      <td>l'osteria mondello</td>\n",
       "      <td>[{'alias': 'italian', 'title': 'Italian'}, {'a...</td>\n",
       "      <td>4.0</td>\n",
       "      <td>79</td>\n",
       "      <td>WY</td>\n",
       "      <td>41.159263</td>\n",
       "      <td>-104.804882</td>\n",
       "      <td>1507 Stillwater Ave</td>\n",
       "    </tr>\n",
       "    <tr>\n",
       "      <td>11218</td>\n",
       "      <td>destination taiwan</td>\n",
       "      <td>[{'alias': 'bubbletea', 'title': 'Bubble Tea'}...</td>\n",
       "      <td>5.0</td>\n",
       "      <td>16</td>\n",
       "      <td>WY</td>\n",
       "      <td>41.160490</td>\n",
       "      <td>-104.776100</td>\n",
       "      <td>2634 Dell Range Blvd</td>\n",
       "    </tr>\n",
       "    <tr>\n",
       "      <td>11219</td>\n",
       "      <td>mort's bagels</td>\n",
       "      <td>[{'alias': 'bagels', 'title': 'Bagels'}, {'ali...</td>\n",
       "      <td>4.5</td>\n",
       "      <td>46</td>\n",
       "      <td>WY</td>\n",
       "      <td>41.134658</td>\n",
       "      <td>-104.817705</td>\n",
       "      <td>1815 Carey Ave</td>\n",
       "    </tr>\n",
       "  </tbody>\n",
       "</table>\n",
       "<p>11220 rows × 8 columns</p>\n",
       "</div>"
      ],
      "text/plain": [
       "                                     name  \\\n",
       "0                               el barrio   \n",
       "1                      saw's soul kitchen   \n",
       "2                              yo' mama's   \n",
       "3                 carrigan's public house   \n",
       "4                   highlands bar & grill   \n",
       "...                                   ...   \n",
       "11215  albany restaurant bar & liquormart   \n",
       "11216         wasabi japanese grill & bar   \n",
       "11217                  l'osteria mondello   \n",
       "11218                  destination taiwan   \n",
       "11219                       mort's bagels   \n",
       "\n",
       "                                                category  rating  \\\n",
       "0             [{'alias': 'mexican', 'title': 'Mexican'}]     4.5   \n",
       "1      [{'alias': 'bbq', 'title': 'Barbeque'}, {'alia...     4.5   \n",
       "2      [{'alias': 'newamerican', 'title': 'American (...     4.5   \n",
       "3      [{'alias': 'cocktailbars', 'title': 'Cocktail ...     4.5   \n",
       "4      [{'alias': 'southern', 'title': 'Southern'}, {...     4.5   \n",
       "...                                                  ...     ...   \n",
       "11215  [{'alias': 'bars', 'title': 'Bars'}, {'alias':...     3.5   \n",
       "11216  [{'alias': 'japanese', 'title': 'Japanese'}, {...     3.5   \n",
       "11217  [{'alias': 'italian', 'title': 'Italian'}, {'a...     4.0   \n",
       "11218  [{'alias': 'bubbletea', 'title': 'Bubble Tea'}...     5.0   \n",
       "11219  [{'alias': 'bagels', 'title': 'Bagels'}, {'ali...     4.5   \n",
       "\n",
       "       review_count state   latitude   longitude               address  \n",
       "0               618    AL  33.516636  -86.802849        2211 2nd Ave N  \n",
       "1               783    AL  33.524190  -86.773830         215 41st St S  \n",
       "2               355    AL  33.517660  -86.801830        2328 2nd Ave N  \n",
       "3               527    AL  33.517124  -86.798646       2430 Morris Ave  \n",
       "4               304    AL  33.500572  -86.795577       2011 11th Ave S  \n",
       "...             ...   ...        ...         ...                   ...  \n",
       "11215           115    WY  41.131947 -104.815178      1506 Capitol Ave  \n",
       "11216           118    WY  41.161270 -104.789620    4620 Grandview Ave  \n",
       "11217            79    WY  41.159263 -104.804882   1507 Stillwater Ave  \n",
       "11218            16    WY  41.160490 -104.776100  2634 Dell Range Blvd  \n",
       "11219            46    WY  41.134658 -104.817705        1815 Carey Ave  \n",
       "\n",
       "[11220 rows x 8 columns]"
      ]
     },
     "execution_count": 10,
     "metadata": {},
     "output_type": "execute_result"
    }
   ],
   "source": [
    "yelp_df"
   ]
  },
  {
   "cell_type": "markdown",
   "metadata": {},
   "source": [
    "#### List of top ten types of cuisine\n",
    "We will be analyzing the ratings for the tope ten types of cuisine in the United States, along with American food.\n",
    "source: https://www.thinktasty.com/the-most-popular-cuisines-in-the-united-states/"
   ]
  },
  {
   "cell_type": "code",
   "execution_count": 11,
   "metadata": {},
   "outputs": [],
   "source": [
    "cuisine = ['american', 'mexican', 'thai', 'greek', 'indian', 'japanese', \n",
    "           'spanish', 'chinese', 'french', 'italian', 'mediterranean']"
   ]
  },
  {
   "cell_type": "code",
   "execution_count": 12,
   "metadata": {},
   "outputs": [],
   "source": [
    "def find_avg_rating(category):\n",
    "    cat_list = []\n",
    "    for i in yelp_df.index:\n",
    "        is_cat = category in yelp_df['category'].iloc[i]\n",
    "        cat_list.append(is_cat)\n",
    "    temp = yelp_df.assign(cat_clean = cat_list)\n",
    "    temp_df = temp[temp['cat_clean'].values==True]\n",
    "    return temp_df.groupby('state').rating.mean()\n",
    "    \n",
    "all_cuisine_ratings = {}\n",
    "for cuis in cuisine:\n",
    "    all_cuisine_ratings[cuis] = find_avg_rating(cuis)"
   ]
  },
  {
   "cell_type": "code",
   "execution_count": 13,
   "metadata": {},
   "outputs": [
    {
     "data": {
      "text/html": [
       "<div>\n",
       "<style scoped>\n",
       "    .dataframe tbody tr th:only-of-type {\n",
       "        vertical-align: middle;\n",
       "    }\n",
       "\n",
       "    .dataframe tbody tr th {\n",
       "        vertical-align: top;\n",
       "    }\n",
       "\n",
       "    .dataframe thead th {\n",
       "        text-align: right;\n",
       "    }\n",
       "</style>\n",
       "<table border=\"1\" class=\"dataframe\">\n",
       "  <thead>\n",
       "    <tr style=\"text-align: right;\">\n",
       "      <th></th>\n",
       "      <th>state</th>\n",
       "      <th>american</th>\n",
       "      <th>mexican</th>\n",
       "      <th>thai</th>\n",
       "      <th>greek</th>\n",
       "      <th>indian</th>\n",
       "      <th>japanese</th>\n",
       "      <th>spanish</th>\n",
       "      <th>chinese</th>\n",
       "      <th>french</th>\n",
       "      <th>italian</th>\n",
       "      <th>mediterranean</th>\n",
       "    </tr>\n",
       "  </thead>\n",
       "  <tbody>\n",
       "    <tr>\n",
       "      <td>0</td>\n",
       "      <td>AL</td>\n",
       "      <td>4.500000</td>\n",
       "      <td>4.5</td>\n",
       "      <td>4.5</td>\n",
       "      <td>NaN</td>\n",
       "      <td>NaN</td>\n",
       "      <td>NaN</td>\n",
       "      <td>NaN</td>\n",
       "      <td>NaN</td>\n",
       "      <td>4.500000</td>\n",
       "      <td>4.50</td>\n",
       "      <td>NaN</td>\n",
       "    </tr>\n",
       "    <tr>\n",
       "      <td>1</td>\n",
       "      <td>AK</td>\n",
       "      <td>4.071429</td>\n",
       "      <td>NaN</td>\n",
       "      <td>NaN</td>\n",
       "      <td>NaN</td>\n",
       "      <td>NaN</td>\n",
       "      <td>4.5</td>\n",
       "      <td>NaN</td>\n",
       "      <td>NaN</td>\n",
       "      <td>NaN</td>\n",
       "      <td>NaN</td>\n",
       "      <td>4.25</td>\n",
       "    </tr>\n",
       "    <tr>\n",
       "      <td>2</td>\n",
       "      <td>AZ</td>\n",
       "      <td>4.000000</td>\n",
       "      <td>4.5</td>\n",
       "      <td>4.5</td>\n",
       "      <td>NaN</td>\n",
       "      <td>NaN</td>\n",
       "      <td>4.5</td>\n",
       "      <td>NaN</td>\n",
       "      <td>NaN</td>\n",
       "      <td>NaN</td>\n",
       "      <td>4.50</td>\n",
       "      <td>NaN</td>\n",
       "    </tr>\n",
       "    <tr>\n",
       "      <td>3</td>\n",
       "      <td>OK</td>\n",
       "      <td>4.363636</td>\n",
       "      <td>4.0</td>\n",
       "      <td>5.0</td>\n",
       "      <td>NaN</td>\n",
       "      <td>NaN</td>\n",
       "      <td>NaN</td>\n",
       "      <td>NaN</td>\n",
       "      <td>NaN</td>\n",
       "      <td>NaN</td>\n",
       "      <td>4.25</td>\n",
       "      <td>NaN</td>\n",
       "    </tr>\n",
       "    <tr>\n",
       "      <td>4</td>\n",
       "      <td>CA</td>\n",
       "      <td>4.125000</td>\n",
       "      <td>4.5</td>\n",
       "      <td>NaN</td>\n",
       "      <td>NaN</td>\n",
       "      <td>NaN</td>\n",
       "      <td>4.5</td>\n",
       "      <td>NaN</td>\n",
       "      <td>NaN</td>\n",
       "      <td>4.166667</td>\n",
       "      <td>4.25</td>\n",
       "      <td>NaN</td>\n",
       "    </tr>\n",
       "  </tbody>\n",
       "</table>\n",
       "</div>"
      ],
      "text/plain": [
       "  state  american  mexican  thai  greek  indian  japanese  spanish  chinese  \\\n",
       "0    AL  4.500000      4.5   4.5    NaN     NaN       NaN      NaN      NaN   \n",
       "1    AK  4.071429      NaN   NaN    NaN     NaN       4.5      NaN      NaN   \n",
       "2    AZ  4.000000      4.5   4.5    NaN     NaN       4.5      NaN      NaN   \n",
       "3    OK  4.363636      4.0   5.0    NaN     NaN       NaN      NaN      NaN   \n",
       "4    CA  4.125000      4.5   NaN    NaN     NaN       4.5      NaN      NaN   \n",
       "\n",
       "     french  italian  mediterranean  \n",
       "0  4.500000     4.50            NaN  \n",
       "1       NaN      NaN           4.25  \n",
       "2       NaN     4.50            NaN  \n",
       "3       NaN     4.25            NaN  \n",
       "4  4.166667     4.25            NaN  "
      ]
     },
     "execution_count": 13,
     "metadata": {},
     "output_type": "execute_result"
    }
   ],
   "source": [
    "states = list(yelp_df['state'].unique())\n",
    "\n",
    "def format_avg_rating(category):\n",
    "    ratings = []\n",
    "    for state in states:\n",
    "        try:\n",
    "            ratings.append(category[state])\n",
    "        except:\n",
    "            ratings.append(np.nan)\n",
    "    return ratings\n",
    "\n",
    "american_ratings = format_avg_rating(all_cuisine_ratings['american'])\n",
    "mexican_ratings = format_avg_rating(all_cuisine_ratings['mexican'])\n",
    "thai_ratings = format_avg_rating(all_cuisine_ratings['thai'])\n",
    "greek_ratings = format_avg_rating(all_cuisine_ratings['greek'])\n",
    "indian_ratings = format_avg_rating(all_cuisine_ratings['indian'])\n",
    "japanese_ratings = format_avg_rating(all_cuisine_ratings['japanese'])\n",
    "spanish_ratings = format_avg_rating(all_cuisine_ratings['spanish'])\n",
    "chinese_ratings = format_avg_rating(all_cuisine_ratings['chinese'])\n",
    "french_ratings = format_avg_rating(all_cuisine_ratings['french'])\n",
    "italian_ratings = format_avg_rating(all_cuisine_ratings['italian'])\n",
    "med_ratings = format_avg_rating(all_cuisine_ratings['mediterranean'])\n",
    "\n",
    "avg_ratings_data = {'state': states, 'american': american_ratings, 'mexican': mexican_ratings,\n",
    "                   'thai': thai_ratings, 'greek': greek_ratings, 'indian': indian_ratings,\n",
    "                   'japanese': japanese_ratings, 'spanish': spanish_ratings, 'chinese': chinese_ratings,\n",
    "                   'french': french_ratings, 'italian': italian_ratings, 'mediterranean': med_ratings}\n",
    "avg_ratings_df = pd.DataFrame(data=avg_ratings_data)\n",
    "avg_ratings_df.head()"
   ]
  },
  {
   "cell_type": "code",
   "execution_count": 14,
   "metadata": {},
   "outputs": [
    {
     "data": {
      "text/plain": [
       "4.5"
      ]
     },
     "execution_count": 14,
     "metadata": {},
     "output_type": "execute_result"
    }
   ],
   "source": [
    "# DATA CLEANING MEXICAN RESTAURANTS\n",
    "mex_list = []\n",
    "for i in yelp_df.index:\n",
    "    is_mex = 'mexican' in yelp_df['category'].iloc[i]\n",
    "    mex_list.append(is_mex)\n",
    "temp = yelp_df.assign(mex=mex_list)\n",
    "mexican = temp[temp['mex'].values==True]\n",
    "#mexican.groupby('state').sum()\n",
    "mexican_rating = mexican.groupby('state').rating.mean()\n",
    "mexican_rating['AL']\n",
    "#mexican.drop('mex', axis=1)"
   ]
  },
  {
   "cell_type": "code",
   "execution_count": 15,
   "metadata": {},
   "outputs": [],
   "source": [
    "#DATA CLEANING for Japanese restaurants\n",
    "jap_list = []\n",
    "for i in yelp_df.index:\n",
    "    is_jap = 'japanese' in yelp_df['category'].iloc[i]\n",
    "    jap_list.append(is_jap)\n",
    "temp = yelp_df.assign(jap=jap_list)\n",
    "japanese = temp[temp['jap'].values==True]\n",
    "\n",
    "jap_rating = japanese.groupby('state').rating.mean()\n",
    "#jap_rating"
   ]
  },
  {
   "cell_type": "code",
   "execution_count": 16,
   "metadata": {},
   "outputs": [],
   "source": [
    "#DATA CLEANING for Italian restaurants\n",
    "ital_list = []\n",
    "for i in yelp_df.index:\n",
    "    is_ital = 'italian' in yelp_df['category'].iloc[i]\n",
    "    ital_list.append(is_ital)\n",
    "temp = yelp_df.assign(ital=ital_list)\n",
    "italian = temp[temp['ital'].values==True]\n",
    "ital_rating = italian.groupby('state').rating.mean()\n",
    "#ital_rating"
   ]
  },
  {
   "cell_type": "code",
   "execution_count": 17,
   "metadata": {},
   "outputs": [],
   "source": [
    "#DATA CLEANING for chinese restaurants\n",
    "chin_list = []\n",
    "for i in yelp_df.index:\n",
    "    is_chin = 'chinese' in yelp_df['category'].iloc[i]\n",
    "    chin_list.append(is_chin)\n",
    "temp = yelp_df.assign(chin=chin_list)\n",
    "chinese = temp[temp['chin'].values==True]\n",
    "\n",
    "chinese_rating = chinese.groupby('state').rating.mean()\n",
    "#chinese_rating"
   ]
  },
  {
   "cell_type": "code",
   "execution_count": 18,
   "metadata": {},
   "outputs": [],
   "source": [
    "#DATA CLEANING for traditional American restaurants\n",
    "amer_trad_list = []\n",
    "for i in yelp_df.index:\n",
    "    is_amer_trad = 'American (Traditional)' in yelp_df['category'].iloc[i]\n",
    "    amer_trad_list.append(is_amer_trad)\n",
    "temp = yelp_df.assign(amer=amer_trad_list)\n",
    "american_trad = temp[temp['amer'].values==True]\n",
    "\n",
    "american_trad_rating = american_trad.groupby('state').rating.mean()\n",
    "#american_trad_rating"
   ]
  },
  {
   "cell_type": "code",
   "execution_count": 19,
   "metadata": {},
   "outputs": [],
   "source": [
    "#DATA CLEANING for new American restaurants\n",
    "amer_new_list = []\n",
    "for i in yelp_df.index:\n",
    "    is_amer_new = 'American (New)' in yelp_df['category'].iloc[i]\n",
    "    amer_new_list.append(is_amer_new)\n",
    "temp = yelp_df.assign(amer=amer_new_list)\n",
    "american_new = temp[temp['amer'].values==True]\n",
    "\n",
    "american_new_rating = american_new.groupby('state').rating.mean()\n",
    "#american_new_rating"
   ]
  },
  {
   "cell_type": "markdown",
   "metadata": {},
   "source": [
    "#### Clean data in the fast_ratings_df"
   ]
  },
  {
   "cell_type": "code",
   "execution_count": 20,
   "metadata": {},
   "outputs": [],
   "source": [
    "# drop duplicate rows if there are any\n",
    "fast_ratings_df=fast_ratings_df.drop_duplicates()\n",
    "fast_ratings_df=fast_ratings_df.reset_index(drop=True)"
   ]
  },
  {
   "cell_type": "code",
   "execution_count": 21,
   "metadata": {},
   "outputs": [
    {
     "data": {
      "text/plain": [
       "array(['NY', 'OH', 'KY', 'SC', 'AR', 'IN', 'OK', 'LA', 'ND', 'TX', 'MI',\n",
       "       'MO', 'TN', 'NC', 'GA', 'UT', 'WI', 'MS', 'WA', 'NE', 'AL', 'WV',\n",
       "       'VT', 'AZ', 'KS', 'MN', 'SD', 'NM', 'OR', 'ME', 'IA', 'WY', 'IL',\n",
       "       'VA', 'MT', 'ID', 'PA', 'NJ', 'MD', 'FL', 'CA', 'MA', 'CO', 'NV',\n",
       "       'NH', 'CT', 'DE', 'HI'], dtype=object)"
      ]
     },
     "execution_count": 21,
     "metadata": {},
     "output_type": "execute_result"
    }
   ],
   "source": [
    "to_drop = []\n",
    "for i in fast_ratings_df.index:\n",
    "    if (\"'country': 'US'\" in fast_ratings_df['location'][i]):\n",
    "        continue\n",
    "    else:\n",
    "        to_drop.append(i)\n",
    "fast_ratings_df = fast_ratings_df.drop(to_drop)\n",
    "fast_ratings_df['state'].unique()"
   ]
  },
  {
   "cell_type": "code",
   "execution_count": 22,
   "metadata": {},
   "outputs": [
    {
     "data": {
      "text/plain": [
       "array(['NY', 'OH', 'KY', 'SC', 'AR', 'IN', 'OK', 'LA', 'ND', 'TX', 'MI',\n",
       "       'MO', 'TN', 'NC', 'GA', 'UT', 'WI', 'MS', 'WA', 'NE', 'AL', 'WV',\n",
       "       'VT', 'AZ', 'KS', 'MN', 'SD', 'NM', 'OR', 'ME', 'IA', 'WY', 'IL',\n",
       "       'VA', 'MT', 'ID', 'PA', 'NJ', 'MD', 'FL', 'CA', 'MA', 'CO', 'NV',\n",
       "       'NH', 'CT', 'DE', 'HI'], dtype=object)"
      ]
     },
     "execution_count": 22,
     "metadata": {},
     "output_type": "execute_result"
    }
   ],
   "source": [
    "fast_ratings_df['state'].unique()"
   ]
  },
  {
   "cell_type": "code",
   "execution_count": 23,
   "metadata": {
    "scrolled": true
   },
   "outputs": [],
   "source": [
    "#Separate longitude and latitude information from coordinates column for the fast_ratings_df\n",
    "fast_ratings_df['latitude'] = np.nan\n",
    "fast_ratings_df['longitude'] = np.nan\n",
    "for i in fast_ratings_df.index:\n",
    "    coord = fast_ratings_df.at[i, 'coordinates']\n",
    "    fast_ratings_df.at[i, 'latitude'] = coord[coord.find(':') + 1 : coord.find(',')]\n",
    "    fast_ratings_df.at[i, 'longitude'] = coord[coord.find(':', coord.find(',') + 1) + 1 : coord.find('}')]\n",
    "\n",
    "fast_ratings_df = fast_ratings_df.drop('coordinates',axis=1)"
   ]
  },
  {
   "cell_type": "code",
   "execution_count": 24,
   "metadata": {
    "scrolled": true
   },
   "outputs": [],
   "source": [
    "#Separate address information from location column for the fast_ratings_df\n",
    "fast_ratings_df['address'] = ''\n",
    "for i in fast_ratings_df.index:\n",
    "    address = fast_ratings_df.at[i, 'location']\n",
    "    fast_ratings_df.at[i, 'address'] = address[address.find(':') + 3 : address.find(',') - 1]\n",
    "\n",
    "fast_ratings_df = fast_ratings_df.drop('location', axis=1)"
   ]
  },
  {
   "cell_type": "code",
   "execution_count": 25,
   "metadata": {},
   "outputs": [],
   "source": [
    "# Drop unnamed column from fast_ratings_df\n",
    "fast_ratings_df = fast_ratings_df.drop(['Unnamed: 0', 'Unnamed: 0.1'], axis=1)"
   ]
  },
  {
   "cell_type": "markdown",
   "metadata": {},
   "source": [
    "# Data Analysis & Results"
   ]
  },
  {
   "cell_type": "markdown",
   "metadata": {},
   "source": [
    "Include cells that describe the steps in your data analysis."
   ]
  },
  {
   "cell_type": "code",
   "execution_count": 26,
   "metadata": {
    "scrolled": true
   },
   "outputs": [
    {
     "data": {
      "text/plain": [
       "(11220, 8)"
      ]
     },
     "execution_count": 26,
     "metadata": {},
     "output_type": "execute_result"
    }
   ],
   "source": [
    "# there are ~11k restaurants in our general df\n",
    "yelp_df.shape"
   ]
  },
  {
   "cell_type": "code",
   "execution_count": 27,
   "metadata": {
    "scrolled": true
   },
   "outputs": [
    {
     "data": {
      "text/plain": [
       "(7988, 8)"
      ]
     },
     "execution_count": 27,
     "metadata": {},
     "output_type": "execute_result"
    }
   ],
   "source": [
    "# there are ~4k fast food restaurants in our fast food df\n",
    "fast_ratings_df.shape "
   ]
  },
  {
   "cell_type": "code",
   "execution_count": 28,
   "metadata": {
    "scrolled": true
   },
   "outputs": [
    {
     "data": {
      "text/plain": [
       "array(['AL', 'AK', 'AZ', 'OK', 'CA', 'CO', 'CT', 'DC', 'KS', 'FL', 'GA',\n",
       "       'HI', 'ID', 'IL', 'IN', 'IA', 'KY', 'ME', 'MD', 'MA', 'MI', 'MN',\n",
       "       'MS', 'MO', 'MT', 'NE', 'NV', 'NH', 'NJ', 'NM', 'NY', 'NC', 'ND',\n",
       "       'OH', 'OR', 'PA', 'RI', 'SC', 'SD', 'TN', 'TX', 'UT', 'VT', 'VA',\n",
       "       'WA', 'WV', 'WI', 'WY'], dtype=object)"
      ]
     },
     "execution_count": 28,
     "metadata": {},
     "output_type": "execute_result"
    }
   ],
   "source": [
    "# Our general df includes 48 states, and is missing AR and DE\n",
    "yelp_df[\"state\"].unique() "
   ]
  },
  {
   "cell_type": "code",
   "execution_count": 29,
   "metadata": {
    "scrolled": true
   },
   "outputs": [
    {
     "data": {
      "text/plain": [
       "array(['NY', 'OH', 'KY', 'SC', 'AR', 'IN', 'OK', 'LA', 'ND', 'TX', 'MI',\n",
       "       'MO', 'TN', 'NC', 'GA', 'UT', 'WI', 'MS', 'WA', 'NE', 'AL', 'WV',\n",
       "       'VT', 'AZ', 'KS', 'MN', 'SD', 'NM', 'OR', 'ME', 'IA', 'WY', 'IL',\n",
       "       'VA', 'MT', 'ID', 'PA', 'NJ', 'MD', 'FL', 'CA', 'MA', 'CO', 'NV',\n",
       "       'NH', 'CT', 'DE', 'HI'], dtype=object)"
      ]
     },
     "execution_count": 29,
     "metadata": {},
     "output_type": "execute_result"
    }
   ],
   "source": [
    "# our fastfood df includes 48 states, missing AK and RI\n",
    "fast_ratings_df[\"state\"].unique()"
   ]
  },
  {
   "cell_type": "code",
   "execution_count": 30,
   "metadata": {},
   "outputs": [
    {
     "data": {
      "text/plain": [
       "KY    844\n",
       "TX    543\n",
       "MO    502\n",
       "IN    486\n",
       "OH    432\n",
       "AL    345\n",
       "NC    335\n",
       "VA    320\n",
       "IL    313\n",
       "SC    277\n",
       "GA    252\n",
       "AR    248\n",
       "OK    241\n",
       "MS    219\n",
       "CA    217\n",
       "LA    212\n",
       "TN    183\n",
       "IA    181\n",
       "WV    161\n",
       "NE    152\n",
       "PA    148\n",
       "NM    122\n",
       "SD    114\n",
       "WI    109\n",
       "KS    105\n",
       "UT     96\n",
       "AZ     87\n",
       "MN     84\n",
       "NY     75\n",
       "CO     64\n",
       "FL     63\n",
       "MI     63\n",
       "WY     46\n",
       "ND     45\n",
       "MD     43\n",
       "WA     38\n",
       "ID     36\n",
       "NV     36\n",
       "ME     32\n",
       "NJ     27\n",
       "DE     24\n",
       "OR     15\n",
       "MT     14\n",
       "NH     11\n",
       "VT     10\n",
       "MA      8\n",
       "CT      8\n",
       "HI      2\n",
       "Name: state, dtype: int64"
      ]
     },
     "execution_count": 30,
     "metadata": {},
     "output_type": "execute_result"
    }
   ],
   "source": [
    "fast_ratings_df[\"state\"].value_counts()"
   ]
  },
  {
   "cell_type": "code",
   "execution_count": 31,
   "metadata": {
    "scrolled": true
   },
   "outputs": [
    {
     "data": {
      "text/plain": [
       "(0, 8)"
      ]
     },
     "execution_count": 31,
     "metadata": {},
     "output_type": "execute_result"
    }
   ],
   "source": [
    "# our general df has no null values!\n",
    "null_rows = yelp_df.isnull().any(axis=1)\n",
    "yelp_df[null_rows].shape"
   ]
  },
  {
   "cell_type": "code",
   "execution_count": 32,
   "metadata": {
    "scrolled": true
   },
   "outputs": [
    {
     "data": {
      "text/plain": [
       "(0, 8)"
      ]
     },
     "execution_count": 32,
     "metadata": {},
     "output_type": "execute_result"
    }
   ],
   "source": [
    "# our fast food df has no null values!\n",
    "null_rows = fast_ratings_df.isnull().any(axis=1)\n",
    "fast_ratings_df[null_rows].shape"
   ]
  },
  {
   "cell_type": "code",
   "execution_count": 33,
   "metadata": {
    "scrolled": true
   },
   "outputs": [
    {
     "data": {
      "image/png": "[encoded data removed]",
      "text/plain": [
       "<Figure size 432x288 with 1 Axes>"
      ]
     },
     "metadata": {
      "needs_background": "light"
     },
     "output_type": "display_data"
    }
   ],
   "source": [
    "# Let's start by plotting histograms of general food rating and fast food rating\n",
    "sns.distplot(yelp_df['rating'], kde=False, bins=5);\n",
    "\n",
    "f1 = plt.gcf()"
   ]
  },
  {
   "cell_type": "code",
   "execution_count": 34,
   "metadata": {
    "scrolled": true
   },
   "outputs": [
    {
     "data": {
      "text/plain": [
       "array([4.5, 4. , 5. , 3.5, 3. ])"
      ]
     },
     "execution_count": 34,
     "metadata": {},
     "output_type": "execute_result"
    }
   ],
   "source": [
    "# There are 5 possible ratings in our data set: 3, 3.5, 4, 4.5, and 5\n",
    "yelp_df[\"rating\"].unique()"
   ]
  },
  {
   "cell_type": "code",
   "execution_count": 35,
   "metadata": {
    "scrolled": true
   },
   "outputs": [
    {
     "data": {
      "text/plain": [
       "count    11220.000000\n",
       "mean         4.350490\n",
       "std          0.296148\n",
       "min          3.000000\n",
       "25%          4.000000\n",
       "50%          4.500000\n",
       "75%          4.500000\n",
       "max          5.000000\n",
       "Name: rating, dtype: float64"
      ]
     },
     "execution_count": 35,
     "metadata": {},
     "output_type": "execute_result"
    }
   ],
   "source": [
    "# It appears that our rating data is normal-ish and is skewed right. We have a mean of 4.358 and an std of .294.\n",
    "yelp_df[\"rating\"].describe()"
   ]
  },
  {
   "cell_type": "markdown",
   "metadata": {},
   "source": [
    "Note that the fast food dataset doesn't have a rating column. We will need to merge the two datasets ..."
   ]
  },
  {
   "cell_type": "code",
   "execution_count": 36,
   "metadata": {
    "scrolled": true
   },
   "outputs": [],
   "source": [
    "# NOTE: do we need this cell anymore since we now have fast food ratings from fast_ratings_df?\n",
    "# To get the ratings of the data found in the fast food dataset, we merge the yelp dataset (which has the ratings) with the fast food dataset \n",
    "# merged_df = fast_df\n",
    "# merged_df['ratings'] = np.nan\n",
    "#for i in fast_df.index:\n",
    "#    for j in yelp_df.index:\n",
    "#        if merged_df.at[i, 'name'] == yelp_df.at[j, 'name']:\n",
    "#            if merged_df.at[i, 'address'] == yelp_df.at[j, 'address']:\n",
    "#                merged_df.iloc[i].ratings = yelp_df.iloc[j].rating\n",
    "\n",
    "#merged_df.dropna()\n",
    "\n",
    "#print(merged_df)"
   ]
  },
  {
   "cell_type": "code",
   "execution_count": 37,
   "metadata": {
    "scrolled": true
   },
   "outputs": [],
   "source": [
    "#TODO: Explain what the merged df shows/means"
   ]
  },
  {
   "cell_type": "code",
   "execution_count": 38,
   "metadata": {
    "scrolled": true
   },
   "outputs": [],
   "source": [
    "# TODO: describe the lattitude/longitude data to see if there is any bias in geography for our 2 datasets"
   ]
  },
  {
   "cell_type": "code",
   "execution_count": 39,
   "metadata": {
    "scrolled": true
   },
   "outputs": [],
   "source": [
    "# TODO: maybe move the null row removal into the data cleanup section rather than analysis"
   ]
  },
  {
   "cell_type": "markdown",
   "metadata": {},
   "source": [
    "### Fast Food Ratings Analysis"
   ]
  },
  {
   "cell_type": "code",
   "execution_count": null,
   "metadata": {},
   "outputs": [],
   "source": []
  },
  {
   "cell_type": "markdown",
   "metadata": {},
   "source": [
    "# Ethics & Privacy"
   ]
  },
  {
   "cell_type": "markdown",
   "metadata": {},
   "source": [
    "In order to gain access to the data, we utilized several Yelp API keys at no charge. Anyone is able to  obtain the available data on Yelp, therefore we do have permission to use it. The API however does not return every business available, only the businesses that have Yelp-user generated content. In addition, we only found data for 48 states in which we’re missing the data for Arizona and Delaware. This is concerning because it excludes these populations. In addition, it seems that the restaurants listed in the yelp dataset do not include all ethnic groups (ex: there are no Korean restaurants listed). Furthermore, there are biases in our dataset because the data (reviews) is manipulated by Yelp and does not reflect the overall ratings of everyone who has written a review. In terms of privacy, our project should not have any major concerns as we are using information that has been released to the public, all which do not contain personal information. The data we are working with are on businesses, such as their location and amount of reviews. \n",
    " \n",
    "While our dataset has a potential bias, we have decided to continue on with using it. Our dataset may be missing 2 states, but we felt that missing 2 out of 50 states would not significantly change our results and analysis. One thing we must note is that we would be unable to predict the success of a restaurant if the location given were to be in Arizona or Delaware. We must also note that our prediction of a restaurant's success may be inaccurate for restaurants who identify as any of the ethnic groups not represented by the dataset. We have also decided to overlook Yelp’s manipulation of the reviews because it is also a factor that plays a role in the success or failure of a business, as mentioned in the Background and Prior Work section. In addition, there is little we can do about Yelp’s manipulation of data, as we only have permission to data that Yelp has legally consented to publicizing. \n"
   ]
  },
  {
   "cell_type": "markdown",
   "metadata": {},
   "source": [
    "# Conclusion & Discussion"
   ]
  },
  {
   "cell_type": "markdown",
   "metadata": {},
   "source": [
    "*Fill in your discussion information here*"
   ]
  },
  {
   "cell_type": "markdown",
   "metadata": {},
   "source": [
    "# Team Contributions"
   ]
  },
  {
   "cell_type": "markdown",
   "metadata": {},
   "source": []
  }
 ],
 "metadata": {
  "kernelspec": {
   "display_name": "Python 3",
   "language": "python",
   "name": "python3"
  },
  "language_info": {
   "codemirror_mode": {
    "name": "ipython",
    "version": 3
   },
   "file_extension": ".py",
   "mimetype": "text/x-python",
   "name": "python",
   "nbconvert_exporter": "python",
   "pygments_lexer": "ipython3",
   "version": "3.7.4"
  }
 },
 "nbformat": 4,
 "nbformat_minor": 2
}
