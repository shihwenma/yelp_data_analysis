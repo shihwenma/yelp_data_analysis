{
 "cells": [
  {
   "cell_type": "markdown",
   "metadata": {},
   "source": [
    "# COGS 108 - Final Project "
   ]
  },
  {
   "cell_type": "markdown",
   "metadata": {},
   "source": [
    "## Permissions"
   ]
  },
  {
   "cell_type": "markdown",
   "metadata": {},
   "source": [
    "Place an `X` in the appropriate bracket below to specify if you would like your group's project to be made available to the public. (Note that PIDs will be scraped from the public submission, but student names will be included.)\n",
    "\n",
    "* [X] YES - make available\n",
    "* [  ] NO - keep private"
   ]
  },
  {
   "cell_type": "markdown",
   "metadata": {},
   "source": [
    "# Overview"
   ]
  },
  {
   "cell_type": "markdown",
   "metadata": {},
   "source": [
    "Yelp has normalized the reviewing of businesses. This system has benefited its users by allowing them to read on other people’s experiences and opinions, along with updating them on the business’s amenities. This can be either problematic or valuable to businesses. It allows them to receive feedback on how to improve their business and either attracts or dissuades potential customers. In the modern day, Yelp tends to play a factor in and reflect a business’s success. Our project analyzes Yelp data to determine the effects of a business’s location on a business’s success (based off the area and environment it is in). This analysis is used to determine the likelihood of a business’s success based on the location it is set up in. "
   ]
  },
  {
   "cell_type": "markdown",
   "metadata": {},
   "source": [
    "# Names\n",
    "\n",
    "- Shih Wen Ma\n",
    "- Andrea Diaz\n",
    "- Viet Nguyen\n",
    "- Manda Tran\n",
    "- Matthew Luu"
   ]
  },
  {
   "cell_type": "markdown",
   "metadata": {},
   "source": [
    "# Group Members IDs\n",
    "\n",
    "- A15469802\n",
    "- A15084975\n",
    "- A13702483\n",
    "- A14452168\n",
    "- A16067866"
   ]
  },
  {
   "cell_type": "markdown",
   "metadata": {},
   "source": [
    "# Research Question"
   ]
  },
  {
   "cell_type": "markdown",
   "metadata": {},
   "source": [
    "How does the state a restaurant is located in (specifically the United States) affect the success of restaurants? Can you predict a restaurant’s success based on the location?"
   ]
  },
  {
   "cell_type": "markdown",
   "metadata": {},
   "source": [
    "## Background and Prior Work"
   ]
  },
  {
   "cell_type": "markdown",
   "metadata": {},
   "source": [
    "Yelp is an online service in which anyone with an account can comment on and/or rate a business. It allows users to make informed decisions on whether or not they want to receive services from them. For businesses, it is a platform for them to receive feedback on their services, such as what customers would like to see and what improvements they can make. This platform is used by both sides to gauge how successful and/or promising a business is. As such, we focus on Yelp data to help us determine the success of a restaurant (determined by ratings and number of reviews) based on location. \n",
    "\n",
    "When evaluating whether a Yelp data set is the most appropriate for our question, we analyzed the credibility and bias of the dataset. We researched possible factors that could affect the accuracy of the dataset in reflecting the success of a restaurant. One major question we asked is: “Is the data corrupt?”. Upon further research, we found that Yelp does manipulate reviews. They filter out data that they think are fake, but this algorithm is not always correct. The filter affects the success because it is manipulating the data, thus removing data that could potentially affect the ratings of the business. In addition, they accept payments from businesses to advertise for them and/or hide bad reviews while highlighting more favorable ones. This would skew the data because it means that restaurants who pay Yelp to do this are more likely to receive more customers and reviews, thus making the business (seem) more successful than its competitors. Another major aspect we considered was how the bandwagon effect could affect the ratings of a restaurant. We found that current ratings do affect future ratings, which further cements the skew of the data. This affects small businesses, as they are often overshadowed by larger businesses who have the resources to pay Yelp for advertisements and extra services. \n",
    "\n",
    "We have decided to move forward with using the Yelp dataset with these concerns in mind. We concluded that while these factors may affect the accuracy in reflecting the success of a restaurant, they also affect the success of the restaurant. These factors change the way the business is reflected through Yelp, a popular platform used by people to determine whether or not they want to utilize the business’s services. By playing a role in a potential customer’s choice in utilizing the service, Yelp indirectly affects the success of the restaurant. Therefore, it is safe to continue using the Yelp dataset, given that these factors also influence the restaurant’s success. \n",
    "\n",
    "While doing initial research on Yelp dataset, we came across the Yelp Dataset Challenge. We noticed 2-3 projects that had to do with predicting the success of a business. For example, one project predicted success based on the text in the reviews which were analyzed based on sentiment (reference #5) using machine learning models. However, we could not find any projects or reports that looked into the effect of different locations on the ratings of restaurants which is why we thought it would be an interesting topic to focus on. \n",
    "\n",
    "References (include links):\n",
    "- 1) The Yelp Review Filter: https://vivial.net/blog/how-to-avoid-the-yelp-review-filter-and-get-more-positive-reviews/\n",
    "- 2) The Yelp Effect https://rbj.rady.ucsd.edu/index.php/topics/social-impact/2014/01/the-yelp-effect/\n",
    "- 3) Fake Yelp Reviews\n",
    "    - https://smallbusiness.yahoo.com/advisor/writing-fake-reviews-yelp-might-sued-173135209.html\n",
    "    - https://www.businessinsider.com/20-percent-of-yelp-reviews-fake-2013-9\n",
    "- 4) The Yelp Factor https://hbswk.hbs.edu/item/the-yelp-factor-are-consumer-reviews-good-for-business\n",
    "- 5) Yelp Dataset Challenge 1 https://github.com/VC444/Yelp-Dataset-Challenge "
   ]
  },
  {
   "cell_type": "markdown",
   "metadata": {},
   "source": [
    "# Hypothesis\n"
   ]
  },
  {
   "cell_type": "markdown",
   "metadata": {},
   "source": [
    "Location will have a large effect on the rating because it sets up the environment and customer expectations the business needs to fulfill. The most popular type of food in a specific area will be set at a higher standard by the consumers and therefore have harsher ratings. For example, we believe that if Mexican food is very popular in San Diego, then Chipotle chain restaurants, known for its Mexican-style cuisine, will generally have lower ratings due to the fact that there are more local restaurants that specialize in Mexican food. Therefore, we will also place an emphasis on chain restaurants and compare our findings to local restaurants. "
   ]
  },
  {
   "cell_type": "markdown",
   "metadata": {},
   "source": [
    "# Dataset(s)"
   ]
  },
  {
   "cell_type": "markdown",
   "metadata": {},
   "source": [
    "- Dataset Name: Yelp Categories (categories.json)\n",
    "- Link to the dataset: https://www.yelp.com/developers/documentation/v3/all_category_list\n",
    "- Number of observations: 1,563 observations\n",
    "\n",
    "This data was used to gather all the relevant categories to collect our data using the Yelp API. We found the categories by finding all the rows who's parent category contained 'restaurant' in it.\n",
    "\n",
    "\n",
    "- Dataset Name: Yelp Restaurant Data Across America\n",
    "- Link to the dataset: https://www.yelp.com/developers/documentation/v3/business_search\n",
    "- Number of observations: 150,980 observations\n",
    "\n",
    "The data was collected by using a Yelp API and the github repo: https://github.com/gfairchild/yelpapi. We used the dataset categories.json to find all the relevant restaurant categories and ran a search query for each state. The data contains the name of the restaurant, the location (including latitude and longitude), the average rating, the applicable categories, and the number of customer reviews.\n",
    "\n",
    "\n",
    "- Dataset Name: Fast Food Restaurants Across America\n",
    "- Link to the dataset: https://www.kaggle.com/datafiniti/fast-food-restaurants#FastFoodRestaurants.csv\n",
    "- Number of observations: 10,000 observations\n",
    "\n",
    "This dataset provides information about 10,000 fast food restaurants across America. The data was collected from Datafiniti's Business Database in March 2018. We are using this dataset to understand which fast food chains are the most popular across the US (per state) based on the number of locations. While the data comes from a reliable source, the completion of the dataset is cannot be confirmed because there was no free option to download the data directly from the source so we had to download the data from kaggle.com. The data includes the fast food restaurant, its location, and website.\n"
   ]
  },
  {
   "cell_type": "markdown",
   "metadata": {},
   "source": [
    "# Setup"
   ]
  },
  {
   "cell_type": "code",
   "execution_count": 1,
   "metadata": {
    "scrolled": true
   },
   "outputs": [],
   "source": [
    "# import libraries\n",
    "import numpy as np\n",
    "import pandas as pd\n",
    "import matplotlib.pyplot as plt\n",
    "import seaborn as sns"
   ]
  },
  {
   "cell_type": "markdown",
   "metadata": {},
   "source": [
    "Import dataframes from csv files"
   ]
  },
  {
   "cell_type": "code",
   "execution_count": 2,
   "metadata": {
    "scrolled": true
   },
   "outputs": [],
   "source": [
    "yelp_df = pd.read_csv('data/YelpRestaurants.csv')\n",
    "fast_df = pd.read_csv('data/FastFoodRestaurants.csv')\n",
    "fast_ratings_df = pd.read_csv('data/FastRatings.csv')"
   ]
  },
  {
   "cell_type": "markdown",
   "metadata": {},
   "source": [
    "# Data Cleaning"
   ]
  },
  {
   "cell_type": "markdown",
   "metadata": {},
   "source": [
    "Describe your data cleaning steps here."
   ]
  },
  {
   "cell_type": "code",
   "execution_count": 3,
   "metadata": {
    "scrolled": true
   },
   "outputs": [],
   "source": [
    "## YOUR CODE HERE\n",
    "## FEEL FREE TO ADD MULTIPLE CELLS PER SECTION"
   ]
  },
  {
   "cell_type": "code",
   "execution_count": 4,
   "metadata": {
    "scrolled": true
   },
   "outputs": [],
   "source": [
    "#turns all name to lowercase so capitalization does not affect analysis\n",
    "for i in yelp_df.index:\n",
    "    yelp_df.at[i,'name'] = yelp_df.at[i,'name'].lower()\n",
    "for j in fast_df.index:\n",
    "    fast_df.at[j, 'name'] = fast_df.at[j, 'name'].lower()\n",
    "for k in fast_ratings_df.index:\n",
    "    fast_ratings_df.at[k, 'name'] = fast_ratings_df.at[k, 'name'].lower()"
   ]
  },
  {
   "cell_type": "markdown",
   "metadata": {},
   "source": [
    "#### Clean data in the yelp_df"
   ]
  },
  {
   "cell_type": "code",
   "execution_count": 5,
   "metadata": {
    "scrolled": true
   },
   "outputs": [],
   "source": [
    "#Separate longitude and latitude information from coordinates column for the yelp_df\n",
    "yelp_df['latitude'] = np.nan\n",
    "yelp_df['longitude'] = np.nan\n",
    "for i in yelp_df.index:\n",
    "    coord = yelp_df.at[i, 'coordinates']\n",
    "    yelp_df.at[i, 'latitude'] = coord[coord.find(':') + 1 : coord.find(',')]\n",
    "    yelp_df.at[i, 'longitude'] = coord[coord.find(':', coord.find(',') + 1) + 1 : coord.find('}')]\n",
    "\n",
    "yelp_df = yelp_df.drop('coordinates',axis=1)"
   ]
  },
  {
   "cell_type": "code",
   "execution_count": 6,
   "metadata": {
    "scrolled": true
   },
   "outputs": [],
   "source": [
    "#Separate address information from location column for the yelp_df\n",
    "yelp_df['address'] = ''\n",
    "for i in yelp_df.index:\n",
    "    address = yelp_df.at[i, 'location']\n",
    "    yelp_df.at[i, 'address'] = address[address.find(':') + 3 : address.find(',') - 1]\n",
    "\n",
    "yelp_df = yelp_df.drop('location', axis=1)"
   ]
  },
  {
   "cell_type": "code",
   "execution_count": 7,
   "metadata": {},
   "outputs": [],
   "source": [
    "#Drop unnamed column from yelp_df\n",
    "yelp_df = yelp_df.drop(['Unnamed: 0'], axis=1)"
   ]
  },
  {
   "cell_type": "markdown",
   "metadata": {},
   "source": [
    "#### Clean data in the fast_ratings_df"
   ]
  },
  {
   "cell_type": "code",
   "execution_count": 8,
   "metadata": {},
   "outputs": [
    {
     "data": {
      "text/plain": [
       "array(['NY', 'OH', 'KY', 'SC', 'AR', 'IN', 'OK', 'LA', 'ND', 'TX', 'MI',\n",
       "       'MO', 'TN', 'NC', 'GA', 'UT', 'WI', 'MS', 'WA', 'NE', 'AL', 'WV',\n",
       "       'VT', 'AZ', 'KS', 'MN', 'SD', 'NM', 'OR', 'ME', 'IA', 'WY', 'IL',\n",
       "       'VA', 'MT', 'ID', 'PA', 'NJ', 'MD', 'FL', 'CA', 'MA', 'CO', 'NV',\n",
       "       'NH', 'CT', 'DE', 'HI'], dtype=object)"
      ]
     },
     "execution_count": 8,
     "metadata": {},
     "output_type": "execute_result"
    }
   ],
   "source": [
    "to_drop = []\n",
    "for i in fast_ratings_df.index:\n",
    "    if (\"'country': 'US'\" in fast_ratings_df['location'][i]):\n",
    "        continue\n",
    "    else:\n",
    "        to_drop.append(i)\n",
    "fast_ratings_df = fast_ratings_df.drop(to_drop)\n",
    "fast_ratings_df['state'].unique()"
   ]
  },
  {
   "cell_type": "code",
   "execution_count": 9,
   "metadata": {},
   "outputs": [
    {
     "data": {
      "text/plain": [
       "array(['NY', 'OH', 'KY', 'SC', 'AR', 'IN', 'OK', 'LA', 'ND', 'TX', 'MI',\n",
       "       'MO', 'TN', 'NC', 'GA', 'UT', 'WI', 'MS', 'WA', 'NE', 'AL', 'WV',\n",
       "       'VT', 'AZ', 'KS', 'MN', 'SD', 'NM', 'OR', 'ME', 'IA', 'WY', 'IL',\n",
       "       'VA', 'MT', 'ID', 'PA', 'NJ', 'MD', 'FL', 'CA', 'MA', 'CO', 'NV',\n",
       "       'NH', 'CT', 'DE', 'HI'], dtype=object)"
      ]
     },
     "execution_count": 9,
     "metadata": {},
     "output_type": "execute_result"
    }
   ],
   "source": [
    "fast_ratings_df['state'].unique()"
   ]
  },
  {
   "cell_type": "code",
   "execution_count": 8,
   "metadata": {
    "scrolled": true
   },
   "outputs": [],
   "source": [
    "#Separate longitude and latitude information from coordinates column for the fast_ratings_df\n",
    "fast_ratings_df['latitude'] = np.nan\n",
    "fast_ratings_df['longitude'] = np.nan\n",
    "for i in fast_ratings_df.index:\n",
    "    coord = fast_ratings_df.at[i, 'coordinates']\n",
    "    fast_ratings_df.at[i, 'latitude'] = coord[coord.find(':') + 1 : coord.find(',')]\n",
    "    fast_ratings_df.at[i, 'longitude'] = coord[coord.find(':', coord.find(',') + 1) + 1 : coord.find('}')]\n",
    "\n",
    "fast_ratings_df = fast_ratings_df.drop('coordinates',axis=1)"
   ]
  },
  {
   "cell_type": "code",
   "execution_count": 11,
   "metadata": {},
   "outputs": [
    {
     "data": {
      "text/html": [
       "<div>\n",
       "<style scoped>\n",
       "    .dataframe tbody tr th:only-of-type {\n",
       "        vertical-align: middle;\n",
       "    }\n",
       "\n",
       "    .dataframe tbody tr th {\n",
       "        vertical-align: top;\n",
       "    }\n",
       "\n",
       "    .dataframe thead th {\n",
       "        text-align: right;\n",
       "    }\n",
       "</style>\n",
       "<table border=\"1\" class=\"dataframe\">\n",
       "  <thead>\n",
       "    <tr style=\"text-align: right;\">\n",
       "      <th></th>\n",
       "      <th>Unnamed: 0</th>\n",
       "      <th>Unnamed: 0.1</th>\n",
       "      <th>name</th>\n",
       "      <th>category</th>\n",
       "      <th>location</th>\n",
       "      <th>rating</th>\n",
       "      <th>review_count</th>\n",
       "      <th>state</th>\n",
       "      <th>latitude</th>\n",
       "      <th>longitude</th>\n",
       "    </tr>\n",
       "  </thead>\n",
       "  <tbody>\n",
       "    <tr>\n",
       "      <td>0</td>\n",
       "      <td>18</td>\n",
       "      <td>18</td>\n",
       "      <td>taco bell</td>\n",
       "      <td>[{'alias': 'hotdogs', 'title': 'Fast Food'}, {...</td>\n",
       "      <td>{'address1': '1602 State Highway 37', 'address...</td>\n",
       "      <td>5.0</td>\n",
       "      <td>4</td>\n",
       "      <td>NY</td>\n",
       "      <td>44.950268</td>\n",
       "      <td>-74.844363</td>\n",
       "    </tr>\n",
       "    <tr>\n",
       "      <td>1</td>\n",
       "      <td>33</td>\n",
       "      <td>33</td>\n",
       "      <td>mcdonald's</td>\n",
       "      <td>[{'alias': 'hotdogs', 'title': 'Fast Food'}, {...</td>\n",
       "      <td>{'address1': '1401 Leesburg Ave', 'address2': ...</td>\n",
       "      <td>3.5</td>\n",
       "      <td>8</td>\n",
       "      <td>OH</td>\n",
       "      <td>39.523908</td>\n",
       "      <td>-83.458744</td>\n",
       "    </tr>\n",
       "    <tr>\n",
       "      <td>2</td>\n",
       "      <td>35</td>\n",
       "      <td>35</td>\n",
       "      <td>wendy's</td>\n",
       "      <td>[{'alias': 'burgers', 'title': 'Burgers'}, {'a...</td>\n",
       "      <td>{'address1': '530 Clinton Avenue', 'address2':...</td>\n",
       "      <td>2.5</td>\n",
       "      <td>5</td>\n",
       "      <td>OH</td>\n",
       "      <td>39.532787</td>\n",
       "      <td>-83.445862</td>\n",
       "    </tr>\n",
       "    <tr>\n",
       "      <td>3</td>\n",
       "      <td>47</td>\n",
       "      <td>47</td>\n",
       "      <td>frisch's big boy</td>\n",
       "      <td>[{'alias': 'burgers', 'title': 'Burgers'}, {'a...</td>\n",
       "      <td>{'address1': '408 Market Square Dr', 'address2...</td>\n",
       "      <td>3.5</td>\n",
       "      <td>15</td>\n",
       "      <td>KY</td>\n",
       "      <td>38.627340</td>\n",
       "      <td>-83.791582</td>\n",
       "    </tr>\n",
       "    <tr>\n",
       "      <td>4</td>\n",
       "      <td>54</td>\n",
       "      <td>54</td>\n",
       "      <td>lee's famous recipe chicken</td>\n",
       "      <td>[{'alias': 'hotdogs', 'title': 'Fast Food'}, {...</td>\n",
       "      <td>{'address1': 'Highway 68 S', 'address2': '', '...</td>\n",
       "      <td>5.0</td>\n",
       "      <td>3</td>\n",
       "      <td>KY</td>\n",
       "      <td>38.633732</td>\n",
       "      <td>-83.792804</td>\n",
       "    </tr>\n",
       "    <tr>\n",
       "      <td>...</td>\n",
       "      <td>...</td>\n",
       "      <td>...</td>\n",
       "      <td>...</td>\n",
       "      <td>...</td>\n",
       "      <td>...</td>\n",
       "      <td>...</td>\n",
       "      <td>...</td>\n",
       "      <td>...</td>\n",
       "      <td>...</td>\n",
       "      <td>...</td>\n",
       "    </tr>\n",
       "    <tr>\n",
       "      <td>7985</td>\n",
       "      <td>165625</td>\n",
       "      <td>165625</td>\n",
       "      <td>pizza hut</td>\n",
       "      <td>[{'alias': 'pizza', 'title': 'Pizza'}, {'alias...</td>\n",
       "      <td>{'address1': '3009 Stower St', 'address2': '',...</td>\n",
       "      <td>3.5</td>\n",
       "      <td>4</td>\n",
       "      <td>MT</td>\n",
       "      <td>46.403074</td>\n",
       "      <td>-105.821939</td>\n",
       "    </tr>\n",
       "    <tr>\n",
       "      <td>7986</td>\n",
       "      <td>165626</td>\n",
       "      <td>165626</td>\n",
       "      <td>taco john's</td>\n",
       "      <td>[{'alias': 'mexican', 'title': 'Mexican'}, {'a...</td>\n",
       "      <td>{'address1': '911 S Haynes St', 'address2': ''...</td>\n",
       "      <td>2.5</td>\n",
       "      <td>8</td>\n",
       "      <td>MT</td>\n",
       "      <td>46.399650</td>\n",
       "      <td>-105.822989</td>\n",
       "    </tr>\n",
       "    <tr>\n",
       "      <td>7987</td>\n",
       "      <td>165682</td>\n",
       "      <td>165682</td>\n",
       "      <td>chick-fil-a</td>\n",
       "      <td>[{'alias': 'hotdogs', 'title': 'Fast Food'}]</td>\n",
       "      <td>{'address1': '310 Daniel Webster Hwy Ste 144',...</td>\n",
       "      <td>4.0</td>\n",
       "      <td>48</td>\n",
       "      <td>NH</td>\n",
       "      <td>42.701445</td>\n",
       "      <td>-71.437393</td>\n",
       "    </tr>\n",
       "    <tr>\n",
       "      <td>7988</td>\n",
       "      <td>165739</td>\n",
       "      <td>165739</td>\n",
       "      <td>chick-fil-a</td>\n",
       "      <td>[{'alias': 'hotdogs', 'title': 'Fast Food'}]</td>\n",
       "      <td>{'address1': '3130 Peach Orchard Rd', 'address...</td>\n",
       "      <td>4.5</td>\n",
       "      <td>28</td>\n",
       "      <td>GA</td>\n",
       "      <td>33.410332</td>\n",
       "      <td>-82.026117</td>\n",
       "    </tr>\n",
       "    <tr>\n",
       "      <td>7989</td>\n",
       "      <td>165822</td>\n",
       "      <td>165822</td>\n",
       "      <td>in-n-out burger</td>\n",
       "      <td>[{'alias': 'burgers', 'title': 'Burgers'}, {'a...</td>\n",
       "      <td>{'address1': '5646 E La Palma Ave', 'address2'...</td>\n",
       "      <td>4.0</td>\n",
       "      <td>266</td>\n",
       "      <td>CA</td>\n",
       "      <td>33.859321</td>\n",
       "      <td>-117.791477</td>\n",
       "    </tr>\n",
       "  </tbody>\n",
       "</table>\n",
       "<p>7990 rows × 10 columns</p>\n",
       "</div>"
      ],
      "text/plain": [
       "      Unnamed: 0  Unnamed: 0.1                         name  \\\n",
       "0             18            18                    taco bell   \n",
       "1             33            33                   mcdonald's   \n",
       "2             35            35                      wendy's   \n",
       "3             47            47             frisch's big boy   \n",
       "4             54            54  lee's famous recipe chicken   \n",
       "...          ...           ...                          ...   \n",
       "7985      165625        165625                    pizza hut   \n",
       "7986      165626        165626                  taco john's   \n",
       "7987      165682        165682                  chick-fil-a   \n",
       "7988      165739        165739                  chick-fil-a   \n",
       "7989      165822        165822              in-n-out burger   \n",
       "\n",
       "                                               category  \\\n",
       "0     [{'alias': 'hotdogs', 'title': 'Fast Food'}, {...   \n",
       "1     [{'alias': 'hotdogs', 'title': 'Fast Food'}, {...   \n",
       "2     [{'alias': 'burgers', 'title': 'Burgers'}, {'a...   \n",
       "3     [{'alias': 'burgers', 'title': 'Burgers'}, {'a...   \n",
       "4     [{'alias': 'hotdogs', 'title': 'Fast Food'}, {...   \n",
       "...                                                 ...   \n",
       "7985  [{'alias': 'pizza', 'title': 'Pizza'}, {'alias...   \n",
       "7986  [{'alias': 'mexican', 'title': 'Mexican'}, {'a...   \n",
       "7987       [{'alias': 'hotdogs', 'title': 'Fast Food'}]   \n",
       "7988       [{'alias': 'hotdogs', 'title': 'Fast Food'}]   \n",
       "7989  [{'alias': 'burgers', 'title': 'Burgers'}, {'a...   \n",
       "\n",
       "                                               location  rating  review_count  \\\n",
       "0     {'address1': '1602 State Highway 37', 'address...     5.0             4   \n",
       "1     {'address1': '1401 Leesburg Ave', 'address2': ...     3.5             8   \n",
       "2     {'address1': '530 Clinton Avenue', 'address2':...     2.5             5   \n",
       "3     {'address1': '408 Market Square Dr', 'address2...     3.5            15   \n",
       "4     {'address1': 'Highway 68 S', 'address2': '', '...     5.0             3   \n",
       "...                                                 ...     ...           ...   \n",
       "7985  {'address1': '3009 Stower St', 'address2': '',...     3.5             4   \n",
       "7986  {'address1': '911 S Haynes St', 'address2': ''...     2.5             8   \n",
       "7987  {'address1': '310 Daniel Webster Hwy Ste 144',...     4.0            48   \n",
       "7988  {'address1': '3130 Peach Orchard Rd', 'address...     4.5            28   \n",
       "7989  {'address1': '5646 E La Palma Ave', 'address2'...     4.0           266   \n",
       "\n",
       "     state   latitude   longitude  \n",
       "0       NY  44.950268  -74.844363  \n",
       "1       OH  39.523908  -83.458744  \n",
       "2       OH  39.532787  -83.445862  \n",
       "3       KY  38.627340  -83.791582  \n",
       "4       KY  38.633732  -83.792804  \n",
       "...    ...        ...         ...  \n",
       "7985    MT  46.403074 -105.821939  \n",
       "7986    MT  46.399650 -105.822989  \n",
       "7987    NH  42.701445  -71.437393  \n",
       "7988    GA  33.410332  -82.026117  \n",
       "7989    CA  33.859321 -117.791477  \n",
       "\n",
       "[7990 rows x 10 columns]"
      ]
     },
     "execution_count": 11,
     "metadata": {},
     "output_type": "execute_result"
    }
   ],
   "source": [
    "fast_ratings_df"
   ]
  },
  {
   "cell_type": "code",
   "execution_count": 9,
   "metadata": {
    "scrolled": true
   },
   "outputs": [],
   "source": [
    "#Separate address information from location column for the fast_ratings_df\n",
    "fast_ratings_df['address'] = ''\n",
    "for i in fast_ratings_df.index:\n",
    "    address = fast_ratings_df.at[i, 'location']\n",
    "    fast_ratings_df.at[i, 'address'] = address[address.find(':') + 3 : address.find(',') - 1]\n",
    "\n",
    "fast_ratings_df = fast_ratings_df.drop('location', axis=1)"
   ]
  },
  {
   "cell_type": "code",
   "execution_count": 10,
   "metadata": {},
   "outputs": [],
   "source": [
    "# Drop unnamed column from fast_ratings_df\n",
    "fast_ratings_df = fast_ratings_df.drop(['Unnamed: 0', 'Unnamed: 0.1'], axis=1)"
   ]
  },
  {
   "cell_type": "markdown",
   "metadata": {},
   "source": [
    "# Data Analysis & Results"
   ]
  },
  {
   "cell_type": "markdown",
   "metadata": {},
   "source": [
    "Include cells that describe the steps in your data analysis."
   ]
  },
  {
   "cell_type": "code",
   "execution_count": 11,
   "metadata": {
    "scrolled": true
   },
   "outputs": [
    {
     "data": {
      "text/html": [
       "<div>\n",
       "<style scoped>\n",
       "    .dataframe tbody tr th:only-of-type {\n",
       "        vertical-align: middle;\n",
       "    }\n",
       "\n",
       "    .dataframe tbody tr th {\n",
       "        vertical-align: top;\n",
       "    }\n",
       "\n",
       "    .dataframe thead th {\n",
       "        text-align: right;\n",
       "    }\n",
       "</style>\n",
       "<table border=\"1\" class=\"dataframe\">\n",
       "  <thead>\n",
       "    <tr style=\"text-align: right;\">\n",
       "      <th></th>\n",
       "      <th>name</th>\n",
       "      <th>category</th>\n",
       "      <th>rating</th>\n",
       "      <th>review_count</th>\n",
       "      <th>state</th>\n",
       "      <th>latitude</th>\n",
       "      <th>longitude</th>\n",
       "      <th>address</th>\n",
       "    </tr>\n",
       "  </thead>\n",
       "  <tbody>\n",
       "    <tr>\n",
       "      <td>0</td>\n",
       "      <td>el barrio</td>\n",
       "      <td>[{'alias': 'mexican', 'title': 'Mexican'}]</td>\n",
       "      <td>4.5</td>\n",
       "      <td>615</td>\n",
       "      <td>AL</td>\n",
       "      <td>33.516636</td>\n",
       "      <td>-86.802849</td>\n",
       "      <td>2211 2nd Ave N</td>\n",
       "    </tr>\n",
       "    <tr>\n",
       "      <td>1</td>\n",
       "      <td>saw's soul kitchen</td>\n",
       "      <td>[{'alias': 'bbq', 'title': 'Barbeque'}, {'alia...</td>\n",
       "      <td>4.5</td>\n",
       "      <td>782</td>\n",
       "      <td>AL</td>\n",
       "      <td>33.524190</td>\n",
       "      <td>-86.773830</td>\n",
       "      <td>215 41st St S</td>\n",
       "    </tr>\n",
       "    <tr>\n",
       "      <td>2</td>\n",
       "      <td>yo' mama's</td>\n",
       "      <td>[{'alias': 'newamerican', 'title': 'American (...</td>\n",
       "      <td>4.5</td>\n",
       "      <td>356</td>\n",
       "      <td>AL</td>\n",
       "      <td>33.517660</td>\n",
       "      <td>-86.801830</td>\n",
       "      <td>2328 2nd Ave N</td>\n",
       "    </tr>\n",
       "    <tr>\n",
       "      <td>3</td>\n",
       "      <td>carrigan's public house</td>\n",
       "      <td>[{'alias': 'cocktailbars', 'title': 'Cocktail ...</td>\n",
       "      <td>4.5</td>\n",
       "      <td>527</td>\n",
       "      <td>AL</td>\n",
       "      <td>33.517124</td>\n",
       "      <td>-86.798646</td>\n",
       "      <td>2430 Morris Ave</td>\n",
       "    </tr>\n",
       "    <tr>\n",
       "      <td>4</td>\n",
       "      <td>highlands bar &amp; grill</td>\n",
       "      <td>[{'alias': 'southern', 'title': 'Southern'}, {...</td>\n",
       "      <td>4.5</td>\n",
       "      <td>298</td>\n",
       "      <td>AL</td>\n",
       "      <td>33.500572</td>\n",
       "      <td>-86.795577</td>\n",
       "      <td>2011 11th Ave S</td>\n",
       "    </tr>\n",
       "  </tbody>\n",
       "</table>\n",
       "</div>"
      ],
      "text/plain": [
       "                      name                                           category  \\\n",
       "0                el barrio         [{'alias': 'mexican', 'title': 'Mexican'}]   \n",
       "1       saw's soul kitchen  [{'alias': 'bbq', 'title': 'Barbeque'}, {'alia...   \n",
       "2               yo' mama's  [{'alias': 'newamerican', 'title': 'American (...   \n",
       "3  carrigan's public house  [{'alias': 'cocktailbars', 'title': 'Cocktail ...   \n",
       "4    highlands bar & grill  [{'alias': 'southern', 'title': 'Southern'}, {...   \n",
       "\n",
       "   rating  review_count state   latitude  longitude          address  \n",
       "0     4.5           615    AL  33.516636 -86.802849   2211 2nd Ave N  \n",
       "1     4.5           782    AL  33.524190 -86.773830    215 41st St S  \n",
       "2     4.5           356    AL  33.517660 -86.801830   2328 2nd Ave N  \n",
       "3     4.5           527    AL  33.517124 -86.798646  2430 Morris Ave  \n",
       "4     4.5           298    AL  33.500572 -86.795577  2011 11th Ave S  "
      ]
     },
     "execution_count": 11,
     "metadata": {},
     "output_type": "execute_result"
    }
   ],
   "source": [
    "yelp_df.head()"
   ]
  },
  {
   "cell_type": "code",
   "execution_count": 12,
   "metadata": {
    "scrolled": true
   },
   "outputs": [
    {
     "data": {
      "text/html": [
       "<div>\n",
       "<style scoped>\n",
       "    .dataframe tbody tr th:only-of-type {\n",
       "        vertical-align: middle;\n",
       "    }\n",
       "\n",
       "    .dataframe tbody tr th {\n",
       "        vertical-align: top;\n",
       "    }\n",
       "\n",
       "    .dataframe thead th {\n",
       "        text-align: right;\n",
       "    }\n",
       "</style>\n",
       "<table border=\"1\" class=\"dataframe\">\n",
       "  <thead>\n",
       "    <tr style=\"text-align: right;\">\n",
       "      <th></th>\n",
       "      <th>address</th>\n",
       "      <th>city</th>\n",
       "      <th>country</th>\n",
       "      <th>keys</th>\n",
       "      <th>latitude</th>\n",
       "      <th>longitude</th>\n",
       "      <th>name</th>\n",
       "      <th>postalCode</th>\n",
       "      <th>province</th>\n",
       "      <th>websites</th>\n",
       "    </tr>\n",
       "  </thead>\n",
       "  <tbody>\n",
       "    <tr>\n",
       "      <td>0</td>\n",
       "      <td>324 Main St</td>\n",
       "      <td>Massena</td>\n",
       "      <td>US</td>\n",
       "      <td>us/ny/massena/324mainst/-1161002137</td>\n",
       "      <td>44.92130</td>\n",
       "      <td>-74.89021</td>\n",
       "      <td>mcdonald's</td>\n",
       "      <td>13662</td>\n",
       "      <td>NY</td>\n",
       "      <td>http://mcdonalds.com,http://www.mcdonalds.com/...</td>\n",
       "    </tr>\n",
       "    <tr>\n",
       "      <td>1</td>\n",
       "      <td>530 Clinton Ave</td>\n",
       "      <td>Washington Court House</td>\n",
       "      <td>US</td>\n",
       "      <td>us/oh/washingtoncourthouse/530clintonave/-7914...</td>\n",
       "      <td>39.53255</td>\n",
       "      <td>-83.44526</td>\n",
       "      <td>wendy's</td>\n",
       "      <td>43160</td>\n",
       "      <td>OH</td>\n",
       "      <td>http://www.wendys.com</td>\n",
       "    </tr>\n",
       "    <tr>\n",
       "      <td>2</td>\n",
       "      <td>408 Market Square Dr</td>\n",
       "      <td>Maysville</td>\n",
       "      <td>US</td>\n",
       "      <td>us/ky/maysville/408marketsquaredr/1051460804</td>\n",
       "      <td>38.62736</td>\n",
       "      <td>-83.79141</td>\n",
       "      <td>frisch's big boy</td>\n",
       "      <td>41056</td>\n",
       "      <td>KY</td>\n",
       "      <td>http://www.frischs.com,https://www.frischs.com...</td>\n",
       "    </tr>\n",
       "    <tr>\n",
       "      <td>3</td>\n",
       "      <td>6098 State Highway 37</td>\n",
       "      <td>Massena</td>\n",
       "      <td>US</td>\n",
       "      <td>us/ny/massena/6098statehighway37/-1161002137</td>\n",
       "      <td>44.95008</td>\n",
       "      <td>-74.84553</td>\n",
       "      <td>mcdonald's</td>\n",
       "      <td>13662</td>\n",
       "      <td>NY</td>\n",
       "      <td>http://mcdonalds.com,http://www.mcdonalds.com/...</td>\n",
       "    </tr>\n",
       "    <tr>\n",
       "      <td>4</td>\n",
       "      <td>139 Columbus Rd</td>\n",
       "      <td>Athens</td>\n",
       "      <td>US</td>\n",
       "      <td>us/oh/athens/139columbusrd/990890980</td>\n",
       "      <td>39.35155</td>\n",
       "      <td>-82.09728</td>\n",
       "      <td>omg! rotisserie</td>\n",
       "      <td>45701</td>\n",
       "      <td>OH</td>\n",
       "      <td>http://www.omgrotisserie.com,http://omgrotisse...</td>\n",
       "    </tr>\n",
       "  </tbody>\n",
       "</table>\n",
       "</div>"
      ],
      "text/plain": [
       "                 address                    city country  \\\n",
       "0            324 Main St                 Massena      US   \n",
       "1        530 Clinton Ave  Washington Court House      US   \n",
       "2   408 Market Square Dr               Maysville      US   \n",
       "3  6098 State Highway 37                 Massena      US   \n",
       "4        139 Columbus Rd                  Athens      US   \n",
       "\n",
       "                                                keys  latitude  longitude  \\\n",
       "0                us/ny/massena/324mainst/-1161002137  44.92130  -74.89021   \n",
       "1  us/oh/washingtoncourthouse/530clintonave/-7914...  39.53255  -83.44526   \n",
       "2       us/ky/maysville/408marketsquaredr/1051460804  38.62736  -83.79141   \n",
       "3       us/ny/massena/6098statehighway37/-1161002137  44.95008  -74.84553   \n",
       "4               us/oh/athens/139columbusrd/990890980  39.35155  -82.09728   \n",
       "\n",
       "               name postalCode province  \\\n",
       "0        mcdonald's      13662       NY   \n",
       "1           wendy's      43160       OH   \n",
       "2  frisch's big boy      41056       KY   \n",
       "3        mcdonald's      13662       NY   \n",
       "4   omg! rotisserie      45701       OH   \n",
       "\n",
       "                                            websites  \n",
       "0  http://mcdonalds.com,http://www.mcdonalds.com/...  \n",
       "1                              http://www.wendys.com  \n",
       "2  http://www.frischs.com,https://www.frischs.com...  \n",
       "3  http://mcdonalds.com,http://www.mcdonalds.com/...  \n",
       "4  http://www.omgrotisserie.com,http://omgrotisse...  "
      ]
     },
     "execution_count": 12,
     "metadata": {},
     "output_type": "execute_result"
    }
   ],
   "source": [
    "fast_df.head()"
   ]
  },
  {
   "cell_type": "code",
   "execution_count": 13,
   "metadata": {
    "scrolled": true
   },
   "outputs": [
    {
     "data": {
      "text/html": [
       "<div>\n",
       "<style scoped>\n",
       "    .dataframe tbody tr th:only-of-type {\n",
       "        vertical-align: middle;\n",
       "    }\n",
       "\n",
       "    .dataframe tbody tr th {\n",
       "        vertical-align: top;\n",
       "    }\n",
       "\n",
       "    .dataframe thead th {\n",
       "        text-align: right;\n",
       "    }\n",
       "</style>\n",
       "<table border=\"1\" class=\"dataframe\">\n",
       "  <thead>\n",
       "    <tr style=\"text-align: right;\">\n",
       "      <th></th>\n",
       "      <th>name</th>\n",
       "      <th>category</th>\n",
       "      <th>rating</th>\n",
       "      <th>review_count</th>\n",
       "      <th>state</th>\n",
       "      <th>latitude</th>\n",
       "      <th>longitude</th>\n",
       "      <th>address</th>\n",
       "    </tr>\n",
       "  </thead>\n",
       "  <tbody>\n",
       "    <tr>\n",
       "      <td>0</td>\n",
       "      <td>taco bell</td>\n",
       "      <td>[{'alias': 'hotdogs', 'title': 'Fast Food'}, {...</td>\n",
       "      <td>5.0</td>\n",
       "      <td>4</td>\n",
       "      <td>NY</td>\n",
       "      <td>44.950268</td>\n",
       "      <td>-74.844363</td>\n",
       "      <td>1602 State Highway 37</td>\n",
       "    </tr>\n",
       "    <tr>\n",
       "      <td>1</td>\n",
       "      <td>mcdonald's</td>\n",
       "      <td>[{'alias': 'hotdogs', 'title': 'Fast Food'}, {...</td>\n",
       "      <td>3.5</td>\n",
       "      <td>8</td>\n",
       "      <td>OH</td>\n",
       "      <td>39.523908</td>\n",
       "      <td>-83.458744</td>\n",
       "      <td>1401 Leesburg Ave</td>\n",
       "    </tr>\n",
       "    <tr>\n",
       "      <td>2</td>\n",
       "      <td>wendy's</td>\n",
       "      <td>[{'alias': 'burgers', 'title': 'Burgers'}, {'a...</td>\n",
       "      <td>2.5</td>\n",
       "      <td>5</td>\n",
       "      <td>OH</td>\n",
       "      <td>39.532787</td>\n",
       "      <td>-83.445862</td>\n",
       "      <td>530 Clinton Avenue</td>\n",
       "    </tr>\n",
       "    <tr>\n",
       "      <td>3</td>\n",
       "      <td>frisch's big boy</td>\n",
       "      <td>[{'alias': 'burgers', 'title': 'Burgers'}, {'a...</td>\n",
       "      <td>3.5</td>\n",
       "      <td>15</td>\n",
       "      <td>KY</td>\n",
       "      <td>38.627340</td>\n",
       "      <td>-83.791582</td>\n",
       "      <td>408 Market Square Dr</td>\n",
       "    </tr>\n",
       "    <tr>\n",
       "      <td>4</td>\n",
       "      <td>lee's famous recipe chicken</td>\n",
       "      <td>[{'alias': 'hotdogs', 'title': 'Fast Food'}, {...</td>\n",
       "      <td>5.0</td>\n",
       "      <td>3</td>\n",
       "      <td>KY</td>\n",
       "      <td>38.633732</td>\n",
       "      <td>-83.792804</td>\n",
       "      <td>Highway 68 S</td>\n",
       "    </tr>\n",
       "  </tbody>\n",
       "</table>\n",
       "</div>"
      ],
      "text/plain": [
       "                          name  \\\n",
       "0                    taco bell   \n",
       "1                   mcdonald's   \n",
       "2                      wendy's   \n",
       "3             frisch's big boy   \n",
       "4  lee's famous recipe chicken   \n",
       "\n",
       "                                            category  rating  review_count  \\\n",
       "0  [{'alias': 'hotdogs', 'title': 'Fast Food'}, {...     5.0             4   \n",
       "1  [{'alias': 'hotdogs', 'title': 'Fast Food'}, {...     3.5             8   \n",
       "2  [{'alias': 'burgers', 'title': 'Burgers'}, {'a...     2.5             5   \n",
       "3  [{'alias': 'burgers', 'title': 'Burgers'}, {'a...     3.5            15   \n",
       "4  [{'alias': 'hotdogs', 'title': 'Fast Food'}, {...     5.0             3   \n",
       "\n",
       "  state   latitude  longitude                address  \n",
       "0    NY  44.950268 -74.844363  1602 State Highway 37  \n",
       "1    OH  39.523908 -83.458744      1401 Leesburg Ave  \n",
       "2    OH  39.532787 -83.445862     530 Clinton Avenue  \n",
       "3    KY  38.627340 -83.791582   408 Market Square Dr  \n",
       "4    KY  38.633732 -83.792804           Highway 68 S  "
      ]
     },
     "execution_count": 13,
     "metadata": {},
     "output_type": "execute_result"
    }
   ],
   "source": [
    "fast_ratings_df.head()"
   ]
  },
  {
   "cell_type": "code",
   "execution_count": 14,
   "metadata": {
    "scrolled": true
   },
   "outputs": [
    {
     "data": {
      "text/plain": [
       "(150980, 8)"
      ]
     },
     "execution_count": 14,
     "metadata": {},
     "output_type": "execute_result"
    }
   ],
   "source": [
    "# there are ~150k restaurants in our general df\n",
    "yelp_df.shape"
   ]
  },
  {
   "cell_type": "code",
   "execution_count": 15,
   "metadata": {
    "scrolled": true
   },
   "outputs": [
    {
     "data": {
      "text/plain": [
       "(10000, 10)"
      ]
     },
     "execution_count": 15,
     "metadata": {},
     "output_type": "execute_result"
    }
   ],
   "source": [
    "# there are ~10k fast food restaurants in our fast food df\n",
    "fast_df.shape "
   ]
  },
  {
   "cell_type": "code",
   "execution_count": 16,
   "metadata": {
    "scrolled": true
   },
   "outputs": [
    {
     "data": {
      "text/plain": [
       "(7990, 8)"
      ]
     },
     "execution_count": 16,
     "metadata": {},
     "output_type": "execute_result"
    }
   ],
   "source": [
    "# there are ~8k fast food restaurant ratings in our df\n",
    "fast_ratings_df.shape"
   ]
  },
  {
   "cell_type": "code",
   "execution_count": 17,
   "metadata": {
    "scrolled": true
   },
   "outputs": [
    {
     "data": {
      "text/plain": [
       "array(['AL', 'AK', 'AZ', 'OK', 'CA', 'CO', 'CT', 'DC', 'KS', 'FL', 'GA',\n",
       "       'HI', 'ID', 'IL', 'IN', 'IA', 'KY', 'ME', 'MD', 'MA', 'MI', 'MN',\n",
       "       'MS', 'MO', 'MT', 'NE', 'NV', 'NH', 'NJ', 'NM', 'NY', 'NC', 'ND',\n",
       "       'OH', 'OR', 'PA', 'RI', 'SC', 'SD', 'TN', 'TX', 'UT', 'VT', 'VA',\n",
       "       'WA', 'WV', 'WI', 'WY'], dtype=object)"
      ]
     },
     "execution_count": 17,
     "metadata": {},
     "output_type": "execute_result"
    }
   ],
   "source": [
    "# Our general df includes 48 states, and is missing AR and DE\n",
    "yelp_df[\"state\"].unique() "
   ]
  },
  {
   "cell_type": "code",
   "execution_count": 18,
   "metadata": {
    "scrolled": true
   },
   "outputs": [
    {
     "data": {
      "text/plain": [
       "array(['NY', 'OH', 'KY', 'SC', 'AR', 'OK', 'IN', 'NC', 'TN', 'TX', 'LA',\n",
       "       'KS', 'ND', 'UT', 'GA', 'NM', 'OR', 'HI', 'VT', 'MI', 'MO', 'WI',\n",
       "       'WA', 'MS', 'NE', 'ME', 'MN', 'AL', 'IA', 'WV', 'AZ', 'SD', 'WY',\n",
       "       'IL', 'VA', 'FL', 'CA', 'MT', 'ID', 'PA', 'RI', 'NV', 'NJ', 'MA',\n",
       "       'MD', 'CO', 'NH', 'CT', 'AK', 'DE', 'DC', 'Co Spgs'], dtype=object)"
      ]
     },
     "execution_count": 18,
     "metadata": {},
     "output_type": "execute_result"
    }
   ],
   "source": [
    "# our fastfood df includes 50 states, plus DC and Co Spgs\n",
    "fast_df[\"province\"].unique()"
   ]
  },
  {
   "cell_type": "code",
   "execution_count": 19,
   "metadata": {
    "scrolled": true
   },
   "outputs": [
    {
     "data": {
      "text/plain": [
       "(0, 8)"
      ]
     },
     "execution_count": 19,
     "metadata": {},
     "output_type": "execute_result"
    }
   ],
   "source": [
    "# our general df has no null values!\n",
    "null_rows = yelp_df.isnull().any(axis=1)\n",
    "yelp_df[null_rows].shape"
   ]
  },
  {
   "cell_type": "code",
   "execution_count": 20,
   "metadata": {
    "scrolled": true
   },
   "outputs": [
    {
     "data": {
      "text/plain": [
       "(465, 10)"
      ]
     },
     "execution_count": 20,
     "metadata": {},
     "output_type": "execute_result"
    }
   ],
   "source": [
    "# our fast food df has 465 rows with null values\n",
    "null_rows = fast_df.isnull().any(axis=1)\n",
    "fast_df[null_rows].shape"
   ]
  },
  {
   "cell_type": "code",
   "execution_count": 21,
   "metadata": {
    "scrolled": true
   },
   "outputs": [
    {
     "data": {
      "text/plain": [
       "CA         676\n",
       "TX         634\n",
       "OH         543\n",
       "FL         471\n",
       "IN         379\n",
       "IL         363\n",
       "NC         358\n",
       "GA         347\n",
       "MO         334\n",
       "KY         332\n",
       "VA         327\n",
       "PA         283\n",
       "NY         269\n",
       "MI         251\n",
       "TN         245\n",
       "SC         238\n",
       "LA         237\n",
       "AL         236\n",
       "WA         209\n",
       "OK         208\n",
       "AZ         208\n",
       "WI         186\n",
       "IA         166\n",
       "UT         159\n",
       "MD         159\n",
       "CO         158\n",
       "AR         151\n",
       "NJ         151\n",
       "NM         149\n",
       "MN         148\n",
       "NV         135\n",
       "MA         131\n",
       "OR         114\n",
       "SD         105\n",
       "KS         103\n",
       "ID          99\n",
       "CT          96\n",
       "WV          93\n",
       "NE          92\n",
       "MS          82\n",
       "ND          50\n",
       "ME          44\n",
       "VT          43\n",
       "WY          41\n",
       "HI          40\n",
       "NH          36\n",
       "DE          32\n",
       "MT          25\n",
       "RI          24\n",
       "DC          21\n",
       "AK          14\n",
       "Co Spgs      5\n",
       "Name: province, dtype: int64"
      ]
     },
     "execution_count": 21,
     "metadata": {},
     "output_type": "execute_result"
    }
   ],
   "source": [
    "# check if we can drop the null rows\n",
    "fast_df[\"province\"].value_counts()"
   ]
  },
  {
   "cell_type": "code",
   "execution_count": 22,
   "metadata": {
    "scrolled": false
   },
   "outputs": [
    {
     "data": {
      "text/plain": [
       "CA    58\n",
       "TX    31\n",
       "IL    26\n",
       "FL    26\n",
       "GA    21\n",
       "NY    19\n",
       "OH    18\n",
       "TN    18\n",
       "PA    16\n",
       "NJ    15\n",
       "NC    14\n",
       "MO    13\n",
       "SC    12\n",
       "KY    12\n",
       "WA    11\n",
       "MI    10\n",
       "AL    10\n",
       "NV    10\n",
       "IN    10\n",
       "MD    10\n",
       "AZ    10\n",
       "VA     9\n",
       "CO     9\n",
       "LA     8\n",
       "OK     7\n",
       "AR     6\n",
       "OR     5\n",
       "WI     5\n",
       "UT     5\n",
       "KS     4\n",
       "IA     4\n",
       "CT     4\n",
       "HI     3\n",
       "NE     3\n",
       "NM     3\n",
       "MN     2\n",
       "DC     2\n",
       "MA     2\n",
       "WV     2\n",
       "NH     2\n",
       "SD     2\n",
       "MS     2\n",
       "DE     2\n",
       "AK     1\n",
       "ID     1\n",
       "VT     1\n",
       "RI     1\n",
       "Name: province, dtype: int64"
      ]
     },
     "execution_count": 22,
     "metadata": {},
     "output_type": "execute_result"
    }
   ],
   "source": [
    "fast_df[null_rows][\"province\"].value_counts()"
   ]
  },
  {
   "cell_type": "code",
   "execution_count": 23,
   "metadata": {
    "scrolled": true
   },
   "outputs": [
    {
     "data": {
      "text/plain": [
       "mcdonald's                     1971\n",
       "burger king                    1154\n",
       "taco bell                       873\n",
       "wendy's                         731\n",
       "arby's                          518\n",
       "                               ... \n",
       "dairy isle                        1\n",
       "shepard's drive-in                1\n",
       "rahway chicken & burger inc       1\n",
       "el paragua restaurant             1\n",
       "jim's coney island                1\n",
       "Name: name, Length: 524, dtype: int64"
      ]
     },
     "execution_count": 23,
     "metadata": {},
     "output_type": "execute_result"
    }
   ],
   "source": [
    "fast_df[\"name\"].value_counts()"
   ]
  },
  {
   "cell_type": "code",
   "execution_count": 24,
   "metadata": {
    "scrolled": false
   },
   "outputs": [
    {
     "data": {
      "text/plain": [
       "mcdonald's                     43\n",
       "burger king                    35\n",
       "kfc                            25\n",
       "subway                         20\n",
       "taco bell                      18\n",
       "                               ..\n",
       "papa john's                     1\n",
       "ernie's all american burger     1\n",
       "petro's chili & chips           1\n",
       "papa john's pizza               1\n",
       "woody's sloppy dogs             1\n",
       "Name: name, Length: 197, dtype: int64"
      ]
     },
     "execution_count": 24,
     "metadata": {},
     "output_type": "execute_result"
    }
   ],
   "source": [
    "fast_df[null_rows][\"name\"].value_counts()"
   ]
  },
  {
   "cell_type": "code",
   "execution_count": 25,
   "metadata": {
    "scrolled": true
   },
   "outputs": [
    {
     "name": "stdout",
     "output_type": "stream",
     "text": [
      "                    address                    city country  \\\n",
      "0               324 Main St                 Massena      US   \n",
      "1           530 Clinton Ave  Washington Court House      US   \n",
      "2      408 Market Square Dr               Maysville      US   \n",
      "3     6098 State Highway 37                 Massena      US   \n",
      "4           139 Columbus Rd                  Athens      US   \n",
      "...                     ...                     ...     ...   \n",
      "9995  3013 Peach Orchard Rd                 Augusta      US   \n",
      "9996      678 Northwest Hwy                    Cary      US   \n",
      "9997           1708 Main St                Longmont      US   \n",
      "9998      67740 Highway 111          Cathedral City      US   \n",
      "9999    5701 E La Palma Ave                 Anaheim      US   \n",
      "\n",
      "                                                   keys   latitude  \\\n",
      "0                   us/ny/massena/324mainst/-1161002137  44.921300   \n",
      "1     us/oh/washingtoncourthouse/530clintonave/-7914...  39.532550   \n",
      "2          us/ky/maysville/408marketsquaredr/1051460804  38.627360   \n",
      "3          us/ny/massena/6098statehighway37/-1161002137  44.950080   \n",
      "4                  us/oh/athens/139columbusrd/990890980  39.351550   \n",
      "...                                                 ...        ...   \n",
      "9995        us/ga/augusta/3013peachorchardrd/-791445730  33.415257   \n",
      "9996               us/il/cary/678northwesthwy/787691191  42.217300   \n",
      "9997               us/co/longmont/1708mainst/-448666054  40.189190   \n",
      "9998     us/ca/cathedralcity/67740highway111/-981164808  33.788640   \n",
      "9999            us/ca/anaheim/5701elapalmaave/554191587  33.860074   \n",
      "\n",
      "       longitude                         name postalCode province  \\\n",
      "0     -74.890210                   mcdonald's      13662       NY   \n",
      "1     -83.445260                      wendy's      43160       OH   \n",
      "2     -83.791410             frisch's big boy      41056       KY   \n",
      "3     -74.845530                   mcdonald's      13662       NY   \n",
      "4     -82.097280              omg! rotisserie      45701       OH   \n",
      "...          ...                          ...        ...      ...   \n",
      "9995  -82.024531                      wendy's      30906       GA   \n",
      "9996  -88.255800  lee's oriental martial arts      60013       IL   \n",
      "9997 -105.101720                    five guys      80501       CO   \n",
      "9998 -116.482150                el pollo loco      92234       CA   \n",
      "9999 -117.789762                   carl's jr.      92807       CA   \n",
      "\n",
      "                                               websites  \n",
      "0     http://mcdonalds.com,http://www.mcdonalds.com/...  \n",
      "1                                 http://www.wendys.com  \n",
      "2     http://www.frischs.com,https://www.frischs.com...  \n",
      "3     http://mcdonalds.com,http://www.mcdonalds.com/...  \n",
      "4     http://www.omgrotisserie.com,http://omgrotisse...  \n",
      "...                                                 ...  \n",
      "9995            http://www.wendys.com,http://wendys.com  \n",
      "9996                           http://www.mcdonalds.com  \n",
      "9997                                http://fiveguys.com  \n",
      "9998  http://www.elpolloloco.com,http://elpolloloco.com  \n",
      "9999                             http://www.carlsjr.com  \n",
      "\n",
      "[10000 rows x 10 columns]\n"
     ]
    },
    {
     "data": {
      "text/plain": [
       "(9535, 10)"
      ]
     },
     "execution_count": 25,
     "metadata": {},
     "output_type": "execute_result"
    }
   ],
   "source": [
    "# when compared to the original dataset, the null rows have similar ratios of province/name value counts\n",
    "# therefore we can safely drop rows with missing data \n",
    "print(fast_df)\n",
    "fast_df=fast_df.dropna()\n",
    "fast_df.shape"
   ]
  },
  {
   "cell_type": "code",
   "execution_count": 26,
   "metadata": {
    "scrolled": true
   },
   "outputs": [
    {
     "data": {
      "image/png": "[encoded data removed]",
      "text/plain": [
       "<Figure size 432x288 with 1 Axes>"
      ]
     },
     "metadata": {
      "needs_background": "light"
     },
     "output_type": "display_data"
    }
   ],
   "source": [
    "# Let's start by plotting histograms of general food rating and fast food rating\n",
    "sns.distplot(yelp_df['rating'], kde=False, bins=5);\n",
    "\n",
    "f1 = plt.gcf()"
   ]
  },
  {
   "cell_type": "code",
   "execution_count": 27,
   "metadata": {
    "scrolled": true
   },
   "outputs": [
    {
     "data": {
      "text/plain": [
       "array([4.5, 4. , 5. , 3.5, 3. ])"
      ]
     },
     "execution_count": 27,
     "metadata": {},
     "output_type": "execute_result"
    }
   ],
   "source": [
    "# There are 5 possible ratings in our data set: 3, 3.5, 4, 4.5, and 5\n",
    "yelp_df[\"rating\"].unique()"
   ]
  },
  {
   "cell_type": "code",
   "execution_count": 28,
   "metadata": {
    "scrolled": true
   },
   "outputs": [
    {
     "data": {
      "text/plain": [
       "count    150980.000000\n",
       "mean          4.358157\n",
       "std           0.294299\n",
       "min           3.000000\n",
       "25%           4.000000\n",
       "50%           4.500000\n",
       "75%           4.500000\n",
       "max           5.000000\n",
       "Name: rating, dtype: float64"
      ]
     },
     "execution_count": 28,
     "metadata": {},
     "output_type": "execute_result"
    }
   ],
   "source": [
    "# It appears that our rating data is normal-ish and is skewed right. We have a mean of 4.358 and an std of .294.\n",
    "yelp_df[\"rating\"].describe()"
   ]
  },
  {
   "cell_type": "markdown",
   "metadata": {},
   "source": [
    "Note that the fast food dataset doesn't have a rating column. We will need to merge the two datasets ..."
   ]
  },
  {
   "cell_type": "code",
   "execution_count": null,
   "metadata": {
    "scrolled": true
   },
   "outputs": [],
   "source": [
    "# NOTE: do we need this cell anymore since we now have fast food ratings from fast_ratings_df?\n",
    "# To get the ratings of the data found in the fast food dataset, we merge the yelp dataset (which has the ratings) with the fast food dataset \n",
    "merged_df = fast_df\n",
    "merged_df['ratings'] = np.nan\n",
    "for i in fast_df.index:\n",
    "    for j in yelp_df.index:\n",
    "        if merged_df.at[i, 'name'] == yelp_df.at[j, 'name']:\n",
    "            if merged_df.at[i, 'address'] == yelp_df.at[j, 'address']:\n",
    "                merged_df.iloc[i].ratings = yelp_df.iloc[j].rating\n",
    "\n",
    "merged_df.dropna()\n",
    "\n",
    "print(merged_df)"
   ]
  },
  {
   "cell_type": "code",
   "execution_count": null,
   "metadata": {
    "scrolled": true
   },
   "outputs": [],
   "source": [
    "#TODO: Explain what the merged df shows/means"
   ]
  },
  {
   "cell_type": "code",
   "execution_count": null,
   "metadata": {
    "scrolled": true
   },
   "outputs": [],
   "source": [
    "# TODO: describe the lattitude/longitude data to see if there is any bias in geography for our 2 datasets"
   ]
  },
  {
   "cell_type": "code",
   "execution_count": null,
   "metadata": {
    "scrolled": true
   },
   "outputs": [],
   "source": [
    "# TODO: maybe move the null row removal into the data cleanup section rather than analysis"
   ]
  },
  {
   "cell_type": "markdown",
   "metadata": {},
   "source": [
    "### Fast Food Ratings Analysis"
   ]
  },
  {
   "cell_type": "code",
   "execution_count": null,
   "metadata": {},
   "outputs": [],
   "source": []
  },
  {
   "cell_type": "markdown",
   "metadata": {},
   "source": [
    "# Ethics & Privacy"
   ]
  },
  {
   "cell_type": "markdown",
   "metadata": {},
   "source": [
    "*Fill in your ethics & privacy discussion here*"
   ]
  },
  {
   "cell_type": "markdown",
   "metadata": {},
   "source": [
    "# Conclusion & Discussion"
   ]
  },
  {
   "cell_type": "markdown",
   "metadata": {},
   "source": [
    "*Fill in your discussion information here*"
   ]
  },
  {
   "cell_type": "markdown",
   "metadata": {},
   "source": [
    "# Team Contributions"
   ]
  },
  {
   "cell_type": "markdown",
   "metadata": {},
   "source": []
  }
 ],
 "metadata": {
  "kernelspec": {
   "display_name": "Python 3",
   "language": "python",
   "name": "python3"
  },
  "language_info": {
   "codemirror_mode": {
    "name": "ipython",
    "version": 3
   },
   "file_extension": ".py",
   "mimetype": "text/x-python",
   "name": "python",
   "nbconvert_exporter": "python",
   "pygments_lexer": "ipython3",
   "version": "3.7.4"
  }
 },
 "nbformat": 4,
 "nbformat_minor": 2
}
