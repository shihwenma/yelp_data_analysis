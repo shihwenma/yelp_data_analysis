{
 "cells": [
  {
   "cell_type": "markdown",
   "metadata": {},
   "source": [
    "# COGS 108 - Final Project "
   ]
  },
  {
   "cell_type": "markdown",
   "metadata": {},
   "source": [
    "## Permissions"
   ]
  },
  {
   "cell_type": "markdown",
   "metadata": {},
   "source": [
    "Place an `X` in the appropriate bracket below to specify if you would like your group's project to be made available to the public. (Note that PIDs will be scraped from the public submission, but student names will be included.)\n",
    "\n",
    "* [X] YES - make available\n",
    "* [ ] NO - keep private"
   ]
  },
  {
   "cell_type": "markdown",
   "metadata": {},
   "source": [
    "# Overview"
   ]
  },
  {
   "cell_type": "markdown",
   "metadata": {},
   "source": [
    "Yelp has normalized the reviewing of businesses. This system has benefited its users by allowing them to read on other people’s experiences and opinions, along with updating them on the business’s amenities. This can be either problematic or valuable to businesses. It allows them to receive feedback on how to improve their business and either attracts or dissuades potential customers. In the modern day, Yelp tends to play a factor in and reflect a business’s success. Our project analyzes Yelp data to determine the effects of a business’s location on a business’s success (based off the area and environment it is in). This analysis is used to determine the likelihood of a business’s success based on the location it is set up in. "
   ]
  },
  {
   "cell_type": "markdown",
   "metadata": {},
   "source": [
    "# Names\n",
    "\n",
    "- Shih Wen Ma\n",
    "- Andrea Diaz\n",
    "- Viet Nguyen\n",
    "- Manda Tran\n",
    "- Matthew Luu"
   ]
  },
  {
   "cell_type": "markdown",
   "metadata": {},
   "source": [
    "# Group Members IDs\n",
    "\n",
    "- A15469802\n",
    "- A15084975\n",
    "- A13702483\n",
    "- A14452168\n",
    "- A16067866"
   ]
  },
  {
   "cell_type": "markdown",
   "metadata": {},
   "source": [
    "# Research Question"
   ]
  },
  {
   "cell_type": "markdown",
   "metadata": {},
   "source": [
    "How does the state a restaurant is located in (specifically the United States) affect the success of restaurants? Can you predict a restaurant’s success based on the location?"
   ]
  },
  {
   "cell_type": "markdown",
   "metadata": {},
   "source": [
    "## Background and Prior Work"
   ]
  },
  {
   "cell_type": "markdown",
   "metadata": {},
   "source": [
    "Yelp is an online service in which anyone with an account can comment on and/or rate a business. It allows users to make informed decisions on whether or not they want to receive services from them. For businesses, it is a platform for them to receive feedback on their services, such as what customers would like to see and what improvements they can make. This platform is used by both sides to gauge how successful and/or promising a business is. As such, we focus on Yelp data to help us determine the success of a restaurant (determined by ratings and number of reviews) based on location. \n",
    "\n",
    "When evaluating whether a Yelp data set is the most appropriate for our question, we analyzed the credibility and bias of the dataset. We researched possible factors that could affect the accuracy of the dataset in reflecting the success of a restaurant. One major question we asked is: “Is the data corrupt?”. Upon further research, we found that Yelp does manipulate reviews. They filter out data that they think are fake, but this algorithm is not always correct. The filter affects the success because it is manipulating the data, thus removing data that could potentially affect the ratings of the business. In addition, they accept payments from businesses to advertise for them and/or hide bad reviews while highlighting more favorable ones. This would skew the data because it means that restaurants who pay Yelp to do this are more likely to receive more customers and reviews, thus making the business (seem) more successful than its competitors. Another major aspect we considered was how the bandwagon effect could affect the ratings of a restaurant. We found that current ratings do affect future ratings, which further cements the skew of the data. This affects small businesses, as they are often overshadowed by larger businesses who have the resources to pay Yelp for advertisements and extra services. \n",
    "\n",
    "We have decided to move forward with using the Yelp dataset with these concerns in mind. We concluded that while these factors may affect the accuracy in reflecting the success of a restaurant, they also affect the success of the restaurant. These factors change the way the business is reflected through Yelp, a popular platform used by people to determine whether or not they want to utilize the business’s services. By playing a role in a potential customer’s choice in utilizing the service, Yelp indirectly affects the success of the restaurant. Therefore, it is safe to continue using the Yelp dataset, given that these factors also influence the restaurant’s success. \n",
    "\n",
    "While doing initial research on Yelp dataset, we came across the Yelp Dataset Challenge. We noticed 2-3 projects that had to do with predicting the success of a business. For example, one project predicted success based on the text in the reviews which were analyzed based on sentiment (reference #5) using machine learning models. However, we could not find any projects or reports that looked into the effect of different locations on the ratings of restaurants which is why we thought it would be an interesting topic to focus on. \n",
    "\n",
    "References (include links):\n",
    "- 1) The Yelp Review Filter: https://vivial.net/blog/how-to-avoid-the-yelp-review-filter-and-get-more-positive-reviews/\n",
    "- 2) The Yelp Effect https://rbj.rady.ucsd.edu/index.php/topics/social-impact/2014/01/the-yelp-effect/\n",
    "- 3) Fake Yelp Reviews\n",
    "    - https://smallbusiness.yahoo.com/advisor/writing-fake-reviews-yelp-might-sued-173135209.html\n",
    "    - https://www.businessinsider.com/20-percent-of-yelp-reviews-fake-2013-9\n",
    "- 4) The Yelp Factor https://hbswk.hbs.edu/item/the-yelp-factor-are-consumer-reviews-good-for-business\n",
    "- 5) Yelp Dataset Challenge 1 https://github.com/VC444/Yelp-Dataset-Challenge "
   ]
  },
  {
   "cell_type": "markdown",
   "metadata": {},
   "source": [
    "# Hypothesis\n"
   ]
  },
  {
   "cell_type": "markdown",
   "metadata": {},
   "source": [
    "Location will have a large effect on the rating because it sets up the environment and customer expectations the business needs to fulfill. The most popular type of food in a specific area will be set at a higher standard by the consumers and therefore have harsher ratings. For example, we believe that if Mexican food is very popular in San Diego, then Chipotle chain restaurants, known for its Mexican-style cuisine, will generally have lower ratings due to the fact that there are more local restaurants that specialize in Mexican food. Therefore, we will also place an emphasis on chain restaurants and compare our findings to local restaurants. "
   ]
  },
  {
   "cell_type": "markdown",
   "metadata": {},
   "source": [
    "# Dataset(s)"
   ]
  },
  {
   "cell_type": "markdown",
   "metadata": {},
   "source": [
    "- **Dataset Name: Yelp Restaurant Data Across America**\n",
    "- Link to the dataset: https://www.yelp.com/developers/documentation/v3/business_search\n",
    "- Number of observations: 1,024 observations\n",
    "\n",
    "  The data was collected by using a Yelp API and the github repo: https://github.com/gfairchild/yelpapi. We ran a search query for each state and each of the top types of cuisine. The data contains average (non - fast food) restaurant ratings. The columns in the data containss the name of the restaurant, the location (including latitude and longitude), the average rating, the applicable categories, and the number of customer reviews.\n",
    "  \n",
    "| Column Name | Description |\n",
    "|---|---|\n",
    "|name|The name of the restaurant|\n",
    "|coordinates|The latitude and longitude of the restaurant|\n",
    "|category|List of dictionaries describing the categories the restaurant belongs to|\n",
    "|location|The address of the restaurant|\n",
    "|rating|The overall average rating of the restaurant|\n",
    "|review_count|The number of reviews for the restaurant|\n",
    "|state|The state the restaurant is in|\n",
    "\n",
    "\n",
    "- **Dataset Name: Yelp Fast Food Restaurant Data Across America**\n",
    "- Link to the dataset: https://www.yelp.com/developers/documentation/v3/business_search\n",
    "- Number of observations: 11,220 observations\n",
    "\n",
    "  The data was collected by using a Yelp API and the github repo: https://github.com/gfairchild/yelpapi. We ran a search query for each state for each restaurant that contained the category 'fast food.' The data contains the same variables for the columns as the Yelp Restaurant Data Across America data set.\n",
    "\n",
    "\n",
    "- **Dataset Name: Fast Food Restaurants Across America**\n",
    "- Link to the dataset: https://www.kaggle.com/datafiniti/fast-food-restaurants#FastFoodRestaurants.csv\n",
    "- Number of observations: 10,000 observations\n",
    "\n",
    "  This dataset provides information about 10,000 fast food restaurants across America. The data was collected from Datafiniti's Business Database in March 2018. We are using this dataset to understand which fast food chains are the most popular across the US (per state) based on the number of locations. While the data comes from a reliable source, the completion of the dataset is cannot be confirmed because there was no free option to download the data directly from the source so we had to download the data from kaggle.com. The data includes the fast food restaurant, its location, and website.\n",
    "\n",
    "| Column Name | Description |\n",
    "|---|---|\n",
    "|address|the address of the restaurant|\n",
    "|city|the city the restaurant is in|\n",
    "|country|the country the restaurant is in|\n",
    "|keys|identifier of the restaurant|\n",
    "|latitude|latitude of the restaurant|\n",
    "|longitude|longitude of the restaurant|\n",
    "|name|the name of the restaurant|\n",
    "|postal code|the postal code of the restaurant|\n",
    "|province|the state the restaurant is in|\n",
    "|website|the website of the restaurant|"
   ]
  },
  {
   "cell_type": "markdown",
   "metadata": {},
   "source": [
    "# Setup"
   ]
  },
  {
   "cell_type": "code",
   "execution_count": 1,
   "metadata": {
    "scrolled": true
   },
   "outputs": [],
   "source": [
    "# uncomment below if not yet installed\n",
    "#!pip install --user geopandas\n",
    "#!pip install --user descartes"
   ]
  },
  {
   "cell_type": "code",
   "execution_count": 2,
   "metadata": {
    "scrolled": false
   },
   "outputs": [],
   "source": [
    "# import libraries\n",
    "import numpy as np\n",
    "import pandas as pd\n",
    "import geopandas as gpd\n",
    "\n",
    "import matplotlib.pyplot as plt\n",
    "plt.rcParams['figure.figsize'] = (17, 5)\n",
    "plt.rcParams.update({'font.size': 16})\n",
    "from mpl_toolkits.axes_grid1 import make_axes_locatable\n",
    "import seaborn as sns\n",
    "\n",
    "import shapely.geometry as shp"
   ]
  },
  {
   "cell_type": "markdown",
   "metadata": {},
   "source": [
    "Import dataframes from csv files"
   ]
  },
  {
   "cell_type": "code",
   "execution_count": 3,
   "metadata": {
    "scrolled": false
   },
   "outputs": [],
   "source": [
    "yelp_df = pd.read_csv('data/cuisine.csv')\n",
    "fast_df = pd.read_csv('data/FastFoodRestaurants.csv')\n",
    "fast_ratings_df = pd.read_csv('data/FastRatings.csv')\n",
    "pop_df = pd.read_csv('data/population.csv')"
   ]
  },
  {
   "cell_type": "markdown",
   "metadata": {},
   "source": [
    "# Data Cleaning"
   ]
  },
  {
   "cell_type": "markdown",
   "metadata": {},
   "source": [
    "Describe your data cleaning steps here."
   ]
  },
  {
   "cell_type": "code",
   "execution_count": 4,
   "metadata": {
    "scrolled": false
   },
   "outputs": [],
   "source": [
    "## YOUR CODE HERE\n",
    "## FEEL FREE TO ADD MULTIPLE CELLS PER SECTION"
   ]
  },
  {
   "cell_type": "code",
   "execution_count": 5,
   "metadata": {
    "scrolled": false
   },
   "outputs": [],
   "source": [
    "#turns all name to lowercase so capitalization does not affect analysis\n",
    "for i in yelp_df.index:\n",
    "    yelp_df.at[i,'name'] = yelp_df.at[i,'name'].lower()\n",
    "for j in fast_df.index:\n",
    "    fast_df.at[j, 'name'] = fast_df.at[j, 'name'].lower()\n",
    "for k in fast_ratings_df.index:\n",
    "    fast_ratings_df.at[k, 'name'] = fast_ratings_df.at[k, 'name'].lower()"
   ]
  },
  {
   "cell_type": "markdown",
   "metadata": {},
   "source": [
    "#### Clean data in the yelp_df"
   ]
  },
  {
   "cell_type": "code",
   "execution_count": 6,
   "metadata": {
    "scrolled": false
   },
   "outputs": [],
   "source": [
    "#Separate longitude and latitude information from coordinates column for the yelp_df\n",
    "yelp_df['latitude'] = np.nan\n",
    "yelp_df['longitude'] = np.nan\n",
    "for i in yelp_df.index:\n",
    "    coord = yelp_df.at[i, 'coordinates']\n",
    "    yelp_df.at[i, 'latitude'] = coord[coord.find(':') + 1 : coord.find(',')]\n",
    "    yelp_df.at[i, 'longitude'] = coord[coord.find(':', coord.find(',') + 1) + 1 : coord.find('}')]\n",
    "\n",
    "yelp_df = yelp_df.drop('coordinates',axis=1)"
   ]
  },
  {
   "cell_type": "code",
   "execution_count": 7,
   "metadata": {
    "scrolled": false
   },
   "outputs": [],
   "source": [
    "#Separate address information from location column for the yelp_df\n",
    "yelp_df['address'] = ''\n",
    "for i in yelp_df.index:\n",
    "    address = yelp_df.at[i, 'location']\n",
    "    yelp_df.at[i, 'address'] = address[address.find(':') + 3 : address.find(',') - 1]\n",
    "\n",
    "yelp_df = yelp_df.drop('location', axis=1)"
   ]
  },
  {
   "cell_type": "code",
   "execution_count": 8,
   "metadata": {
    "scrolled": true
   },
   "outputs": [],
   "source": [
    "#Drop unnamed column from yelp_df\n",
    "yelp_df = yelp_df.drop(['Unnamed: 0'], axis=1)"
   ]
  },
  {
   "cell_type": "code",
   "execution_count": 9,
   "metadata": {
    "scrolled": true
   },
   "outputs": [],
   "source": [
    "# drop duplicate rows if there are any\n",
    "yelp_df=yelp_df.drop_duplicates()\n",
    "yelp_df=yelp_df.reset_index(drop=True)"
   ]
  },
  {
   "cell_type": "code",
   "execution_count": 10,
   "metadata": {
    "scrolled": true
   },
   "outputs": [
    {
     "data": {
      "text/html": [
       "<div>\n",
       "<style scoped>\n",
       "    .dataframe tbody tr th:only-of-type {\n",
       "        vertical-align: middle;\n",
       "    }\n",
       "\n",
       "    .dataframe tbody tr th {\n",
       "        vertical-align: top;\n",
       "    }\n",
       "\n",
       "    .dataframe thead th {\n",
       "        text-align: right;\n",
       "    }\n",
       "</style>\n",
       "<table border=\"1\" class=\"dataframe\">\n",
       "  <thead>\n",
       "    <tr style=\"text-align: right;\">\n",
       "      <th></th>\n",
       "      <th>name</th>\n",
       "      <th>category</th>\n",
       "      <th>rating</th>\n",
       "      <th>review_count</th>\n",
       "      <th>state</th>\n",
       "      <th>latitude</th>\n",
       "      <th>longitude</th>\n",
       "      <th>address</th>\n",
       "    </tr>\n",
       "  </thead>\n",
       "  <tbody>\n",
       "    <tr>\n",
       "      <td>0</td>\n",
       "      <td>el barrio</td>\n",
       "      <td>[{'alias': 'mexican', 'title': 'Mexican'}]</td>\n",
       "      <td>4.5</td>\n",
       "      <td>618</td>\n",
       "      <td>AL</td>\n",
       "      <td>33.516636</td>\n",
       "      <td>-86.802849</td>\n",
       "      <td>2211 2nd Ave N</td>\n",
       "    </tr>\n",
       "    <tr>\n",
       "      <td>1</td>\n",
       "      <td>saw's soul kitchen</td>\n",
       "      <td>[{'alias': 'bbq', 'title': 'Barbeque'}, {'alia...</td>\n",
       "      <td>4.5</td>\n",
       "      <td>783</td>\n",
       "      <td>AL</td>\n",
       "      <td>33.524190</td>\n",
       "      <td>-86.773830</td>\n",
       "      <td>215 41st St S</td>\n",
       "    </tr>\n",
       "    <tr>\n",
       "      <td>2</td>\n",
       "      <td>yo' mama's</td>\n",
       "      <td>[{'alias': 'newamerican', 'title': 'American (...</td>\n",
       "      <td>4.5</td>\n",
       "      <td>355</td>\n",
       "      <td>AL</td>\n",
       "      <td>33.517660</td>\n",
       "      <td>-86.801830</td>\n",
       "      <td>2328 2nd Ave N</td>\n",
       "    </tr>\n",
       "    <tr>\n",
       "      <td>3</td>\n",
       "      <td>carrigan's public house</td>\n",
       "      <td>[{'alias': 'cocktailbars', 'title': 'Cocktail ...</td>\n",
       "      <td>4.5</td>\n",
       "      <td>527</td>\n",
       "      <td>AL</td>\n",
       "      <td>33.517124</td>\n",
       "      <td>-86.798646</td>\n",
       "      <td>2430 Morris Ave</td>\n",
       "    </tr>\n",
       "    <tr>\n",
       "      <td>4</td>\n",
       "      <td>highlands bar &amp; grill</td>\n",
       "      <td>[{'alias': 'southern', 'title': 'Southern'}, {...</td>\n",
       "      <td>4.5</td>\n",
       "      <td>304</td>\n",
       "      <td>AL</td>\n",
       "      <td>33.500572</td>\n",
       "      <td>-86.795577</td>\n",
       "      <td>2011 11th Ave S</td>\n",
       "    </tr>\n",
       "    <tr>\n",
       "      <td>...</td>\n",
       "      <td>...</td>\n",
       "      <td>...</td>\n",
       "      <td>...</td>\n",
       "      <td>...</td>\n",
       "      <td>...</td>\n",
       "      <td>...</td>\n",
       "      <td>...</td>\n",
       "      <td>...</td>\n",
       "    </tr>\n",
       "    <tr>\n",
       "      <td>1019</td>\n",
       "      <td>wasabi japanese grill &amp; bar</td>\n",
       "      <td>[{'alias': 'japanese', 'title': 'Japanese'}, {...</td>\n",
       "      <td>3.5</td>\n",
       "      <td>118</td>\n",
       "      <td>WY</td>\n",
       "      <td>41.161270</td>\n",
       "      <td>-104.789620</td>\n",
       "      <td>4620 Grandview Ave</td>\n",
       "    </tr>\n",
       "    <tr>\n",
       "      <td>1020</td>\n",
       "      <td>l'osteria mondello</td>\n",
       "      <td>[{'alias': 'italian', 'title': 'Italian'}, {'a...</td>\n",
       "      <td>4.0</td>\n",
       "      <td>79</td>\n",
       "      <td>WY</td>\n",
       "      <td>41.159263</td>\n",
       "      <td>-104.804882</td>\n",
       "      <td>1507 Stillwater Ave</td>\n",
       "    </tr>\n",
       "    <tr>\n",
       "      <td>1021</td>\n",
       "      <td>destination taiwan</td>\n",
       "      <td>[{'alias': 'bubbletea', 'title': 'Bubble Tea'}...</td>\n",
       "      <td>5.0</td>\n",
       "      <td>16</td>\n",
       "      <td>WY</td>\n",
       "      <td>41.160490</td>\n",
       "      <td>-104.776100</td>\n",
       "      <td>2634 Dell Range Blvd</td>\n",
       "    </tr>\n",
       "    <tr>\n",
       "      <td>1022</td>\n",
       "      <td>mort's bagels</td>\n",
       "      <td>[{'alias': 'bagels', 'title': 'Bagels'}, {'ali...</td>\n",
       "      <td>4.5</td>\n",
       "      <td>46</td>\n",
       "      <td>WY</td>\n",
       "      <td>41.134658</td>\n",
       "      <td>-104.817705</td>\n",
       "      <td>1815 Carey Ave</td>\n",
       "    </tr>\n",
       "    <tr>\n",
       "      <td>1023</td>\n",
       "      <td>the pit room</td>\n",
       "      <td>[{'alias': 'bbq', 'title': 'Barbeque'}]</td>\n",
       "      <td>4.5</td>\n",
       "      <td>1750</td>\n",
       "      <td>TX</td>\n",
       "      <td>29.734235</td>\n",
       "      <td>-95.393968</td>\n",
       "      <td>1201 Richmond Ave</td>\n",
       "    </tr>\n",
       "  </tbody>\n",
       "</table>\n",
       "<p>1024 rows × 8 columns</p>\n",
       "</div>"
      ],
      "text/plain": [
       "                             name  \\\n",
       "0                       el barrio   \n",
       "1              saw's soul kitchen   \n",
       "2                      yo' mama's   \n",
       "3         carrigan's public house   \n",
       "4           highlands bar & grill   \n",
       "...                           ...   \n",
       "1019  wasabi japanese grill & bar   \n",
       "1020           l'osteria mondello   \n",
       "1021           destination taiwan   \n",
       "1022                mort's bagels   \n",
       "1023                 the pit room   \n",
       "\n",
       "                                               category  rating  review_count  \\\n",
       "0            [{'alias': 'mexican', 'title': 'Mexican'}]     4.5           618   \n",
       "1     [{'alias': 'bbq', 'title': 'Barbeque'}, {'alia...     4.5           783   \n",
       "2     [{'alias': 'newamerican', 'title': 'American (...     4.5           355   \n",
       "3     [{'alias': 'cocktailbars', 'title': 'Cocktail ...     4.5           527   \n",
       "4     [{'alias': 'southern', 'title': 'Southern'}, {...     4.5           304   \n",
       "...                                                 ...     ...           ...   \n",
       "1019  [{'alias': 'japanese', 'title': 'Japanese'}, {...     3.5           118   \n",
       "1020  [{'alias': 'italian', 'title': 'Italian'}, {'a...     4.0            79   \n",
       "1021  [{'alias': 'bubbletea', 'title': 'Bubble Tea'}...     5.0            16   \n",
       "1022  [{'alias': 'bagels', 'title': 'Bagels'}, {'ali...     4.5            46   \n",
       "1023            [{'alias': 'bbq', 'title': 'Barbeque'}]     4.5          1750   \n",
       "\n",
       "     state   latitude   longitude               address  \n",
       "0       AL  33.516636  -86.802849        2211 2nd Ave N  \n",
       "1       AL  33.524190  -86.773830         215 41st St S  \n",
       "2       AL  33.517660  -86.801830        2328 2nd Ave N  \n",
       "3       AL  33.517124  -86.798646       2430 Morris Ave  \n",
       "4       AL  33.500572  -86.795577       2011 11th Ave S  \n",
       "...    ...        ...         ...                   ...  \n",
       "1019    WY  41.161270 -104.789620    4620 Grandview Ave  \n",
       "1020    WY  41.159263 -104.804882   1507 Stillwater Ave  \n",
       "1021    WY  41.160490 -104.776100  2634 Dell Range Blvd  \n",
       "1022    WY  41.134658 -104.817705        1815 Carey Ave  \n",
       "1023    TX  29.734235  -95.393968     1201 Richmond Ave  \n",
       "\n",
       "[1024 rows x 8 columns]"
      ]
     },
     "execution_count": 10,
     "metadata": {},
     "output_type": "execute_result"
    }
   ],
   "source": [
    "yelp_df"
   ]
  },
  {
   "cell_type": "markdown",
   "metadata": {},
   "source": [
    "#### Clean data in the fast_ratings_df"
   ]
  },
  {
   "cell_type": "code",
   "execution_count": 11,
   "metadata": {
    "scrolled": true
   },
   "outputs": [
    {
     "data": {
      "text/plain": [
       "array(['NY', 'OH', 'KY', 'SC', 'AR', 'IN', 'OK', 'LA', 'ND', 'TX', 'MI',\n",
       "       'MO', 'TN', 'NC', 'GA', 'UT', 'WI', 'MS', 'WA', 'NE', 'AL', 'WV',\n",
       "       'VT', 'AZ', 'KS', 'MN', 'SD', 'NM', 'OR', 'ME', 'IA', 'WY', 'IL',\n",
       "       'VA', 'MT', 'ID', 'PA', 'NJ', 'MD', 'FL', 'CA', 'MA', 'CO', 'NV',\n",
       "       'NH', 'CT', 'DE', 'HI'], dtype=object)"
      ]
     },
     "execution_count": 11,
     "metadata": {},
     "output_type": "execute_result"
    }
   ],
   "source": [
    "to_drop = []\n",
    "for i in fast_ratings_df.index:\n",
    "    if (\"'country': 'US'\" in fast_ratings_df['location'][i]):\n",
    "        continue\n",
    "    else:\n",
    "        to_drop.append(i)\n",
    "fast_ratings_df = fast_ratings_df.drop(to_drop)\n",
    "fast_ratings_df['state'].unique()"
   ]
  },
  {
   "cell_type": "code",
   "execution_count": 12,
   "metadata": {
    "scrolled": true
   },
   "outputs": [
    {
     "data": {
      "text/plain": [
       "array(['NY', 'OH', 'KY', 'SC', 'AR', 'IN', 'OK', 'LA', 'ND', 'TX', 'MI',\n",
       "       'MO', 'TN', 'NC', 'GA', 'UT', 'WI', 'MS', 'WA', 'NE', 'AL', 'WV',\n",
       "       'VT', 'AZ', 'KS', 'MN', 'SD', 'NM', 'OR', 'ME', 'IA', 'WY', 'IL',\n",
       "       'VA', 'MT', 'ID', 'PA', 'NJ', 'MD', 'FL', 'CA', 'MA', 'CO', 'NV',\n",
       "       'NH', 'CT', 'DE', 'HI'], dtype=object)"
      ]
     },
     "execution_count": 12,
     "metadata": {},
     "output_type": "execute_result"
    }
   ],
   "source": [
    "fast_ratings_df['state'].unique()"
   ]
  },
  {
   "cell_type": "code",
   "execution_count": 13,
   "metadata": {
    "scrolled": false
   },
   "outputs": [],
   "source": [
    "#Separate longitude and latitude information from coordinates column for the fast_ratings_df\n",
    "fast_ratings_df['latitude'] = np.nan\n",
    "fast_ratings_df['longitude'] = np.nan\n",
    "for i in fast_ratings_df.index:\n",
    "    coord = fast_ratings_df.at[i, 'coordinates']\n",
    "    fast_ratings_df.at[i, 'latitude'] = coord[coord.find(':') + 1 : coord.find(',')]\n",
    "    fast_ratings_df.at[i, 'longitude'] = coord[coord.find(':', coord.find(',') + 1) + 1 : coord.find('}')]\n",
    "\n",
    "fast_ratings_df = fast_ratings_df.drop('coordinates',axis=1)"
   ]
  },
  {
   "cell_type": "code",
   "execution_count": 14,
   "metadata": {
    "scrolled": false
   },
   "outputs": [],
   "source": [
    "#Separate address information from location column for the fast_ratings_df\n",
    "fast_ratings_df['address'] = ''\n",
    "for i in fast_ratings_df.index:\n",
    "    address = fast_ratings_df.at[i, 'location']\n",
    "    fast_ratings_df.at[i, 'address'] = address[address.find(':') + 3 : address.find(',') - 1]\n",
    "\n",
    "fast_ratings_df = fast_ratings_df.drop('location', axis=1)"
   ]
  },
  {
   "cell_type": "code",
   "execution_count": 15,
   "metadata": {
    "scrolled": true
   },
   "outputs": [],
   "source": [
    "# Drop unnamed column from fast_ratings_df\n",
    "fast_ratings_df = fast_ratings_df.drop(['Unnamed: 0', 'Unnamed: 0.1'], axis=1)"
   ]
  },
  {
   "cell_type": "code",
   "execution_count": 16,
   "metadata": {
    "scrolled": true
   },
   "outputs": [],
   "source": [
    "# drop duplicate rows if there are any\n",
    "fast_ratings_df=fast_ratings_df.drop_duplicates()\n",
    "fast_ratings_df=fast_ratings_df.reset_index(drop=True)"
   ]
  },
  {
   "cell_type": "code",
   "execution_count": 17,
   "metadata": {
    "scrolled": true
   },
   "outputs": [
    {
     "data": {
      "text/html": [
       "<div>\n",
       "<style scoped>\n",
       "    .dataframe tbody tr th:only-of-type {\n",
       "        vertical-align: middle;\n",
       "    }\n",
       "\n",
       "    .dataframe tbody tr th {\n",
       "        vertical-align: top;\n",
       "    }\n",
       "\n",
       "    .dataframe thead th {\n",
       "        text-align: right;\n",
       "    }\n",
       "</style>\n",
       "<table border=\"1\" class=\"dataframe\">\n",
       "  <thead>\n",
       "    <tr style=\"text-align: right;\">\n",
       "      <th></th>\n",
       "      <th>name</th>\n",
       "      <th>category</th>\n",
       "      <th>rating</th>\n",
       "      <th>review_count</th>\n",
       "      <th>state</th>\n",
       "      <th>latitude</th>\n",
       "      <th>longitude</th>\n",
       "      <th>address</th>\n",
       "    </tr>\n",
       "  </thead>\n",
       "  <tbody>\n",
       "    <tr>\n",
       "      <td>0</td>\n",
       "      <td>taco bell</td>\n",
       "      <td>[{'alias': 'hotdogs', 'title': 'Fast Food'}, {...</td>\n",
       "      <td>5.0</td>\n",
       "      <td>4</td>\n",
       "      <td>NY</td>\n",
       "      <td>44.950268</td>\n",
       "      <td>-74.844363</td>\n",
       "      <td>1602 State Highway 37</td>\n",
       "    </tr>\n",
       "    <tr>\n",
       "      <td>1</td>\n",
       "      <td>mcdonald's</td>\n",
       "      <td>[{'alias': 'hotdogs', 'title': 'Fast Food'}, {...</td>\n",
       "      <td>3.5</td>\n",
       "      <td>8</td>\n",
       "      <td>OH</td>\n",
       "      <td>39.523908</td>\n",
       "      <td>-83.458744</td>\n",
       "      <td>1401 Leesburg Ave</td>\n",
       "    </tr>\n",
       "    <tr>\n",
       "      <td>2</td>\n",
       "      <td>wendy's</td>\n",
       "      <td>[{'alias': 'burgers', 'title': 'Burgers'}, {'a...</td>\n",
       "      <td>2.5</td>\n",
       "      <td>5</td>\n",
       "      <td>OH</td>\n",
       "      <td>39.532787</td>\n",
       "      <td>-83.445862</td>\n",
       "      <td>530 Clinton Avenue</td>\n",
       "    </tr>\n",
       "    <tr>\n",
       "      <td>3</td>\n",
       "      <td>frisch's big boy</td>\n",
       "      <td>[{'alias': 'burgers', 'title': 'Burgers'}, {'a...</td>\n",
       "      <td>3.5</td>\n",
       "      <td>15</td>\n",
       "      <td>KY</td>\n",
       "      <td>38.627340</td>\n",
       "      <td>-83.791582</td>\n",
       "      <td>408 Market Square Dr</td>\n",
       "    </tr>\n",
       "    <tr>\n",
       "      <td>4</td>\n",
       "      <td>lee's famous recipe chicken</td>\n",
       "      <td>[{'alias': 'hotdogs', 'title': 'Fast Food'}, {...</td>\n",
       "      <td>5.0</td>\n",
       "      <td>3</td>\n",
       "      <td>KY</td>\n",
       "      <td>38.633732</td>\n",
       "      <td>-83.792804</td>\n",
       "      <td>Highway 68 S</td>\n",
       "    </tr>\n",
       "    <tr>\n",
       "      <td>...</td>\n",
       "      <td>...</td>\n",
       "      <td>...</td>\n",
       "      <td>...</td>\n",
       "      <td>...</td>\n",
       "      <td>...</td>\n",
       "      <td>...</td>\n",
       "      <td>...</td>\n",
       "      <td>...</td>\n",
       "    </tr>\n",
       "    <tr>\n",
       "      <td>4318</td>\n",
       "      <td>mcdonald's</td>\n",
       "      <td>[{'alias': 'hotdogs', 'title': 'Fast Food'}, {...</td>\n",
       "      <td>2.0</td>\n",
       "      <td>12</td>\n",
       "      <td>MT</td>\n",
       "      <td>46.397796</td>\n",
       "      <td>-105.822041</td>\n",
       "      <td>1120 S Haynes</td>\n",
       "    </tr>\n",
       "    <tr>\n",
       "      <td>4319</td>\n",
       "      <td>wendy's</td>\n",
       "      <td>[{'alias': 'hotdogs', 'title': 'Fast Food'}, {...</td>\n",
       "      <td>3.0</td>\n",
       "      <td>9</td>\n",
       "      <td>MT</td>\n",
       "      <td>46.405777</td>\n",
       "      <td>-105.822041</td>\n",
       "      <td>210 S. Haynes Ave</td>\n",
       "    </tr>\n",
       "    <tr>\n",
       "      <td>4320</td>\n",
       "      <td>pizza hut</td>\n",
       "      <td>[{'alias': 'pizza', 'title': 'Pizza'}, {'alias...</td>\n",
       "      <td>3.5</td>\n",
       "      <td>4</td>\n",
       "      <td>MT</td>\n",
       "      <td>46.403074</td>\n",
       "      <td>-105.821939</td>\n",
       "      <td>3009 Stower St</td>\n",
       "    </tr>\n",
       "    <tr>\n",
       "      <td>4321</td>\n",
       "      <td>taco john's</td>\n",
       "      <td>[{'alias': 'mexican', 'title': 'Mexican'}, {'a...</td>\n",
       "      <td>2.5</td>\n",
       "      <td>8</td>\n",
       "      <td>MT</td>\n",
       "      <td>46.399650</td>\n",
       "      <td>-105.822989</td>\n",
       "      <td>911 S Haynes St</td>\n",
       "    </tr>\n",
       "    <tr>\n",
       "      <td>4322</td>\n",
       "      <td>chick-fil-a</td>\n",
       "      <td>[{'alias': 'hotdogs', 'title': 'Fast Food'}]</td>\n",
       "      <td>4.5</td>\n",
       "      <td>28</td>\n",
       "      <td>GA</td>\n",
       "      <td>33.410332</td>\n",
       "      <td>-82.026117</td>\n",
       "      <td>3130 Peach Orchard Rd</td>\n",
       "    </tr>\n",
       "  </tbody>\n",
       "</table>\n",
       "<p>4323 rows × 8 columns</p>\n",
       "</div>"
      ],
      "text/plain": [
       "                             name  \\\n",
       "0                       taco bell   \n",
       "1                      mcdonald's   \n",
       "2                         wendy's   \n",
       "3                frisch's big boy   \n",
       "4     lee's famous recipe chicken   \n",
       "...                           ...   \n",
       "4318                   mcdonald's   \n",
       "4319                      wendy's   \n",
       "4320                    pizza hut   \n",
       "4321                  taco john's   \n",
       "4322                  chick-fil-a   \n",
       "\n",
       "                                               category  rating  review_count  \\\n",
       "0     [{'alias': 'hotdogs', 'title': 'Fast Food'}, {...     5.0             4   \n",
       "1     [{'alias': 'hotdogs', 'title': 'Fast Food'}, {...     3.5             8   \n",
       "2     [{'alias': 'burgers', 'title': 'Burgers'}, {'a...     2.5             5   \n",
       "3     [{'alias': 'burgers', 'title': 'Burgers'}, {'a...     3.5            15   \n",
       "4     [{'alias': 'hotdogs', 'title': 'Fast Food'}, {...     5.0             3   \n",
       "...                                                 ...     ...           ...   \n",
       "4318  [{'alias': 'hotdogs', 'title': 'Fast Food'}, {...     2.0            12   \n",
       "4319  [{'alias': 'hotdogs', 'title': 'Fast Food'}, {...     3.0             9   \n",
       "4320  [{'alias': 'pizza', 'title': 'Pizza'}, {'alias...     3.5             4   \n",
       "4321  [{'alias': 'mexican', 'title': 'Mexican'}, {'a...     2.5             8   \n",
       "4322       [{'alias': 'hotdogs', 'title': 'Fast Food'}]     4.5            28   \n",
       "\n",
       "     state   latitude   longitude                address  \n",
       "0       NY  44.950268  -74.844363  1602 State Highway 37  \n",
       "1       OH  39.523908  -83.458744      1401 Leesburg Ave  \n",
       "2       OH  39.532787  -83.445862     530 Clinton Avenue  \n",
       "3       KY  38.627340  -83.791582   408 Market Square Dr  \n",
       "4       KY  38.633732  -83.792804           Highway 68 S  \n",
       "...    ...        ...         ...                    ...  \n",
       "4318    MT  46.397796 -105.822041          1120 S Haynes  \n",
       "4319    MT  46.405777 -105.822041      210 S. Haynes Ave  \n",
       "4320    MT  46.403074 -105.821939         3009 Stower St  \n",
       "4321    MT  46.399650 -105.822989        911 S Haynes St  \n",
       "4322    GA  33.410332  -82.026117  3130 Peach Orchard Rd  \n",
       "\n",
       "[4323 rows x 8 columns]"
      ]
     },
     "execution_count": 17,
     "metadata": {},
     "output_type": "execute_result"
    }
   ],
   "source": [
    "fast_ratings_df"
   ]
  },
  {
   "cell_type": "markdown",
   "metadata": {},
   "source": [
    "#### Clean data in fast_df"
   ]
  },
  {
   "cell_type": "code",
   "execution_count": 18,
   "metadata": {},
   "outputs": [],
   "source": [
    "# rename 'province' column to 'state' to match fast_ratings_df and yelp_df column names\n",
    "fast_df = fast_df.rename(columns={'province':'state'})\n",
    "\n",
    "# drop unnecessary columns\n",
    "fast_df = fast_df.drop(['city','country','keys','postalCode','websites'], axis=1)\n",
    "# reorder columns to resemble order of fast_ratings_df and yelp_df column order\n",
    "fast_df = fast_df[['name', 'state', 'latitude', 'longitude', 'address']]"
   ]
  },
  {
   "cell_type": "code",
   "execution_count": 19,
   "metadata": {},
   "outputs": [
    {
     "data": {
      "text/html": [
       "<div>\n",
       "<style scoped>\n",
       "    .dataframe tbody tr th:only-of-type {\n",
       "        vertical-align: middle;\n",
       "    }\n",
       "\n",
       "    .dataframe tbody tr th {\n",
       "        vertical-align: top;\n",
       "    }\n",
       "\n",
       "    .dataframe thead th {\n",
       "        text-align: right;\n",
       "    }\n",
       "</style>\n",
       "<table border=\"1\" class=\"dataframe\">\n",
       "  <thead>\n",
       "    <tr style=\"text-align: right;\">\n",
       "      <th></th>\n",
       "      <th>name</th>\n",
       "      <th>state</th>\n",
       "      <th>latitude</th>\n",
       "      <th>longitude</th>\n",
       "      <th>address</th>\n",
       "    </tr>\n",
       "  </thead>\n",
       "  <tbody>\n",
       "    <tr>\n",
       "      <td>0</td>\n",
       "      <td>mcdonald's</td>\n",
       "      <td>NY</td>\n",
       "      <td>44.92130</td>\n",
       "      <td>-74.89021</td>\n",
       "      <td>324 Main St</td>\n",
       "    </tr>\n",
       "    <tr>\n",
       "      <td>1</td>\n",
       "      <td>wendy's</td>\n",
       "      <td>OH</td>\n",
       "      <td>39.53255</td>\n",
       "      <td>-83.44526</td>\n",
       "      <td>530 Clinton Ave</td>\n",
       "    </tr>\n",
       "    <tr>\n",
       "      <td>2</td>\n",
       "      <td>frisch's big boy</td>\n",
       "      <td>KY</td>\n",
       "      <td>38.62736</td>\n",
       "      <td>-83.79141</td>\n",
       "      <td>408 Market Square Dr</td>\n",
       "    </tr>\n",
       "    <tr>\n",
       "      <td>3</td>\n",
       "      <td>mcdonald's</td>\n",
       "      <td>NY</td>\n",
       "      <td>44.95008</td>\n",
       "      <td>-74.84553</td>\n",
       "      <td>6098 State Highway 37</td>\n",
       "    </tr>\n",
       "    <tr>\n",
       "      <td>4</td>\n",
       "      <td>omg! rotisserie</td>\n",
       "      <td>OH</td>\n",
       "      <td>39.35155</td>\n",
       "      <td>-82.09728</td>\n",
       "      <td>139 Columbus Rd</td>\n",
       "    </tr>\n",
       "  </tbody>\n",
       "</table>\n",
       "</div>"
      ],
      "text/plain": [
       "               name state  latitude  longitude                address\n",
       "0        mcdonald's    NY  44.92130  -74.89021            324 Main St\n",
       "1           wendy's    OH  39.53255  -83.44526        530 Clinton Ave\n",
       "2  frisch's big boy    KY  38.62736  -83.79141   408 Market Square Dr\n",
       "3        mcdonald's    NY  44.95008  -74.84553  6098 State Highway 37\n",
       "4   omg! rotisserie    OH  39.35155  -82.09728        139 Columbus Rd"
      ]
     },
     "execution_count": 19,
     "metadata": {},
     "output_type": "execute_result"
    }
   ],
   "source": [
    "fast_df.head()"
   ]
  },
  {
   "cell_type": "markdown",
   "metadata": {},
   "source": [
    "#### List of top ten types of cuisine\n",
    "We will be analyzing the ratings for the top ten types of cuisine in the United States, along with American food.\n",
    "source: https://www.thinktasty.com/the-most-popular-cuisines-in-the-united-states/"
   ]
  },
  {
   "cell_type": "code",
   "execution_count": 20,
   "metadata": {
    "scrolled": true
   },
   "outputs": [],
   "source": [
    "cuisine = ['american', 'mexican', 'thai', 'greek', 'indian', 'japanese', \n",
    "           'spanish', 'chinese', 'french', 'italian', 'mediterranean']"
   ]
  },
  {
   "cell_type": "markdown",
   "metadata": {},
   "source": [
    "First create a list of all the average ratings of each cuisine per state."
   ]
  },
  {
   "cell_type": "code",
   "execution_count": 21,
   "metadata": {
    "scrolled": true
   },
   "outputs": [],
   "source": [
    "def find_avg_rating(category):\n",
    "    cat_list = []\n",
    "    for i in yelp_df.index:\n",
    "        is_cat = category in yelp_df['category'].iloc[i]\n",
    "        cat_list.append(is_cat)\n",
    "    temp = yelp_df.assign(cat_clean = cat_list)\n",
    "    temp_df = temp[temp['cat_clean'].values==True]\n",
    "    return temp_df.groupby('state').rating.mean()\n",
    "    \n",
    "all_cuisine_ratings = {}\n",
    "for cuis in cuisine:\n",
    "    all_cuisine_ratings[cuis] = find_avg_rating(cuis)"
   ]
  },
  {
   "cell_type": "markdown",
   "metadata": {},
   "source": [
    "Then format all the average ratings of each cuisine in each state into a dataframe."
   ]
  },
  {
   "cell_type": "code",
   "execution_count": 22,
   "metadata": {
    "scrolled": true
   },
   "outputs": [
    {
     "data": {
      "text/html": [
       "<div>\n",
       "<style scoped>\n",
       "    .dataframe tbody tr th:only-of-type {\n",
       "        vertical-align: middle;\n",
       "    }\n",
       "\n",
       "    .dataframe tbody tr th {\n",
       "        vertical-align: top;\n",
       "    }\n",
       "\n",
       "    .dataframe thead th {\n",
       "        text-align: right;\n",
       "    }\n",
       "</style>\n",
       "<table border=\"1\" class=\"dataframe\">\n",
       "  <thead>\n",
       "    <tr style=\"text-align: right;\">\n",
       "      <th></th>\n",
       "      <th>state</th>\n",
       "      <th>american</th>\n",
       "      <th>mexican</th>\n",
       "      <th>thai</th>\n",
       "      <th>greek</th>\n",
       "      <th>indian</th>\n",
       "      <th>japanese</th>\n",
       "      <th>spanish</th>\n",
       "      <th>chinese</th>\n",
       "      <th>french</th>\n",
       "      <th>italian</th>\n",
       "      <th>mediterranean</th>\n",
       "    </tr>\n",
       "  </thead>\n",
       "  <tbody>\n",
       "    <tr>\n",
       "      <td>0</td>\n",
       "      <td>AL</td>\n",
       "      <td>4.500000</td>\n",
       "      <td>4.50</td>\n",
       "      <td>4.50</td>\n",
       "      <td>NaN</td>\n",
       "      <td>NaN</td>\n",
       "      <td>NaN</td>\n",
       "      <td>NaN</td>\n",
       "      <td>NaN</td>\n",
       "      <td>4.500000</td>\n",
       "      <td>4.500000</td>\n",
       "      <td>NaN</td>\n",
       "    </tr>\n",
       "    <tr>\n",
       "      <td>1</td>\n",
       "      <td>AK</td>\n",
       "      <td>4.071429</td>\n",
       "      <td>NaN</td>\n",
       "      <td>NaN</td>\n",
       "      <td>NaN</td>\n",
       "      <td>NaN</td>\n",
       "      <td>4.500000</td>\n",
       "      <td>NaN</td>\n",
       "      <td>NaN</td>\n",
       "      <td>NaN</td>\n",
       "      <td>NaN</td>\n",
       "      <td>4.25</td>\n",
       "    </tr>\n",
       "    <tr>\n",
       "      <td>2</td>\n",
       "      <td>AZ</td>\n",
       "      <td>4.000000</td>\n",
       "      <td>4.50</td>\n",
       "      <td>4.50</td>\n",
       "      <td>NaN</td>\n",
       "      <td>NaN</td>\n",
       "      <td>4.500000</td>\n",
       "      <td>NaN</td>\n",
       "      <td>NaN</td>\n",
       "      <td>NaN</td>\n",
       "      <td>4.500000</td>\n",
       "      <td>NaN</td>\n",
       "    </tr>\n",
       "    <tr>\n",
       "      <td>3</td>\n",
       "      <td>OK</td>\n",
       "      <td>4.363636</td>\n",
       "      <td>4.00</td>\n",
       "      <td>5.00</td>\n",
       "      <td>NaN</td>\n",
       "      <td>NaN</td>\n",
       "      <td>NaN</td>\n",
       "      <td>NaN</td>\n",
       "      <td>NaN</td>\n",
       "      <td>NaN</td>\n",
       "      <td>4.250000</td>\n",
       "      <td>NaN</td>\n",
       "    </tr>\n",
       "    <tr>\n",
       "      <td>4</td>\n",
       "      <td>CA</td>\n",
       "      <td>4.125000</td>\n",
       "      <td>4.50</td>\n",
       "      <td>NaN</td>\n",
       "      <td>NaN</td>\n",
       "      <td>NaN</td>\n",
       "      <td>4.500000</td>\n",
       "      <td>NaN</td>\n",
       "      <td>NaN</td>\n",
       "      <td>4.166667</td>\n",
       "      <td>4.250000</td>\n",
       "      <td>NaN</td>\n",
       "    </tr>\n",
       "    <tr>\n",
       "      <td>5</td>\n",
       "      <td>CO</td>\n",
       "      <td>4.285714</td>\n",
       "      <td>4.00</td>\n",
       "      <td>NaN</td>\n",
       "      <td>NaN</td>\n",
       "      <td>NaN</td>\n",
       "      <td>4.500000</td>\n",
       "      <td>4.500000</td>\n",
       "      <td>NaN</td>\n",
       "      <td>NaN</td>\n",
       "      <td>4.250000</td>\n",
       "      <td>NaN</td>\n",
       "    </tr>\n",
       "    <tr>\n",
       "      <td>6</td>\n",
       "      <td>CT</td>\n",
       "      <td>4.000000</td>\n",
       "      <td>NaN</td>\n",
       "      <td>4.50</td>\n",
       "      <td>NaN</td>\n",
       "      <td>NaN</td>\n",
       "      <td>NaN</td>\n",
       "      <td>NaN</td>\n",
       "      <td>NaN</td>\n",
       "      <td>NaN</td>\n",
       "      <td>4.000000</td>\n",
       "      <td>NaN</td>\n",
       "    </tr>\n",
       "    <tr>\n",
       "      <td>7</td>\n",
       "      <td>DC</td>\n",
       "      <td>4.083333</td>\n",
       "      <td>NaN</td>\n",
       "      <td>NaN</td>\n",
       "      <td>4.0</td>\n",
       "      <td>NaN</td>\n",
       "      <td>NaN</td>\n",
       "      <td>NaN</td>\n",
       "      <td>NaN</td>\n",
       "      <td>4.500000</td>\n",
       "      <td>4.333333</td>\n",
       "      <td>NaN</td>\n",
       "    </tr>\n",
       "    <tr>\n",
       "      <td>8</td>\n",
       "      <td>KS</td>\n",
       "      <td>4.384615</td>\n",
       "      <td>3.50</td>\n",
       "      <td>5.00</td>\n",
       "      <td>4.5</td>\n",
       "      <td>NaN</td>\n",
       "      <td>NaN</td>\n",
       "      <td>NaN</td>\n",
       "      <td>NaN</td>\n",
       "      <td>4.500000</td>\n",
       "      <td>4.750000</td>\n",
       "      <td>4.50</td>\n",
       "    </tr>\n",
       "    <tr>\n",
       "      <td>9</td>\n",
       "      <td>FL</td>\n",
       "      <td>4.416667</td>\n",
       "      <td>4.00</td>\n",
       "      <td>NaN</td>\n",
       "      <td>4.5</td>\n",
       "      <td>NaN</td>\n",
       "      <td>NaN</td>\n",
       "      <td>NaN</td>\n",
       "      <td>NaN</td>\n",
       "      <td>NaN</td>\n",
       "      <td>4.666667</td>\n",
       "      <td>4.50</td>\n",
       "    </tr>\n",
       "    <tr>\n",
       "      <td>10</td>\n",
       "      <td>GA</td>\n",
       "      <td>4.416667</td>\n",
       "      <td>NaN</td>\n",
       "      <td>NaN</td>\n",
       "      <td>NaN</td>\n",
       "      <td>NaN</td>\n",
       "      <td>4.500000</td>\n",
       "      <td>NaN</td>\n",
       "      <td>NaN</td>\n",
       "      <td>NaN</td>\n",
       "      <td>NaN</td>\n",
       "      <td>5.00</td>\n",
       "    </tr>\n",
       "    <tr>\n",
       "      <td>11</td>\n",
       "      <td>HI</td>\n",
       "      <td>NaN</td>\n",
       "      <td>NaN</td>\n",
       "      <td>NaN</td>\n",
       "      <td>NaN</td>\n",
       "      <td>NaN</td>\n",
       "      <td>4.500000</td>\n",
       "      <td>NaN</td>\n",
       "      <td>NaN</td>\n",
       "      <td>NaN</td>\n",
       "      <td>NaN</td>\n",
       "      <td>NaN</td>\n",
       "    </tr>\n",
       "    <tr>\n",
       "      <td>12</td>\n",
       "      <td>ID</td>\n",
       "      <td>4.166667</td>\n",
       "      <td>NaN</td>\n",
       "      <td>4.00</td>\n",
       "      <td>NaN</td>\n",
       "      <td>NaN</td>\n",
       "      <td>NaN</td>\n",
       "      <td>4.500000</td>\n",
       "      <td>NaN</td>\n",
       "      <td>NaN</td>\n",
       "      <td>4.250000</td>\n",
       "      <td>NaN</td>\n",
       "    </tr>\n",
       "    <tr>\n",
       "      <td>13</td>\n",
       "      <td>IL</td>\n",
       "      <td>4.500000</td>\n",
       "      <td>4.00</td>\n",
       "      <td>NaN</td>\n",
       "      <td>NaN</td>\n",
       "      <td>NaN</td>\n",
       "      <td>NaN</td>\n",
       "      <td>4.000000</td>\n",
       "      <td>NaN</td>\n",
       "      <td>NaN</td>\n",
       "      <td>4.166667</td>\n",
       "      <td>4.00</td>\n",
       "    </tr>\n",
       "    <tr>\n",
       "      <td>14</td>\n",
       "      <td>IN</td>\n",
       "      <td>4.500000</td>\n",
       "      <td>4.50</td>\n",
       "      <td>NaN</td>\n",
       "      <td>NaN</td>\n",
       "      <td>NaN</td>\n",
       "      <td>NaN</td>\n",
       "      <td>NaN</td>\n",
       "      <td>NaN</td>\n",
       "      <td>NaN</td>\n",
       "      <td>NaN</td>\n",
       "      <td>NaN</td>\n",
       "    </tr>\n",
       "    <tr>\n",
       "      <td>15</td>\n",
       "      <td>IA</td>\n",
       "      <td>4.125000</td>\n",
       "      <td>4.50</td>\n",
       "      <td>NaN</td>\n",
       "      <td>4.5</td>\n",
       "      <td>NaN</td>\n",
       "      <td>4.500000</td>\n",
       "      <td>NaN</td>\n",
       "      <td>NaN</td>\n",
       "      <td>4.000000</td>\n",
       "      <td>NaN</td>\n",
       "      <td>4.25</td>\n",
       "    </tr>\n",
       "    <tr>\n",
       "      <td>16</td>\n",
       "      <td>KY</td>\n",
       "      <td>4.444444</td>\n",
       "      <td>4.50</td>\n",
       "      <td>NaN</td>\n",
       "      <td>NaN</td>\n",
       "      <td>NaN</td>\n",
       "      <td>NaN</td>\n",
       "      <td>NaN</td>\n",
       "      <td>NaN</td>\n",
       "      <td>NaN</td>\n",
       "      <td>NaN</td>\n",
       "      <td>NaN</td>\n",
       "    </tr>\n",
       "    <tr>\n",
       "      <td>17</td>\n",
       "      <td>ME</td>\n",
       "      <td>4.416667</td>\n",
       "      <td>NaN</td>\n",
       "      <td>4.50</td>\n",
       "      <td>NaN</td>\n",
       "      <td>NaN</td>\n",
       "      <td>NaN</td>\n",
       "      <td>NaN</td>\n",
       "      <td>NaN</td>\n",
       "      <td>NaN</td>\n",
       "      <td>NaN</td>\n",
       "      <td>4.50</td>\n",
       "    </tr>\n",
       "    <tr>\n",
       "      <td>18</td>\n",
       "      <td>MD</td>\n",
       "      <td>4.142857</td>\n",
       "      <td>4.50</td>\n",
       "      <td>NaN</td>\n",
       "      <td>NaN</td>\n",
       "      <td>NaN</td>\n",
       "      <td>NaN</td>\n",
       "      <td>NaN</td>\n",
       "      <td>NaN</td>\n",
       "      <td>4.500000</td>\n",
       "      <td>4.500000</td>\n",
       "      <td>4.50</td>\n",
       "    </tr>\n",
       "    <tr>\n",
       "      <td>19</td>\n",
       "      <td>MA</td>\n",
       "      <td>4.000000</td>\n",
       "      <td>4.00</td>\n",
       "      <td>NaN</td>\n",
       "      <td>NaN</td>\n",
       "      <td>NaN</td>\n",
       "      <td>NaN</td>\n",
       "      <td>4.250000</td>\n",
       "      <td>NaN</td>\n",
       "      <td>NaN</td>\n",
       "      <td>4.125000</td>\n",
       "      <td>NaN</td>\n",
       "    </tr>\n",
       "    <tr>\n",
       "      <td>20</td>\n",
       "      <td>MI</td>\n",
       "      <td>4.250000</td>\n",
       "      <td>4.50</td>\n",
       "      <td>4.50</td>\n",
       "      <td>NaN</td>\n",
       "      <td>NaN</td>\n",
       "      <td>NaN</td>\n",
       "      <td>NaN</td>\n",
       "      <td>NaN</td>\n",
       "      <td>NaN</td>\n",
       "      <td>4.500000</td>\n",
       "      <td>NaN</td>\n",
       "    </tr>\n",
       "    <tr>\n",
       "      <td>21</td>\n",
       "      <td>MN</td>\n",
       "      <td>4.375000</td>\n",
       "      <td>NaN</td>\n",
       "      <td>4.50</td>\n",
       "      <td>4.5</td>\n",
       "      <td>NaN</td>\n",
       "      <td>NaN</td>\n",
       "      <td>NaN</td>\n",
       "      <td>NaN</td>\n",
       "      <td>4.250000</td>\n",
       "      <td>4.250000</td>\n",
       "      <td>4.50</td>\n",
       "    </tr>\n",
       "    <tr>\n",
       "      <td>22</td>\n",
       "      <td>MS</td>\n",
       "      <td>4.333333</td>\n",
       "      <td>4.00</td>\n",
       "      <td>4.25</td>\n",
       "      <td>4.0</td>\n",
       "      <td>NaN</td>\n",
       "      <td>NaN</td>\n",
       "      <td>NaN</td>\n",
       "      <td>NaN</td>\n",
       "      <td>NaN</td>\n",
       "      <td>4.000000</td>\n",
       "      <td>4.00</td>\n",
       "    </tr>\n",
       "    <tr>\n",
       "      <td>23</td>\n",
       "      <td>MO</td>\n",
       "      <td>4.250000</td>\n",
       "      <td>NaN</td>\n",
       "      <td>NaN</td>\n",
       "      <td>NaN</td>\n",
       "      <td>NaN</td>\n",
       "      <td>NaN</td>\n",
       "      <td>NaN</td>\n",
       "      <td>NaN</td>\n",
       "      <td>NaN</td>\n",
       "      <td>NaN</td>\n",
       "      <td>NaN</td>\n",
       "    </tr>\n",
       "    <tr>\n",
       "      <td>24</td>\n",
       "      <td>MT</td>\n",
       "      <td>4.375000</td>\n",
       "      <td>NaN</td>\n",
       "      <td>4.50</td>\n",
       "      <td>NaN</td>\n",
       "      <td>NaN</td>\n",
       "      <td>4.500000</td>\n",
       "      <td>NaN</td>\n",
       "      <td>NaN</td>\n",
       "      <td>NaN</td>\n",
       "      <td>NaN</td>\n",
       "      <td>NaN</td>\n",
       "    </tr>\n",
       "    <tr>\n",
       "      <td>25</td>\n",
       "      <td>NE</td>\n",
       "      <td>4.375000</td>\n",
       "      <td>NaN</td>\n",
       "      <td>NaN</td>\n",
       "      <td>NaN</td>\n",
       "      <td>NaN</td>\n",
       "      <td>4.000000</td>\n",
       "      <td>NaN</td>\n",
       "      <td>NaN</td>\n",
       "      <td>4.500000</td>\n",
       "      <td>NaN</td>\n",
       "      <td>NaN</td>\n",
       "    </tr>\n",
       "    <tr>\n",
       "      <td>26</td>\n",
       "      <td>NV</td>\n",
       "      <td>4.428571</td>\n",
       "      <td>4.50</td>\n",
       "      <td>4.00</td>\n",
       "      <td>NaN</td>\n",
       "      <td>NaN</td>\n",
       "      <td>4.500000</td>\n",
       "      <td>NaN</td>\n",
       "      <td>NaN</td>\n",
       "      <td>4.000000</td>\n",
       "      <td>NaN</td>\n",
       "      <td>NaN</td>\n",
       "    </tr>\n",
       "    <tr>\n",
       "      <td>27</td>\n",
       "      <td>NH</td>\n",
       "      <td>4.071429</td>\n",
       "      <td>4.50</td>\n",
       "      <td>4.50</td>\n",
       "      <td>4.5</td>\n",
       "      <td>NaN</td>\n",
       "      <td>NaN</td>\n",
       "      <td>NaN</td>\n",
       "      <td>NaN</td>\n",
       "      <td>NaN</td>\n",
       "      <td>4.500000</td>\n",
       "      <td>4.50</td>\n",
       "    </tr>\n",
       "    <tr>\n",
       "      <td>28</td>\n",
       "      <td>NJ</td>\n",
       "      <td>4.000000</td>\n",
       "      <td>4.50</td>\n",
       "      <td>NaN</td>\n",
       "      <td>NaN</td>\n",
       "      <td>NaN</td>\n",
       "      <td>NaN</td>\n",
       "      <td>4.166667</td>\n",
       "      <td>NaN</td>\n",
       "      <td>NaN</td>\n",
       "      <td>NaN</td>\n",
       "      <td>NaN</td>\n",
       "    </tr>\n",
       "    <tr>\n",
       "      <td>29</td>\n",
       "      <td>NM</td>\n",
       "      <td>4.375000</td>\n",
       "      <td>4.30</td>\n",
       "      <td>NaN</td>\n",
       "      <td>NaN</td>\n",
       "      <td>NaN</td>\n",
       "      <td>4.500000</td>\n",
       "      <td>NaN</td>\n",
       "      <td>NaN</td>\n",
       "      <td>NaN</td>\n",
       "      <td>NaN</td>\n",
       "      <td>NaN</td>\n",
       "    </tr>\n",
       "    <tr>\n",
       "      <td>30</td>\n",
       "      <td>NY</td>\n",
       "      <td>4.166667</td>\n",
       "      <td>NaN</td>\n",
       "      <td>4.50</td>\n",
       "      <td>NaN</td>\n",
       "      <td>NaN</td>\n",
       "      <td>NaN</td>\n",
       "      <td>NaN</td>\n",
       "      <td>NaN</td>\n",
       "      <td>NaN</td>\n",
       "      <td>4.500000</td>\n",
       "      <td>NaN</td>\n",
       "    </tr>\n",
       "    <tr>\n",
       "      <td>31</td>\n",
       "      <td>NC</td>\n",
       "      <td>4.333333</td>\n",
       "      <td>4.50</td>\n",
       "      <td>NaN</td>\n",
       "      <td>NaN</td>\n",
       "      <td>NaN</td>\n",
       "      <td>NaN</td>\n",
       "      <td>NaN</td>\n",
       "      <td>NaN</td>\n",
       "      <td>NaN</td>\n",
       "      <td>NaN</td>\n",
       "      <td>4.50</td>\n",
       "    </tr>\n",
       "    <tr>\n",
       "      <td>32</td>\n",
       "      <td>ND</td>\n",
       "      <td>4.312500</td>\n",
       "      <td>4.25</td>\n",
       "      <td>NaN</td>\n",
       "      <td>4.5</td>\n",
       "      <td>NaN</td>\n",
       "      <td>NaN</td>\n",
       "      <td>NaN</td>\n",
       "      <td>NaN</td>\n",
       "      <td>NaN</td>\n",
       "      <td>NaN</td>\n",
       "      <td>4.50</td>\n",
       "    </tr>\n",
       "    <tr>\n",
       "      <td>33</td>\n",
       "      <td>OH</td>\n",
       "      <td>4.357143</td>\n",
       "      <td>4.50</td>\n",
       "      <td>NaN</td>\n",
       "      <td>NaN</td>\n",
       "      <td>NaN</td>\n",
       "      <td>NaN</td>\n",
       "      <td>NaN</td>\n",
       "      <td>NaN</td>\n",
       "      <td>NaN</td>\n",
       "      <td>4.000000</td>\n",
       "      <td>4.50</td>\n",
       "    </tr>\n",
       "    <tr>\n",
       "      <td>34</td>\n",
       "      <td>OR</td>\n",
       "      <td>4.400000</td>\n",
       "      <td>NaN</td>\n",
       "      <td>4.25</td>\n",
       "      <td>NaN</td>\n",
       "      <td>NaN</td>\n",
       "      <td>NaN</td>\n",
       "      <td>4.500000</td>\n",
       "      <td>NaN</td>\n",
       "      <td>NaN</td>\n",
       "      <td>NaN</td>\n",
       "      <td>NaN</td>\n",
       "    </tr>\n",
       "    <tr>\n",
       "      <td>35</td>\n",
       "      <td>PA</td>\n",
       "      <td>4.300000</td>\n",
       "      <td>4.00</td>\n",
       "      <td>NaN</td>\n",
       "      <td>NaN</td>\n",
       "      <td>NaN</td>\n",
       "      <td>4.500000</td>\n",
       "      <td>4.000000</td>\n",
       "      <td>4.0</td>\n",
       "      <td>4.000000</td>\n",
       "      <td>NaN</td>\n",
       "      <td>4.50</td>\n",
       "    </tr>\n",
       "    <tr>\n",
       "      <td>36</td>\n",
       "      <td>RI</td>\n",
       "      <td>4.300000</td>\n",
       "      <td>NaN</td>\n",
       "      <td>NaN</td>\n",
       "      <td>NaN</td>\n",
       "      <td>NaN</td>\n",
       "      <td>4.500000</td>\n",
       "      <td>NaN</td>\n",
       "      <td>4.0</td>\n",
       "      <td>4.500000</td>\n",
       "      <td>4.750000</td>\n",
       "      <td>NaN</td>\n",
       "    </tr>\n",
       "    <tr>\n",
       "      <td>37</td>\n",
       "      <td>SC</td>\n",
       "      <td>4.166667</td>\n",
       "      <td>4.75</td>\n",
       "      <td>NaN</td>\n",
       "      <td>NaN</td>\n",
       "      <td>NaN</td>\n",
       "      <td>4.000000</td>\n",
       "      <td>NaN</td>\n",
       "      <td>NaN</td>\n",
       "      <td>NaN</td>\n",
       "      <td>4.500000</td>\n",
       "      <td>4.50</td>\n",
       "    </tr>\n",
       "    <tr>\n",
       "      <td>38</td>\n",
       "      <td>SD</td>\n",
       "      <td>4.125000</td>\n",
       "      <td>4.50</td>\n",
       "      <td>NaN</td>\n",
       "      <td>NaN</td>\n",
       "      <td>NaN</td>\n",
       "      <td>4.500000</td>\n",
       "      <td>NaN</td>\n",
       "      <td>4.5</td>\n",
       "      <td>NaN</td>\n",
       "      <td>NaN</td>\n",
       "      <td>4.50</td>\n",
       "    </tr>\n",
       "    <tr>\n",
       "      <td>39</td>\n",
       "      <td>TN</td>\n",
       "      <td>4.200000</td>\n",
       "      <td>4.50</td>\n",
       "      <td>NaN</td>\n",
       "      <td>NaN</td>\n",
       "      <td>NaN</td>\n",
       "      <td>NaN</td>\n",
       "      <td>NaN</td>\n",
       "      <td>NaN</td>\n",
       "      <td>NaN</td>\n",
       "      <td>NaN</td>\n",
       "      <td>5.00</td>\n",
       "    </tr>\n",
       "    <tr>\n",
       "      <td>40</td>\n",
       "      <td>TX</td>\n",
       "      <td>4.416667</td>\n",
       "      <td>NaN</td>\n",
       "      <td>NaN</td>\n",
       "      <td>NaN</td>\n",
       "      <td>NaN</td>\n",
       "      <td>4.250000</td>\n",
       "      <td>NaN</td>\n",
       "      <td>NaN</td>\n",
       "      <td>NaN</td>\n",
       "      <td>4.000000</td>\n",
       "      <td>NaN</td>\n",
       "    </tr>\n",
       "    <tr>\n",
       "      <td>41</td>\n",
       "      <td>UT</td>\n",
       "      <td>4.214286</td>\n",
       "      <td>4.50</td>\n",
       "      <td>NaN</td>\n",
       "      <td>NaN</td>\n",
       "      <td>NaN</td>\n",
       "      <td>4.500000</td>\n",
       "      <td>NaN</td>\n",
       "      <td>NaN</td>\n",
       "      <td>NaN</td>\n",
       "      <td>4.500000</td>\n",
       "      <td>NaN</td>\n",
       "    </tr>\n",
       "    <tr>\n",
       "      <td>42</td>\n",
       "      <td>VT</td>\n",
       "      <td>4.200000</td>\n",
       "      <td>NaN</td>\n",
       "      <td>NaN</td>\n",
       "      <td>NaN</td>\n",
       "      <td>NaN</td>\n",
       "      <td>NaN</td>\n",
       "      <td>NaN</td>\n",
       "      <td>NaN</td>\n",
       "      <td>4.000000</td>\n",
       "      <td>4.250000</td>\n",
       "      <td>NaN</td>\n",
       "    </tr>\n",
       "    <tr>\n",
       "      <td>43</td>\n",
       "      <td>VA</td>\n",
       "      <td>4.142857</td>\n",
       "      <td>NaN</td>\n",
       "      <td>NaN</td>\n",
       "      <td>NaN</td>\n",
       "      <td>NaN</td>\n",
       "      <td>NaN</td>\n",
       "      <td>NaN</td>\n",
       "      <td>NaN</td>\n",
       "      <td>NaN</td>\n",
       "      <td>NaN</td>\n",
       "      <td>4.50</td>\n",
       "    </tr>\n",
       "    <tr>\n",
       "      <td>44</td>\n",
       "      <td>WA</td>\n",
       "      <td>NaN</td>\n",
       "      <td>4.50</td>\n",
       "      <td>NaN</td>\n",
       "      <td>4.0</td>\n",
       "      <td>NaN</td>\n",
       "      <td>4.166667</td>\n",
       "      <td>NaN</td>\n",
       "      <td>NaN</td>\n",
       "      <td>NaN</td>\n",
       "      <td>4.500000</td>\n",
       "      <td>4.00</td>\n",
       "    </tr>\n",
       "    <tr>\n",
       "      <td>45</td>\n",
       "      <td>WV</td>\n",
       "      <td>4.250000</td>\n",
       "      <td>4.00</td>\n",
       "      <td>4.50</td>\n",
       "      <td>NaN</td>\n",
       "      <td>NaN</td>\n",
       "      <td>NaN</td>\n",
       "      <td>NaN</td>\n",
       "      <td>NaN</td>\n",
       "      <td>NaN</td>\n",
       "      <td>NaN</td>\n",
       "      <td>4.50</td>\n",
       "    </tr>\n",
       "    <tr>\n",
       "      <td>46</td>\n",
       "      <td>WI</td>\n",
       "      <td>4.357143</td>\n",
       "      <td>4.50</td>\n",
       "      <td>4.50</td>\n",
       "      <td>NaN</td>\n",
       "      <td>NaN</td>\n",
       "      <td>NaN</td>\n",
       "      <td>NaN</td>\n",
       "      <td>NaN</td>\n",
       "      <td>NaN</td>\n",
       "      <td>4.500000</td>\n",
       "      <td>NaN</td>\n",
       "    </tr>\n",
       "    <tr>\n",
       "      <td>47</td>\n",
       "      <td>WY</td>\n",
       "      <td>3.800000</td>\n",
       "      <td>4.00</td>\n",
       "      <td>4.00</td>\n",
       "      <td>NaN</td>\n",
       "      <td>NaN</td>\n",
       "      <td>3.500000</td>\n",
       "      <td>NaN</td>\n",
       "      <td>NaN</td>\n",
       "      <td>NaN</td>\n",
       "      <td>4.000000</td>\n",
       "      <td>NaN</td>\n",
       "    </tr>\n",
       "  </tbody>\n",
       "</table>\n",
       "</div>"
      ],
      "text/plain": [
       "   state  american  mexican  thai  greek  indian  japanese   spanish  chinese  \\\n",
       "0     AL  4.500000     4.50  4.50    NaN     NaN       NaN       NaN      NaN   \n",
       "1     AK  4.071429      NaN   NaN    NaN     NaN  4.500000       NaN      NaN   \n",
       "2     AZ  4.000000     4.50  4.50    NaN     NaN  4.500000       NaN      NaN   \n",
       "3     OK  4.363636     4.00  5.00    NaN     NaN       NaN       NaN      NaN   \n",
       "4     CA  4.125000     4.50   NaN    NaN     NaN  4.500000       NaN      NaN   \n",
       "5     CO  4.285714     4.00   NaN    NaN     NaN  4.500000  4.500000      NaN   \n",
       "6     CT  4.000000      NaN  4.50    NaN     NaN       NaN       NaN      NaN   \n",
       "7     DC  4.083333      NaN   NaN    4.0     NaN       NaN       NaN      NaN   \n",
       "8     KS  4.384615     3.50  5.00    4.5     NaN       NaN       NaN      NaN   \n",
       "9     FL  4.416667     4.00   NaN    4.5     NaN       NaN       NaN      NaN   \n",
       "10    GA  4.416667      NaN   NaN    NaN     NaN  4.500000       NaN      NaN   \n",
       "11    HI       NaN      NaN   NaN    NaN     NaN  4.500000       NaN      NaN   \n",
       "12    ID  4.166667      NaN  4.00    NaN     NaN       NaN  4.500000      NaN   \n",
       "13    IL  4.500000     4.00   NaN    NaN     NaN       NaN  4.000000      NaN   \n",
       "14    IN  4.500000     4.50   NaN    NaN     NaN       NaN       NaN      NaN   \n",
       "15    IA  4.125000     4.50   NaN    4.5     NaN  4.500000       NaN      NaN   \n",
       "16    KY  4.444444     4.50   NaN    NaN     NaN       NaN       NaN      NaN   \n",
       "17    ME  4.416667      NaN  4.50    NaN     NaN       NaN       NaN      NaN   \n",
       "18    MD  4.142857     4.50   NaN    NaN     NaN       NaN       NaN      NaN   \n",
       "19    MA  4.000000     4.00   NaN    NaN     NaN       NaN  4.250000      NaN   \n",
       "20    MI  4.250000     4.50  4.50    NaN     NaN       NaN       NaN      NaN   \n",
       "21    MN  4.375000      NaN  4.50    4.5     NaN       NaN       NaN      NaN   \n",
       "22    MS  4.333333     4.00  4.25    4.0     NaN       NaN       NaN      NaN   \n",
       "23    MO  4.250000      NaN   NaN    NaN     NaN       NaN       NaN      NaN   \n",
       "24    MT  4.375000      NaN  4.50    NaN     NaN  4.500000       NaN      NaN   \n",
       "25    NE  4.375000      NaN   NaN    NaN     NaN  4.000000       NaN      NaN   \n",
       "26    NV  4.428571     4.50  4.00    NaN     NaN  4.500000       NaN      NaN   \n",
       "27    NH  4.071429     4.50  4.50    4.5     NaN       NaN       NaN      NaN   \n",
       "28    NJ  4.000000     4.50   NaN    NaN     NaN       NaN  4.166667      NaN   \n",
       "29    NM  4.375000     4.30   NaN    NaN     NaN  4.500000       NaN      NaN   \n",
       "30    NY  4.166667      NaN  4.50    NaN     NaN       NaN       NaN      NaN   \n",
       "31    NC  4.333333     4.50   NaN    NaN     NaN       NaN       NaN      NaN   \n",
       "32    ND  4.312500     4.25   NaN    4.5     NaN       NaN       NaN      NaN   \n",
       "33    OH  4.357143     4.50   NaN    NaN     NaN       NaN       NaN      NaN   \n",
       "34    OR  4.400000      NaN  4.25    NaN     NaN       NaN  4.500000      NaN   \n",
       "35    PA  4.300000     4.00   NaN    NaN     NaN  4.500000  4.000000      4.0   \n",
       "36    RI  4.300000      NaN   NaN    NaN     NaN  4.500000       NaN      4.0   \n",
       "37    SC  4.166667     4.75   NaN    NaN     NaN  4.000000       NaN      NaN   \n",
       "38    SD  4.125000     4.50   NaN    NaN     NaN  4.500000       NaN      4.5   \n",
       "39    TN  4.200000     4.50   NaN    NaN     NaN       NaN       NaN      NaN   \n",
       "40    TX  4.416667      NaN   NaN    NaN     NaN  4.250000       NaN      NaN   \n",
       "41    UT  4.214286     4.50   NaN    NaN     NaN  4.500000       NaN      NaN   \n",
       "42    VT  4.200000      NaN   NaN    NaN     NaN       NaN       NaN      NaN   \n",
       "43    VA  4.142857      NaN   NaN    NaN     NaN       NaN       NaN      NaN   \n",
       "44    WA       NaN     4.50   NaN    4.0     NaN  4.166667       NaN      NaN   \n",
       "45    WV  4.250000     4.00  4.50    NaN     NaN       NaN       NaN      NaN   \n",
       "46    WI  4.357143     4.50  4.50    NaN     NaN       NaN       NaN      NaN   \n",
       "47    WY  3.800000     4.00  4.00    NaN     NaN  3.500000       NaN      NaN   \n",
       "\n",
       "      french   italian  mediterranean  \n",
       "0   4.500000  4.500000            NaN  \n",
       "1        NaN       NaN           4.25  \n",
       "2        NaN  4.500000            NaN  \n",
       "3        NaN  4.250000            NaN  \n",
       "4   4.166667  4.250000            NaN  \n",
       "5        NaN  4.250000            NaN  \n",
       "6        NaN  4.000000            NaN  \n",
       "7   4.500000  4.333333            NaN  \n",
       "8   4.500000  4.750000           4.50  \n",
       "9        NaN  4.666667           4.50  \n",
       "10       NaN       NaN           5.00  \n",
       "11       NaN       NaN            NaN  \n",
       "12       NaN  4.250000            NaN  \n",
       "13       NaN  4.166667           4.00  \n",
       "14       NaN       NaN            NaN  \n",
       "15  4.000000       NaN           4.25  \n",
       "16       NaN       NaN            NaN  \n",
       "17       NaN       NaN           4.50  \n",
       "18  4.500000  4.500000           4.50  \n",
       "19       NaN  4.125000            NaN  \n",
       "20       NaN  4.500000            NaN  \n",
       "21  4.250000  4.250000           4.50  \n",
       "22       NaN  4.000000           4.00  \n",
       "23       NaN       NaN            NaN  \n",
       "24       NaN       NaN            NaN  \n",
       "25  4.500000       NaN            NaN  \n",
       "26  4.000000       NaN            NaN  \n",
       "27       NaN  4.500000           4.50  \n",
       "28       NaN       NaN            NaN  \n",
       "29       NaN       NaN            NaN  \n",
       "30       NaN  4.500000            NaN  \n",
       "31       NaN       NaN           4.50  \n",
       "32       NaN       NaN           4.50  \n",
       "33       NaN  4.000000           4.50  \n",
       "34       NaN       NaN            NaN  \n",
       "35  4.000000       NaN           4.50  \n",
       "36  4.500000  4.750000            NaN  \n",
       "37       NaN  4.500000           4.50  \n",
       "38       NaN       NaN           4.50  \n",
       "39       NaN       NaN           5.00  \n",
       "40       NaN  4.000000            NaN  \n",
       "41       NaN  4.500000            NaN  \n",
       "42  4.000000  4.250000            NaN  \n",
       "43       NaN       NaN           4.50  \n",
       "44       NaN  4.500000           4.00  \n",
       "45       NaN       NaN           4.50  \n",
       "46       NaN  4.500000            NaN  \n",
       "47       NaN  4.000000            NaN  "
      ]
     },
     "execution_count": 22,
     "metadata": {},
     "output_type": "execute_result"
    }
   ],
   "source": [
    "states = list(yelp_df['state'].unique())\n",
    "\n",
    "def format_avg_rating(category):\n",
    "    ratings = []\n",
    "    for state in states:\n",
    "        try:\n",
    "            ratings.append(category[state])\n",
    "        except:\n",
    "            ratings.append(np.nan)\n",
    "    return ratings\n",
    "\n",
    "american_ratings = format_avg_rating(all_cuisine_ratings['american'])\n",
    "mexican_ratings = format_avg_rating(all_cuisine_ratings['mexican'])\n",
    "thai_ratings = format_avg_rating(all_cuisine_ratings['thai'])\n",
    "greek_ratings = format_avg_rating(all_cuisine_ratings['greek'])\n",
    "indian_ratings = format_avg_rating(all_cuisine_ratings['indian'])\n",
    "japanese_ratings = format_avg_rating(all_cuisine_ratings['japanese'])\n",
    "spanish_ratings = format_avg_rating(all_cuisine_ratings['spanish'])\n",
    "chinese_ratings = format_avg_rating(all_cuisine_ratings['chinese'])\n",
    "french_ratings = format_avg_rating(all_cuisine_ratings['french'])\n",
    "italian_ratings = format_avg_rating(all_cuisine_ratings['italian'])\n",
    "med_ratings = format_avg_rating(all_cuisine_ratings['mediterranean'])\n",
    "\n",
    "avg_ratings_data = {'state': states, 'american': american_ratings, 'mexican': mexican_ratings,\n",
    "                   'thai': thai_ratings, 'greek': greek_ratings, 'indian': indian_ratings,\n",
    "                   'japanese': japanese_ratings, 'spanish': spanish_ratings, 'chinese': chinese_ratings,\n",
    "                   'french': french_ratings, 'italian': italian_ratings, 'mediterranean': med_ratings}\n",
    "avg_ratings_df = pd.DataFrame(data=avg_ratings_data)\n",
    "avg_ratings_df"
   ]
  },
  {
   "cell_type": "markdown",
   "metadata": {},
   "source": [
    "Since there are so many null values for each type of cuisine (except for American food), we decided to look at the average rating for each cuisine across the US."
   ]
  },
  {
   "cell_type": "code",
   "execution_count": 23,
   "metadata": {},
   "outputs": [
    {
     "data": {
      "text/html": [
       "<div>\n",
       "<style scoped>\n",
       "    .dataframe tbody tr th:only-of-type {\n",
       "        vertical-align: middle;\n",
       "    }\n",
       "\n",
       "    .dataframe tbody tr th {\n",
       "        vertical-align: top;\n",
       "    }\n",
       "\n",
       "    .dataframe thead th {\n",
       "        text-align: right;\n",
       "    }\n",
       "</style>\n",
       "<table border=\"1\" class=\"dataframe\">\n",
       "  <thead>\n",
       "    <tr style=\"text-align: right;\">\n",
       "      <th></th>\n",
       "      <th>average rating</th>\n",
       "    </tr>\n",
       "  </thead>\n",
       "  <tbody>\n",
       "    <tr>\n",
       "      <td>japanese</td>\n",
       "      <td>4.391876</td>\n",
       "    </tr>\n",
       "    <tr>\n",
       "      <td>mexican</td>\n",
       "      <td>4.316062</td>\n",
       "    </tr>\n",
       "    <tr>\n",
       "      <td>mediterranean</td>\n",
       "      <td>4.304801</td>\n",
       "    </tr>\n",
       "    <tr>\n",
       "      <td>thai</td>\n",
       "      <td>4.279731</td>\n",
       "    </tr>\n",
       "    <tr>\n",
       "      <td>american</td>\n",
       "      <td>4.251604</td>\n",
       "    </tr>\n",
       "    <tr>\n",
       "      <td>italian</td>\n",
       "      <td>4.247973</td>\n",
       "    </tr>\n",
       "    <tr>\n",
       "      <td>spanish</td>\n",
       "      <td>4.196168</td>\n",
       "    </tr>\n",
       "    <tr>\n",
       "      <td>greek</td>\n",
       "      <td>4.135159</td>\n",
       "    </tr>\n",
       "    <tr>\n",
       "      <td>french</td>\n",
       "      <td>4.088813</td>\n",
       "    </tr>\n",
       "    <tr>\n",
       "      <td>chinese</td>\n",
       "      <td>4.028169</td>\n",
       "    </tr>\n",
       "    <tr>\n",
       "      <td>indian</td>\n",
       "      <td>NaN</td>\n",
       "    </tr>\n",
       "  </tbody>\n",
       "</table>\n",
       "</div>"
      ],
      "text/plain": [
       "               average rating\n",
       "japanese             4.391876\n",
       "mexican              4.316062\n",
       "mediterranean        4.304801\n",
       "thai                 4.279731\n",
       "american             4.251604\n",
       "italian              4.247973\n",
       "spanish              4.196168\n",
       "greek                4.135159\n",
       "french               4.088813\n",
       "chinese              4.028169\n",
       "indian                    NaN"
      ]
     },
     "execution_count": 23,
     "metadata": {},
     "output_type": "execute_result"
    }
   ],
   "source": [
    "# find the average rating for each type of food across the US\n",
    "def find_avg_rating_us(category):\n",
    "    cat_list = []\n",
    "    for i in yelp_df.index:\n",
    "        is_cat = category in yelp_df['category'].iloc[i]\n",
    "        cat_list.append(is_cat)\n",
    "    temp = yelp_df.assign(cat_clean = cat_list)\n",
    "    temp_df = temp[temp['cat_clean'].values==True]\n",
    "    return temp_df\n",
    "    \n",
    "all_cuisine_ratings = {}\n",
    "for cuis in cuisine:\n",
    "    all_cuisine_ratings[cuis] = find_avg_rating_us(cuis)\n",
    "\n",
    "overall_avg_rating = {}\n",
    "for cuis in cuisine:\n",
    "    prod = 0\n",
    "    total_reviews = 0\n",
    "    for row in all_cuisine_ratings[cuis].index:\n",
    "        prod += (yelp_df.iloc[row])['rating']*(yelp_df.iloc[row])['review_count']\n",
    "        total_reviews += (yelp_df.iloc[row])['review_count']\n",
    "        total_reviews\n",
    "    \n",
    "    try:\n",
    "        avg_rating = prod/total_reviews\n",
    "    except:\n",
    "        avg_rating = np.nan\n",
    "    overall_avg_rating[cuis] = avg_rating\n",
    "        \n",
    "# convert dictionary to list\n",
    "us_avg_df = pd.DataFrame.from_dict(overall_avg_rating, orient='index')\n",
    "us_avg_df = us_avg_df.rename(columns={0:'average rating'})\n",
    "us_avg_df = us_avg_df.sort_values(by='average rating', ascending=False)\n",
    "us_avg_df"
   ]
  },
  {
   "cell_type": "markdown",
   "metadata": {},
   "source": [
    "# Data Analysis & Results"
   ]
  },
  {
   "cell_type": "markdown",
   "metadata": {},
   "source": [
    "### Exploratory Data Visualizations"
   ]
  },
  {
   "cell_type": "markdown",
   "metadata": {},
   "source": [
    "Include cells that describe the steps in your data analysis."
   ]
  },
  {
   "cell_type": "code",
   "execution_count": 24,
   "metadata": {
    "scrolled": false
   },
   "outputs": [
    {
     "data": {
      "text/plain": [
       "(1024, 8)"
      ]
     },
     "execution_count": 24,
     "metadata": {},
     "output_type": "execute_result"
    }
   ],
   "source": [
    "# there are ~1k restaurants in our general df\n",
    "yelp_df.shape"
   ]
  },
  {
   "cell_type": "code",
   "execution_count": 25,
   "metadata": {
    "scrolled": false
   },
   "outputs": [
    {
     "data": {
      "text/plain": [
       "(4323, 8)"
      ]
     },
     "execution_count": 25,
     "metadata": {},
     "output_type": "execute_result"
    }
   ],
   "source": [
    "# there are ~4k fast food restaurants in our fast food df\n",
    "fast_ratings_df.shape "
   ]
  },
  {
   "cell_type": "code",
   "execution_count": 26,
   "metadata": {
    "scrolled": false
   },
   "outputs": [
    {
     "data": {
      "text/plain": [
       "array(['AL', 'AK', 'AZ', 'OK', 'CA', 'CO', 'CT', 'DC', 'KS', 'FL', 'GA',\n",
       "       'HI', 'ID', 'IL', 'IN', 'IA', 'KY', 'ME', 'MD', 'MA', 'MI', 'MN',\n",
       "       'MS', 'MO', 'MT', 'NE', 'NV', 'NH', 'NJ', 'NM', 'NY', 'NC', 'ND',\n",
       "       'OH', 'OR', 'PA', 'RI', 'SC', 'SD', 'TN', 'TX', 'UT', 'VT', 'VA',\n",
       "       'WA', 'WV', 'WI', 'WY'], dtype=object)"
      ]
     },
     "execution_count": 26,
     "metadata": {},
     "output_type": "execute_result"
    }
   ],
   "source": [
    "# Our general df includes 48 states, and is missing AR and DE\n",
    "yelp_df[\"state\"].unique() "
   ]
  },
  {
   "cell_type": "code",
   "execution_count": 27,
   "metadata": {
    "scrolled": false
   },
   "outputs": [
    {
     "data": {
      "text/plain": [
       "array(['NY', 'OH', 'KY', 'SC', 'AR', 'IN', 'OK', 'LA', 'ND', 'TX', 'MI',\n",
       "       'MO', 'TN', 'NC', 'GA', 'UT', 'WI', 'MS', 'WA', 'NE', 'AL', 'WV',\n",
       "       'VT', 'AZ', 'KS', 'MN', 'SD', 'NM', 'OR', 'ME', 'IA', 'WY', 'IL',\n",
       "       'VA', 'MT', 'ID', 'PA', 'NJ', 'MD', 'FL', 'CA', 'MA', 'CO', 'NV',\n",
       "       'NH', 'CT', 'DE', 'HI'], dtype=object)"
      ]
     },
     "execution_count": 27,
     "metadata": {},
     "output_type": "execute_result"
    }
   ],
   "source": [
    "# our fastfood df includes 48 states, missing AK and RI\n",
    "fast_ratings_df[\"state\"].unique()"
   ]
  },
  {
   "cell_type": "code",
   "execution_count": 28,
   "metadata": {
    "scrolled": true
   },
   "outputs": [
    {
     "data": {
      "text/plain": [
       "TX    356\n",
       "KY    343\n",
       "MO    233\n",
       "OH    230\n",
       "IN    209\n",
       "AL    186\n",
       "NC    185\n",
       "VA    157\n",
       "SC    157\n",
       "TN    156\n",
       "IL    153\n",
       "GA    149\n",
       "CA    146\n",
       "OK    141\n",
       "AR    135\n",
       "LA    114\n",
       "PA    113\n",
       "WV     97\n",
       "IA     94\n",
       "MS     88\n",
       "KS     80\n",
       "NE     77\n",
       "NM     68\n",
       "AZ     62\n",
       "CO     53\n",
       "FL     53\n",
       "WI     51\n",
       "MN     50\n",
       "SD     48\n",
       "UT     48\n",
       "MI     43\n",
       "MD     32\n",
       "NY     31\n",
       "WY     25\n",
       "WA     23\n",
       "NV     17\n",
       "ID     17\n",
       "ND     17\n",
       "ME     15\n",
       "DE     14\n",
       "NJ     14\n",
       "MT     11\n",
       "OR     10\n",
       "NH      8\n",
       "MA      7\n",
       "CT      4\n",
       "HI      2\n",
       "VT      1\n",
       "Name: state, dtype: int64"
      ]
     },
     "execution_count": 28,
     "metadata": {},
     "output_type": "execute_result"
    }
   ],
   "source": [
    "fast_ratings_df[\"state\"].value_counts()"
   ]
  },
  {
   "cell_type": "code",
   "execution_count": 29,
   "metadata": {
    "scrolled": false
   },
   "outputs": [
    {
     "data": {
      "text/plain": [
       "(0, 8)"
      ]
     },
     "execution_count": 29,
     "metadata": {},
     "output_type": "execute_result"
    }
   ],
   "source": [
    "# our general df has no null values!\n",
    "null_rows = yelp_df.isnull().any(axis=1)\n",
    "yelp_df[null_rows].shape"
   ]
  },
  {
   "cell_type": "code",
   "execution_count": 30,
   "metadata": {
    "scrolled": false
   },
   "outputs": [
    {
     "data": {
      "text/plain": [
       "(0, 8)"
      ]
     },
     "execution_count": 30,
     "metadata": {},
     "output_type": "execute_result"
    }
   ],
   "source": [
    "# our fast food df has no null values!\n",
    "null_rows = fast_ratings_df.isnull().any(axis=1)\n",
    "fast_ratings_df[null_rows].shape"
   ]
  },
  {
   "cell_type": "code",
   "execution_count": 31,
   "metadata": {
    "scrolled": false
   },
   "outputs": [
    {
     "data": {
      "image/png": "[encoded data removed]",
      "text/plain": [
       "<Figure size 432x288 with 1 Axes>"
      ]
     },
     "metadata": {
      "needs_background": "light"
     },
     "output_type": "display_data"
    }
   ],
   "source": [
    "# Let's start by plotting histograms of non fast food ratings\n",
    "sns.distplot(yelp_df['rating'], kde=False).set_title('Distribution of Ratings for Non Fast Food Restauarants')\n",
    "\n",
    "f1 = plt.gcf()"
   ]
  },
  {
   "cell_type": "code",
   "execution_count": 32,
   "metadata": {
    "scrolled": false
   },
   "outputs": [
    {
     "data": {
      "text/plain": [
       "array([4.5, 4. , 5. , 3.5, 3. ])"
      ]
     },
     "execution_count": 32,
     "metadata": {},
     "output_type": "execute_result"
    }
   ],
   "source": [
    "# There are 5 possible ratings in our data set: 3, 3.5, 4, 4.5, and 5\n",
    "yelp_df[\"rating\"].unique()"
   ]
  },
  {
   "cell_type": "code",
   "execution_count": 33,
   "metadata": {
    "scrolled": false
   },
   "outputs": [
    {
     "data": {
      "text/plain": [
       "count    1024.000000\n",
       "mean        4.350586\n",
       "std         0.296014\n",
       "min         3.000000\n",
       "25%         4.000000\n",
       "50%         4.500000\n",
       "75%         4.500000\n",
       "max         5.000000\n",
       "Name: rating, dtype: float64"
      ]
     },
     "execution_count": 33,
     "metadata": {},
     "output_type": "execute_result"
    }
   ],
   "source": [
    "# It appears that our rating data is normal-ish and is skewed right. We have a mean of 4.358 and an std of .294.\n",
    "yelp_df[\"rating\"].describe()"
   ]
  },
  {
   "cell_type": "code",
   "execution_count": 34,
   "metadata": {},
   "outputs": [
    {
     "data": {
      "image/png": "[encoded data removed]",
      "text/plain": [
       "<Figure size 432x288 with 1 Axes>"
      ]
     },
     "metadata": {
      "needs_background": "light"
     },
     "output_type": "display_data"
    }
   ],
   "source": [
    "# Plot the histogram of fast food ratings\n",
    "sns.distplot(fast_ratings_df['rating'], kde=False).set_title('Distribution of Ratings for Fast Food Restaurants')\n",
    "\n",
    "f1 = plt.gcf()"
   ]
  },
  {
   "cell_type": "code",
   "execution_count": 35,
   "metadata": {
    "scrolled": false
   },
   "outputs": [
    {
     "data": {
      "text/plain": [
       "[0.0, 1.0, 1.5, 2.0, 2.5, 3.0, 3.5, 4.0, 4.5, 5.0]"
      ]
     },
     "execution_count": 35,
     "metadata": {},
     "output_type": "execute_result"
    }
   ],
   "source": [
    "# There are 10 possible ratings in our data set: 0.0, 1.0, 1.5, 2.0, 2.5, 3.0, 3.5, 4.0, 4.5, 5.0\n",
    "sorted(fast_ratings_df[\"rating\"].unique())"
   ]
  },
  {
   "cell_type": "code",
   "execution_count": 36,
   "metadata": {},
   "outputs": [
    {
     "data": {
      "text/plain": [
       "count    4323.000000\n",
       "mean        3.133935\n",
       "std         1.045522\n",
       "min         0.000000\n",
       "25%         2.500000\n",
       "50%         3.000000\n",
       "75%         4.000000\n",
       "max         5.000000\n",
       "Name: rating, dtype: float64"
      ]
     },
     "execution_count": 36,
     "metadata": {},
     "output_type": "execute_result"
    }
   ],
   "source": [
    "# average rating of fast food restaurants is lower\n",
    "fast_ratings_df[\"rating\"].describe()"
   ]
  },
  {
   "cell_type": "markdown",
   "metadata": {},
   "source": [
    "Plot the number of fast food restaurants per state"
   ]
  },
  {
   "cell_type": "code",
   "execution_count": 37,
   "metadata": {},
   "outputs": [
    {
     "data": {
      "text/plain": [
       "<matplotlib.axes._subplots.AxesSubplot at 0x1a1b6c7650>"
      ]
     },
     "execution_count": 37,
     "metadata": {},
     "output_type": "execute_result"
    },
    {
     "data": {
      "image/png": "[encoded data removed]",
      "text/plain": [
       "<Figure size 1224x504 with 2 Axes>"
      ]
     },
     "metadata": {
      "needs_background": "light"
     },
     "output_type": "display_data"
    }
   ],
   "source": [
    "# import the US shape map data to get the geometry of each state\n",
    "us_shape_map = gpd.read_file('states_21basic/states.shp')\n",
    "\n",
    "# find the number of fast food restaurants per state\n",
    "fast_counts = pd.DataFrame(fast_df['state'].value_counts())\n",
    "fast_counts = fast_counts.rename(columns={'state':'restaurant count'})\n",
    "fast_counts.index.name = 'state'\n",
    "\n",
    "# merge the number of fast food restaurants with the us_shape_map data\n",
    "fast_counts_map = us_shape_map.merge(fast_counts, left_on='STATE_ABBR', right_on='state')\n",
    "fast_counts_map_wo_AK = fast_counts_map.drop(index=50)\n",
    "\n",
    "# plot map\n",
    "fig, ax = plt.subplots(1, 1, figsize=(17, 7))\n",
    "divider = make_axes_locatable(ax)\n",
    "fast_counts_map.plot(column='restaurant count', ax=ax, figsize=(17, 6), cmap='GnBu', legend=True)"
   ]
  },
  {
   "cell_type": "markdown",
   "metadata": {},
   "source": [
    "When plotting the number of fast food restaurants, it can be seen that the number of fast food restaurants most likely correlate with the population for each state. So instead, we will plot the number fast food restaurants per state divided by the state's population."
   ]
  },
  {
   "cell_type": "code",
   "execution_count": 38,
   "metadata": {},
   "outputs": [
    {
     "data": {
      "text/plain": [
       "<matplotlib.axes._subplots.AxesSubplot at 0x1a1b624350>"
      ]
     },
     "execution_count": 38,
     "metadata": {},
     "output_type": "execute_result"
    },
    {
     "data": {
      "image/png": "[encoded data removed]",
      "text/plain": [
       "<Figure size 1224x504 with 2 Axes>"
      ]
     },
     "metadata": {
      "needs_background": "light"
     },
     "output_type": "display_data"
    }
   ],
   "source": [
    "# drop unnecessary columns from population datafram\n",
    "pop_df = pop_df.drop(columns=['rank', 'Growth', 'Pop2018', 'Pop2010', 'growthSince2010', 'Percent'])\n",
    "\n",
    "# merge the state population data with the fast_counts_map dataframe and add restuarant per population column\n",
    "fast_counts_map = fast_counts_map.merge(pop_df, left_on='STATE_NAME', right_on='State')\n",
    "fast_counts_map['restaurants per 100,000 people'] = (fast_counts_map['restaurant count'] * 100000)/ fast_counts_map['Pop']\n",
    "\n",
    "# plot map\n",
    "fig, ax = plt.subplots(1, 1, figsize=(17, 7))\n",
    "divider = make_axes_locatable(ax)\n",
    "fast_counts_map.plot(column='restaurants per 100,000 people', ax=ax, figsize=(17, 6), cmap='GnBu', legend=True)"
   ]
  },
  {
   "cell_type": "markdown",
   "metadata": {},
   "source": [
    "Note that South Dakota is the dark blue state, meaning there are more fast food restaurants there for every 100,000 people.\n",
    "Some of the other blue states are: North Dakota, Wyoming, New Mexico, Kentucky, and Vermont."
   ]
  },
  {
   "cell_type": "code",
   "execution_count": 39,
   "metadata": {
    "scrolled": false
   },
   "outputs": [],
   "source": [
    "# TODO: describe the lattitude/longitude data to see if there is any bias in geography for our 2 datasets"
   ]
  },
  {
   "cell_type": "code",
   "execution_count": 40,
   "metadata": {
    "scrolled": false
   },
   "outputs": [],
   "source": [
    "# TODO: maybe move the null row removal into the data cleanup section rather than analysis"
   ]
  },
  {
   "cell_type": "markdown",
   "metadata": {},
   "source": [
    "### Exploring the Data"
   ]
  },
  {
   "cell_type": "code",
   "execution_count": null,
   "metadata": {},
   "outputs": [],
   "source": [
    "# TODO: find the most popular/least popular fast food restaurants"
   ]
  },
  {
   "cell_type": "code",
   "execution_count": null,
   "metadata": {},
   "outputs": [],
   "source": []
  },
  {
   "cell_type": "markdown",
   "metadata": {},
   "source": [
    "### Testing Distributions"
   ]
  },
  {
   "cell_type": "markdown",
   "metadata": {},
   "source": [
    "### Data Analysis"
   ]
  },
  {
   "cell_type": "markdown",
   "metadata": {},
   "source": [
    "# Ethics & Privacy"
   ]
  },
  {
   "cell_type": "markdown",
   "metadata": {},
   "source": [
    "In order to gain access to the data, we utilized several Yelp API keys at no charge. Anyone is able to  obtain the available data on Yelp, therefore we do have permission to use it. The API however does not return every business available, only the businesses that have Yelp-user generated content. In addition, we only found data for 48 states in which we’re missing the data for Arizona and Delaware. This is concerning because it excludes these populations. In addition, it seems that the restaurants listed in the yelp dataset do not include all ethnic groups (ex: there are no Korean restaurants listed). Furthermore, there are biases in our dataset because the data (reviews) is manipulated by Yelp and does not reflect the overall ratings of everyone who has written a review. In terms of privacy, our project should not have any major concerns as we are using information that has been released to the public, all which do not contain personal information. The data we are working with are on businesses, such as their location and amount of reviews. \n",
    " \n",
    "While our dataset has a potential bias, we have decided to continue on with using it. Our dataset may be missing 2 states, but we felt that missing 2 out of 50 states would not significantly change our results and analysis. One thing we must note is that we would be unable to predict the success of a restaurant if the location given were to be in Arizona or Delaware. We must also note that our prediction of a restaurant's success may be inaccurate for restaurants who identify as any of the ethnic groups not represented by the dataset. We have also decided to overlook Yelp’s manipulation of the reviews because it is also a factor that plays a role in the success or failure of a business, as mentioned in the Background and Prior Work section. In addition, there is little we can do about Yelp’s manipulation of data, as we only have permission to data that Yelp has legally consented to publicizing. \n"
   ]
  },
  {
   "cell_type": "markdown",
   "metadata": {},
   "source": [
    "# Conclusion & Discussion"
   ]
  },
  {
   "cell_type": "markdown",
   "metadata": {},
   "source": [
    "*Fill in your discussion information here*"
   ]
  },
  {
   "cell_type": "markdown",
   "metadata": {},
   "source": [
    "# Team Contributions"
   ]
  },
  {
   "cell_type": "markdown",
   "metadata": {},
   "source": []
  }
 ],
 "metadata": {
  "kernelspec": {
   "display_name": "Python 3",
   "language": "python",
   "name": "python3"
  },
  "language_info": {
   "codemirror_mode": {
    "name": "ipython",
    "version": 3
   },
   "file_extension": ".py",
   "mimetype": "text/x-python",
   "name": "python",
   "nbconvert_exporter": "python",
   "pygments_lexer": "ipython3",
   "version": "3.7.4"
  }
 },
 "nbformat": 4,
 "nbformat_minor": 2
}
