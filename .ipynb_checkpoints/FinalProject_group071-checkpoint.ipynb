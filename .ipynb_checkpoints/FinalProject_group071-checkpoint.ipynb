{
 "cells": [
  {
   "cell_type": "markdown",
   "metadata": {},
   "source": [
    "# COGS 108 - Final Project "
   ]
  },
  {
   "cell_type": "markdown",
   "metadata": {},
   "source": [
    "## Permissions"
   ]
  },
  {
   "cell_type": "markdown",
   "metadata": {},
   "source": [
    "Place an `X` in the appropriate bracket below to specify if you would like your group's project to be made available to the public. (Note that PIDs will be scraped from the public submission, but student names will be included.)\n",
    "\n",
    "* [X] YES - make available\n",
    "* [  ] NO - keep private"
   ]
  },
  {
   "cell_type": "markdown",
   "metadata": {},
   "source": [
    "# Overview"
   ]
  },
  {
   "cell_type": "markdown",
   "metadata": {},
   "source": [
    "Yelp has normalized the reviewing of businesses. This system has benefited its users by allowing them to read on other people’s experiences and opinions, along with updating them on the business’s amenities. This can be either problematic or valuable to businesses. It allows them to receive feedback on how to improve their business and either attracts or dissuades potential customers. In the modern day, Yelp tends to play a factor in and reflect a business’s success. Our project analyzes Yelp data to determine the effects of a business’s location on a business’s success (based off the area and environment it is in). This analysis is used to determine the likelihood of a business’s success based on the location it is set up in. "
   ]
  },
  {
   "cell_type": "markdown",
   "metadata": {},
   "source": [
    "# Names\n",
    "\n",
    "- Shih Wen Ma\n",
    "- Andrea Diaz\n",
    "- Viet Nguyen\n",
    "- Manda Tran\n",
    "- Matthew Luu"
   ]
  },
  {
   "cell_type": "markdown",
   "metadata": {},
   "source": [
    "# Group Members IDs\n",
    "\n",
    "- A15469802\n",
    "- A15084975\n",
    "- A13702483\n",
    "- A14452168\n",
    "- A16067866"
   ]
  },
  {
   "cell_type": "markdown",
   "metadata": {},
   "source": [
    "# Research Question"
   ]
  },
  {
   "cell_type": "markdown",
   "metadata": {},
   "source": [
    "How does the state a restaurant is located in (specifically the United States) affect the success of restaurants? Can you predict a restaurant’s success based on the location?"
   ]
  },
  {
   "cell_type": "markdown",
   "metadata": {},
   "source": [
    "## Background and Prior Work"
   ]
  },
  {
   "cell_type": "markdown",
   "metadata": {},
   "source": [
    "Yelp is an online service in which anyone with an account can comment on and/or rate a business. It allows users to make informed decisions on whether or not they want to receive services from them. For businesses, it is a platform for them to receive feedback on their services, such as what customers would like to see and what improvements they can make. This platform is used by both sides to gauge how successful and/or promising a business is. As such, we focus on Yelp data to help us determine the success of a restaurant (determined by ratings and number of reviews) based on location. \n",
    "\n",
    "When evaluating whether a Yelp data set is the most appropriate for our question, we analyzed the credibility and bias of the dataset. We researched possible factors that could affect the accuracy of the dataset in reflecting the success of a restaurant. One major question we asked is: “Is the data corrupt?”. Upon further research, we found that Yelp does manipulate reviews. They filter out data that they think are fake, but this algorithm is not always correct. The filter affects the success because it is manipulating the data, thus removing data that could potentially affect the ratings of the business. In addition, they accept payments from businesses to advertise for them and/or hide bad reviews while highlighting more favorable ones. This would skew the data because it means that restaurants who pay Yelp to do this are more likely to receive more customers and reviews, thus making the business (seem) more successful than its competitors. Another major aspect we considered was how the bandwagon effect could affect the ratings of a restaurant. We found that current ratings do affect future ratings, which further cements the skew of the data. This affects small businesses, as they are often overshadowed by larger businesses who have the resources to pay Yelp for advertisements and extra services. \n",
    "\n",
    "We have decided to move forward with using the Yelp dataset with these concerns in mind. We concluded that while these factors may affect the accuracy in reflecting the success of a restaurant, they also affect the success of the restaurant. These factors change the way the business is reflected through Yelp, a popular platform used by people to determine whether or not they want to utilize the business’s services. By playing a role in a potential customer’s choice in utilizing the service, Yelp indirectly affects the success of the restaurant. Therefore, it is safe to continue using the Yelp dataset, given that these factors also influence the restaurant’s success. \n",
    "\n",
    "While doing initial research on Yelp dataset, we came across the Yelp Dataset Challenge. We noticed 2-3 projects that had to do with predicting the success of a business. For example, one project predicted success based on the text in the reviews which were analyzed based on sentiment (reference #5) using machine learning models. However, we could not find any projects or reports that looked into the effect of different locations on the ratings of restaurants which is why we thought it would be an interesting topic to focus on. \n",
    "\n",
    "References (include links):\n",
    "- 1) The Yelp Review Filter: https://vivial.net/blog/how-to-avoid-the-yelp-review-filter-and-get-more-positive-reviews/\n",
    "- 2) The Yelp Effect https://rbj.rady.ucsd.edu/index.php/topics/social-impact/2014/01/the-yelp-effect/\n",
    "- 3) Fake Yelp Reviews\n",
    "    - https://smallbusiness.yahoo.com/advisor/writing-fake-reviews-yelp-might-sued-173135209.html\n",
    "    - https://www.businessinsider.com/20-percent-of-yelp-reviews-fake-2013-9\n",
    "- 4) The Yelp Factor https://hbswk.hbs.edu/item/the-yelp-factor-are-consumer-reviews-good-for-business\n",
    "- 5) Yelp Dataset Challenge 1 https://github.com/VC444/Yelp-Dataset-Challenge "
   ]
  },
  {
   "cell_type": "markdown",
   "metadata": {},
   "source": [
    "# Hypothesis\n"
   ]
  },
  {
   "cell_type": "markdown",
   "metadata": {},
   "source": [
    "Location will have a large effect on the rating because it sets up the environment and customer expectations the business needs to fulfill. The most popular type of food in a specific area will be set at a higher standard by the consumers and therefore have harsher ratings. For example, we believe that if Mexican food is very popular in San Diego, then Chipotle chain restaurants, known for its Mexican-style cuisine, will generally have lower ratings due to the fact that there are more local restaurants that specialize in Mexican food. Therefore, we will also place an emphasis on chain restaurants and compare our findings to local restaurants. "
   ]
  },
  {
   "cell_type": "markdown",
   "metadata": {},
   "source": [
    "# Dataset(s)"
   ]
  },
  {
   "cell_type": "markdown",
   "metadata": {},
   "source": [
    "- Dataset Name: Yelp Categories (categories.json)\n",
    "- Link to the dataset: https://www.yelp.com/developers/documentation/v3/all_category_list\n",
    "- Number of observations: 1,563 observations\n",
    "\n",
    "This data was used to gather all the relevant categories to collect our data using the Yelp API. We found the categories by finding all the rows who's parent category contained 'restaurant' in it.\n",
    "\n",
    "\n",
    "- Dataset Name: Yelp Restaurant Data Across America\n",
    "- Link to the dataset: https://www.yelp.com/developers/documentation/v3/business_search\n",
    "- Number of observations: 150,980 observations\n",
    "\n",
    "The data was collected by using a Yelp API and the github repo: https://github.com/gfairchild/yelpapi. We used the dataset categories.json to find all the relevant restaurant categories and ran a search query for each state. The data contains the name of the restaurant, the location (including latitude and longitude), the average rating, the applicable categories, and the number of customer reviews.\n",
    "\n",
    "\n",
    "- Dataset Name: Fast Food Restaurants Across America\n",
    "- Link to the dataset: https://www.kaggle.com/datafiniti/fast-food-restaurants#FastFoodRestaurants.csv\n",
    "- Number of observations: 10,000 observations\n",
    "\n",
    "This dataset provides information about 10,000 fast food restaurants across America. The data was collected from Datafiniti's Business Database in March 2018. We are using this dataset to understand which fast food chains are the most popular across the US (per state) based on the number of locations. While the data comes from a reliable source, the completion of the dataset is cannot be confirmed because there was no free option to download the data directly from the source so we had to download the data from kaggle.com. The data includes the fast food restaurant, its location, and website.\n"
   ]
  },
  {
   "cell_type": "markdown",
   "metadata": {},
   "source": [
    "# Setup"
   ]
  },
  {
   "cell_type": "code",
   "execution_count": 1,
   "metadata": {},
   "outputs": [],
   "source": [
    "# uncomment below if not yet installed\n",
    "#!pip install --user geopandas\n",
    "#!pip install --user descartes"
   ]
  },
  {
   "cell_type": "code",
   "execution_count": 2,
   "metadata": {
    "scrolled": true
   },
   "outputs": [],
   "source": [
    "# import libraries\n",
    "import numpy as np\n",
    "import pandas as pd\n",
    "import geopandas as gpd\n",
    "\n",
    "import matplotlib.pyplot as plt\n",
    "import seaborn as sns\n",
    "\n",
    "import shapely.geometry as shp"
   ]
  },
  {
   "cell_type": "markdown",
   "metadata": {},
   "source": [
    "Import dataframes from csv files"
   ]
  },
  {
   "cell_type": "code",
   "execution_count": 3,
   "metadata": {
    "scrolled": true
   },
   "outputs": [],
   "source": [
    "yelp_df = pd.read_csv('data/YelpRestaurants.csv')\n",
    "fast_df = pd.read_csv('data/FastFoodRestaurants.csv')\n",
    "fast_ratings_df = pd.read_csv('data/FastRatings.csv')"
   ]
  },
  {
   "cell_type": "markdown",
   "metadata": {},
   "source": [
    "# Data Cleaning"
   ]
  },
  {
   "cell_type": "markdown",
   "metadata": {},
   "source": [
    "Describe your data cleaning steps here."
   ]
  },
  {
   "cell_type": "code",
   "execution_count": 4,
   "metadata": {
    "scrolled": true
   },
   "outputs": [],
   "source": [
    "## YOUR CODE HERE\n",
    "## FEEL FREE TO ADD MULTIPLE CELLS PER SECTION"
   ]
  },
  {
   "cell_type": "code",
   "execution_count": 5,
   "metadata": {
    "scrolled": true
   },
   "outputs": [],
   "source": [
    "#turns all name to lowercase so capitalization does not affect analysis\n",
    "for i in yelp_df.index:\n",
    "    yelp_df.at[i,'name'] = yelp_df.at[i,'name'].lower()\n",
    "for j in fast_df.index:\n",
    "    fast_df.at[j, 'name'] = fast_df.at[j, 'name'].lower()\n",
    "for k in fast_ratings_df.index:\n",
    "    fast_ratings_df.at[k, 'name'] = fast_ratings_df.at[k, 'name'].lower()"
   ]
  },
  {
   "cell_type": "markdown",
   "metadata": {},
   "source": [
    "#### Clean data in the yelp_df"
   ]
  },
  {
   "cell_type": "code",
   "execution_count": 6,
   "metadata": {
    "scrolled": true
   },
   "outputs": [],
   "source": [
    "#Separate longitude and latitude information from coordinates column for the yelp_df\n",
    "yelp_df['latitude'] = np.nan\n",
    "yelp_df['longitude'] = np.nan\n",
    "for i in yelp_df.index:\n",
    "    coord = yelp_df.at[i, 'coordinates']\n",
    "    yelp_df.at[i, 'latitude'] = coord[coord.find(':') + 1 : coord.find(',')]\n",
    "    yelp_df.at[i, 'longitude'] = coord[coord.find(':', coord.find(',') + 1) + 1 : coord.find('}')]\n",
    "\n",
    "yelp_df = yelp_df.drop('coordinates',axis=1)"
   ]
  },
  {
   "cell_type": "code",
   "execution_count": 7,
   "metadata": {
    "scrolled": true
   },
   "outputs": [],
   "source": [
    "#Separate address information from location column for the yelp_df\n",
    "yelp_df['address'] = ''\n",
    "for i in yelp_df.index:\n",
    "    address = yelp_df.at[i, 'location']\n",
    "    yelp_df.at[i, 'address'] = address[address.find(':') + 3 : address.find(',') - 1]\n",
    "\n",
    "yelp_df = yelp_df.drop('location', axis=1)"
   ]
  },
  {
   "cell_type": "code",
   "execution_count": 8,
   "metadata": {},
   "outputs": [],
   "source": [
    "#Drop unnamed column from yelp_df\n",
    "yelp_df = yelp_df.drop(['Unnamed: 0'], axis=1)"
   ]
  },
  {
   "cell_type": "code",
   "execution_count": 9,
   "metadata": {},
   "outputs": [
    {
     "data": {
      "text/html": [
       "<div>\n",
       "<style scoped>\n",
       "    .dataframe tbody tr th:only-of-type {\n",
       "        vertical-align: middle;\n",
       "    }\n",
       "\n",
       "    .dataframe tbody tr th {\n",
       "        vertical-align: top;\n",
       "    }\n",
       "\n",
       "    .dataframe thead th {\n",
       "        text-align: right;\n",
       "    }\n",
       "</style>\n",
       "<table border=\"1\" class=\"dataframe\">\n",
       "  <thead>\n",
       "    <tr style=\"text-align: right;\">\n",
       "      <th></th>\n",
       "      <th>name</th>\n",
       "      <th>category</th>\n",
       "      <th>rating</th>\n",
       "      <th>review_count</th>\n",
       "      <th>state</th>\n",
       "      <th>latitude</th>\n",
       "      <th>longitude</th>\n",
       "      <th>address</th>\n",
       "    </tr>\n",
       "  </thead>\n",
       "  <tbody>\n",
       "    <tr>\n",
       "      <td>0</td>\n",
       "      <td>el barrio</td>\n",
       "      <td>[{'alias': 'mexican', 'title': 'Mexican'}]</td>\n",
       "      <td>4.5</td>\n",
       "      <td>615</td>\n",
       "      <td>AL</td>\n",
       "      <td>33.516636</td>\n",
       "      <td>-86.802849</td>\n",
       "      <td>2211 2nd Ave N</td>\n",
       "    </tr>\n",
       "    <tr>\n",
       "      <td>1</td>\n",
       "      <td>saw's soul kitchen</td>\n",
       "      <td>[{'alias': 'bbq', 'title': 'Barbeque'}, {'alia...</td>\n",
       "      <td>4.5</td>\n",
       "      <td>782</td>\n",
       "      <td>AL</td>\n",
       "      <td>33.524190</td>\n",
       "      <td>-86.773830</td>\n",
       "      <td>215 41st St S</td>\n",
       "    </tr>\n",
       "    <tr>\n",
       "      <td>2</td>\n",
       "      <td>yo' mama's</td>\n",
       "      <td>[{'alias': 'newamerican', 'title': 'American (...</td>\n",
       "      <td>4.5</td>\n",
       "      <td>356</td>\n",
       "      <td>AL</td>\n",
       "      <td>33.517660</td>\n",
       "      <td>-86.801830</td>\n",
       "      <td>2328 2nd Ave N</td>\n",
       "    </tr>\n",
       "    <tr>\n",
       "      <td>3</td>\n",
       "      <td>carrigan's public house</td>\n",
       "      <td>[{'alias': 'cocktailbars', 'title': 'Cocktail ...</td>\n",
       "      <td>4.5</td>\n",
       "      <td>527</td>\n",
       "      <td>AL</td>\n",
       "      <td>33.517124</td>\n",
       "      <td>-86.798646</td>\n",
       "      <td>2430 Morris Ave</td>\n",
       "    </tr>\n",
       "    <tr>\n",
       "      <td>4</td>\n",
       "      <td>highlands bar &amp; grill</td>\n",
       "      <td>[{'alias': 'southern', 'title': 'Southern'}, {...</td>\n",
       "      <td>4.5</td>\n",
       "      <td>298</td>\n",
       "      <td>AL</td>\n",
       "      <td>33.500572</td>\n",
       "      <td>-86.795577</td>\n",
       "      <td>2011 11th Ave S</td>\n",
       "    </tr>\n",
       "    <tr>\n",
       "      <td>...</td>\n",
       "      <td>...</td>\n",
       "      <td>...</td>\n",
       "      <td>...</td>\n",
       "      <td>...</td>\n",
       "      <td>...</td>\n",
       "      <td>...</td>\n",
       "      <td>...</td>\n",
       "      <td>...</td>\n",
       "    </tr>\n",
       "    <tr>\n",
       "      <td>150975</td>\n",
       "      <td>penny ann's cafe</td>\n",
       "      <td>[{'alias': 'cafes', 'title': 'Cafes'}, {'alias...</td>\n",
       "      <td>4.0</td>\n",
       "      <td>1077</td>\n",
       "      <td>UT</td>\n",
       "      <td>40.730936</td>\n",
       "      <td>-111.891403</td>\n",
       "      <td>1810 S Main St</td>\n",
       "    </tr>\n",
       "    <tr>\n",
       "      <td>150976</td>\n",
       "      <td>valter's osteria</td>\n",
       "      <td>[{'alias': 'italian', 'title': 'Italian'}]</td>\n",
       "      <td>4.5</td>\n",
       "      <td>618</td>\n",
       "      <td>UT</td>\n",
       "      <td>40.762516</td>\n",
       "      <td>-111.896202</td>\n",
       "      <td>173 W Broadway</td>\n",
       "    </tr>\n",
       "    <tr>\n",
       "      <td>150977</td>\n",
       "      <td>whiskey street</td>\n",
       "      <td>[{'alias': 'lounges', 'title': 'Lounges'}, {'a...</td>\n",
       "      <td>4.0</td>\n",
       "      <td>1065</td>\n",
       "      <td>UT</td>\n",
       "      <td>40.762160</td>\n",
       "      <td>-111.890699</td>\n",
       "      <td>323 S Main St</td>\n",
       "    </tr>\n",
       "    <tr>\n",
       "      <td>150978</td>\n",
       "      <td>zest kitchen &amp; bar</td>\n",
       "      <td>[{'alias': 'gluten_free', 'title': 'Gluten-Fre...</td>\n",
       "      <td>4.5</td>\n",
       "      <td>782</td>\n",
       "      <td>UT</td>\n",
       "      <td>40.763268</td>\n",
       "      <td>-111.896446</td>\n",
       "      <td>275 S 200th W</td>\n",
       "    </tr>\n",
       "    <tr>\n",
       "      <td>150979</td>\n",
       "      <td>purgatory</td>\n",
       "      <td>[{'alias': 'bars', 'title': 'Bars'}, {'alias':...</td>\n",
       "      <td>4.5</td>\n",
       "      <td>686</td>\n",
       "      <td>UT</td>\n",
       "      <td>40.753791</td>\n",
       "      <td>-111.888989</td>\n",
       "      <td>62 E 700th S</td>\n",
       "    </tr>\n",
       "  </tbody>\n",
       "</table>\n",
       "<p>150980 rows × 8 columns</p>\n",
       "</div>"
      ],
      "text/plain": [
       "                           name  \\\n",
       "0                     el barrio   \n",
       "1            saw's soul kitchen   \n",
       "2                    yo' mama's   \n",
       "3       carrigan's public house   \n",
       "4         highlands bar & grill   \n",
       "...                         ...   \n",
       "150975         penny ann's cafe   \n",
       "150976         valter's osteria   \n",
       "150977           whiskey street   \n",
       "150978       zest kitchen & bar   \n",
       "150979                purgatory   \n",
       "\n",
       "                                                 category  rating  \\\n",
       "0              [{'alias': 'mexican', 'title': 'Mexican'}]     4.5   \n",
       "1       [{'alias': 'bbq', 'title': 'Barbeque'}, {'alia...     4.5   \n",
       "2       [{'alias': 'newamerican', 'title': 'American (...     4.5   \n",
       "3       [{'alias': 'cocktailbars', 'title': 'Cocktail ...     4.5   \n",
       "4       [{'alias': 'southern', 'title': 'Southern'}, {...     4.5   \n",
       "...                                                   ...     ...   \n",
       "150975  [{'alias': 'cafes', 'title': 'Cafes'}, {'alias...     4.0   \n",
       "150976         [{'alias': 'italian', 'title': 'Italian'}]     4.5   \n",
       "150977  [{'alias': 'lounges', 'title': 'Lounges'}, {'a...     4.0   \n",
       "150978  [{'alias': 'gluten_free', 'title': 'Gluten-Fre...     4.5   \n",
       "150979  [{'alias': 'bars', 'title': 'Bars'}, {'alias':...     4.5   \n",
       "\n",
       "        review_count state   latitude   longitude          address  \n",
       "0                615    AL  33.516636  -86.802849   2211 2nd Ave N  \n",
       "1                782    AL  33.524190  -86.773830    215 41st St S  \n",
       "2                356    AL  33.517660  -86.801830   2328 2nd Ave N  \n",
       "3                527    AL  33.517124  -86.798646  2430 Morris Ave  \n",
       "4                298    AL  33.500572  -86.795577  2011 11th Ave S  \n",
       "...              ...   ...        ...         ...              ...  \n",
       "150975          1077    UT  40.730936 -111.891403   1810 S Main St  \n",
       "150976           618    UT  40.762516 -111.896202   173 W Broadway  \n",
       "150977          1065    UT  40.762160 -111.890699    323 S Main St  \n",
       "150978           782    UT  40.763268 -111.896446    275 S 200th W  \n",
       "150979           686    UT  40.753791 -111.888989     62 E 700th S  \n",
       "\n",
       "[150980 rows x 8 columns]"
      ]
     },
     "execution_count": 9,
     "metadata": {},
     "output_type": "execute_result"
    }
   ],
   "source": [
    "yelp_df"
   ]
  },
  {
   "cell_type": "code",
   "execution_count": 10,
   "metadata": {},
   "outputs": [
    {
     "data": {
      "text/plain": [
       "state\n",
       "AL    4.50\n",
       "AZ    4.50\n",
       "CA    4.50\n",
       "CO    4.00\n",
       "FL    4.00\n",
       "IA    4.50\n",
       "IL    4.00\n",
       "IN    4.50\n",
       "KS    3.50\n",
       "KY    4.50\n",
       "MA    4.00\n",
       "MD    4.50\n",
       "MI    4.50\n",
       "MS    4.00\n",
       "NC    4.50\n",
       "ND    4.25\n",
       "NH    4.50\n",
       "NJ    4.50\n",
       "NM    4.30\n",
       "NV    4.50\n",
       "OH    4.50\n",
       "OK    4.00\n",
       "PA    4.00\n",
       "SC    4.75\n",
       "SD    4.50\n",
       "TN    4.50\n",
       "UT    4.50\n",
       "WA    4.50\n",
       "WI    4.50\n",
       "WV    4.00\n",
       "WY    4.00\n",
       "Name: rating, dtype: float64"
      ]
     },
     "execution_count": 10,
     "metadata": {},
     "output_type": "execute_result"
    }
   ],
   "source": [
    "# DATA CLEANING MEXICAN RESTAURANTS\n",
    "mex_list = []\n",
    "for i in yelp_df.index:\n",
    "    is_mex = 'mexican' in yelp_df['category'].iloc[i]\n",
    "    mex_list.append(is_mex)\n",
    "temp = yelp_df.assign(mex=mex_list)\n",
    "mexican = temp[temp['mex'].values==True]\n",
    "\n",
    "mexican_rating = mexican.groupby('state').rating.mean()\n",
    "mexican_rating"
   ]
  },
  {
   "cell_type": "code",
   "execution_count": 11,
   "metadata": {},
   "outputs": [
    {
     "data": {
      "text/plain": [
       "state\n",
       "AK    4.250000\n",
       "AZ    4.500000\n",
       "CA    4.500000\n",
       "CO    4.500000\n",
       "GA    4.500000\n",
       "HI    4.500000\n",
       "IA    4.500000\n",
       "MT    4.500000\n",
       "NE    4.000000\n",
       "NM    4.500000\n",
       "NV    4.500000\n",
       "PA    4.500000\n",
       "RI    4.500000\n",
       "SC    4.000000\n",
       "TX    4.250000\n",
       "UT    4.500000\n",
       "WA    4.166667\n",
       "WY    3.500000\n",
       "Name: rating, dtype: float64"
      ]
     },
     "execution_count": 11,
     "metadata": {},
     "output_type": "execute_result"
    }
   ],
   "source": [
    "#DATA CLEANING for Japanese restaurants\n",
    "jap_list = []\n",
    "for i in yelp_df.index:\n",
    "    is_jap = 'japanese' in yelp_df['category'].iloc[i]\n",
    "    jap_list.append(is_jap)\n",
    "temp = yelp_df.assign(jap=jap_list)\n",
    "japanese = temp[temp['jap'].values==True]\n",
    "\n",
    "jap_rating = japanese.groupby('state').rating.mean()\n",
    "jap_rating"
   ]
  },
  {
   "cell_type": "code",
   "execution_count": 12,
   "metadata": {},
   "outputs": [
    {
     "data": {
      "text/plain": [
       "state\n",
       "AL    4.500000\n",
       "AZ    4.500000\n",
       "CA    4.250000\n",
       "CO    4.250000\n",
       "CT    4.000000\n",
       "DC    4.333333\n",
       "FL    4.666667\n",
       "ID    4.250000\n",
       "IL    4.166667\n",
       "KS    4.750000\n",
       "MA    4.125000\n",
       "MD    4.500000\n",
       "MI    4.500000\n",
       "MN    4.250000\n",
       "MS    4.000000\n",
       "NH    4.500000\n",
       "NY    4.500000\n",
       "OH    4.000000\n",
       "OK    4.250000\n",
       "RI    4.750000\n",
       "SC    4.500000\n",
       "TX    4.000000\n",
       "UT    4.500000\n",
       "VT    4.250000\n",
       "WA    4.500000\n",
       "WI    4.500000\n",
       "WY    4.000000\n",
       "Name: rating, dtype: float64"
      ]
     },
     "execution_count": 12,
     "metadata": {},
     "output_type": "execute_result"
    }
   ],
   "source": [
    "#DATA CLEANING for Italian restaurants\n",
    "ital_list = []\n",
    "for i in yelp_df.index:\n",
    "    is_ital = 'italian' in yelp_df['category'].iloc[i]\n",
    "    ital_list.append(is_ital)\n",
    "temp = yelp_df.assign(ital=ital_list)\n",
    "italian = temp[temp['ital'].values==True]\n",
    "ital_rating = italian.groupby('state').rating.mean()\n",
    "ital_rating"
   ]
  },
  {
   "cell_type": "code",
   "execution_count": 13,
   "metadata": {},
   "outputs": [
    {
     "data": {
      "text/plain": [
       "state\n",
       "PA    4.0\n",
       "RI    4.0\n",
       "SD    4.5\n",
       "Name: rating, dtype: float64"
      ]
     },
     "execution_count": 13,
     "metadata": {},
     "output_type": "execute_result"
    }
   ],
   "source": [
    "#DATA CLEANING for chinese restaurants\n",
    "chin_list = []\n",
    "for i in yelp_df.index:\n",
    "    is_chin = 'chinese' in yelp_df['category'].iloc[i]\n",
    "    chin_list.append(is_chin)\n",
    "temp = yelp_df.assign(chin=chin_list)\n",
    "chinese = temp[temp['chin'].values==True]\n",
    "\n",
    "chinese_rating = chinese.groupby('state').rating.mean()\n",
    "chinese_rating"
   ]
  },
  {
   "cell_type": "code",
   "execution_count": 14,
   "metadata": {},
   "outputs": [
    {
     "data": {
      "text/plain": [
       "state\n",
       "AK    4.125000\n",
       "AL    4.500000\n",
       "AZ    4.000000\n",
       "CA    4.166667\n",
       "CO    4.000000\n",
       "DC    4.000000\n",
       "FL    4.333333\n",
       "GA    4.500000\n",
       "IA    4.000000\n",
       "ID    4.500000\n",
       "IL    4.500000\n",
       "IN    4.500000\n",
       "KS    4.444444\n",
       "KY    4.375000\n",
       "MD    4.000000\n",
       "ME    4.500000\n",
       "MI    4.000000\n",
       "MN    4.250000\n",
       "MO    4.500000\n",
       "MS    4.000000\n",
       "NC    4.250000\n",
       "ND    4.375000\n",
       "NE    4.500000\n",
       "NH    4.083333\n",
       "NJ    4.000000\n",
       "NM    4.500000\n",
       "NV    4.500000\n",
       "NY    4.000000\n",
       "OH    4.500000\n",
       "OK    4.333333\n",
       "OR    4.333333\n",
       "PA    4.000000\n",
       "RI    4.500000\n",
       "SC    4.166667\n",
       "SD    4.000000\n",
       "TN    4.000000\n",
       "TX    4.500000\n",
       "UT    4.333333\n",
       "VA    4.000000\n",
       "VT    4.250000\n",
       "WI    4.166667\n",
       "WV    4.500000\n",
       "WY    3.750000\n",
       "Name: rating, dtype: float64"
      ]
     },
     "execution_count": 14,
     "metadata": {},
     "output_type": "execute_result"
    }
   ],
   "source": [
    "#DATA CLEANING for traditional American restaurants\n",
    "amer_trad_list = []\n",
    "for i in yelp_df.index:\n",
    "    is_amer_trad = 'American (Traditional)' in yelp_df['category'].iloc[i]\n",
    "    amer_trad_list.append(is_amer_trad)\n",
    "temp = yelp_df.assign(amer=amer_trad_list)\n",
    "american_trad = temp[temp['amer'].values==True]\n",
    "\n",
    "american_trad_rating = american_trad.groupby('state').rating.mean()\n",
    "american_trad_rating"
   ]
  },
  {
   "cell_type": "code",
   "execution_count": 15,
   "metadata": {},
   "outputs": [
    {
     "data": {
      "text/plain": [
       "state\n",
       "AK    4.000000\n",
       "AL    4.500000\n",
       "AZ    4.000000\n",
       "CA    4.000000\n",
       "CO    4.333333\n",
       "CT    4.000000\n",
       "DC    4.166667\n",
       "FL    4.500000\n",
       "GA    4.500000\n",
       "IA    4.166667\n",
       "ID    4.000000\n",
       "IL    4.500000\n",
       "IN    4.500000\n",
       "KS    4.250000\n",
       "KY    4.500000\n",
       "MA    4.000000\n",
       "MD    4.333333\n",
       "ME    4.333333\n",
       "MI    4.357143\n",
       "MN    4.500000\n",
       "MO    4.166667\n",
       "MS    4.416667\n",
       "MT    4.375000\n",
       "NC    4.250000\n",
       "ND    4.200000\n",
       "NE    4.250000\n",
       "NH    4.250000\n",
       "NJ    4.000000\n",
       "NM    4.333333\n",
       "NV    4.400000\n",
       "NY    4.250000\n",
       "OH    4.333333\n",
       "OK    4.375000\n",
       "OR    4.500000\n",
       "PA    4.375000\n",
       "RI    4.250000\n",
       "SC    4.000000\n",
       "SD    4.166667\n",
       "TN    4.500000\n",
       "TX    4.375000\n",
       "UT    4.125000\n",
       "VA    4.200000\n",
       "VT    4.166667\n",
       "WI    4.500000\n",
       "WV    4.125000\n",
       "WY    4.000000\n",
       "Name: rating, dtype: float64"
      ]
     },
     "execution_count": 15,
     "metadata": {},
     "output_type": "execute_result"
    }
   ],
   "source": [
    "#DATA CLEANING for new American restaurants\n",
    "amer_new_list = []\n",
    "for i in yelp_df.index:\n",
    "    is_amer_new = 'American (New)' in yelp_df['category'].iloc[i]\n",
    "    amer_new_list.append(is_amer_new)\n",
    "temp = yelp_df.assign(amer=amer_new_list)\n",
    "american_new = temp[temp['amer'].values==True]\n",
    "\n",
    "american_new_rating = american_new.groupby('state').rating.mean()\n",
    "american_new_rating"
   ]
  },
  {
   "cell_type": "markdown",
   "metadata": {},
   "source": [
    "#### Clean data in the fast_ratings_df"
   ]
  },
  {
   "cell_type": "code",
   "execution_count": 16,
   "metadata": {},
   "outputs": [
    {
     "data": {
      "text/plain": [
       "array(['NY', 'OH', 'KY', 'SC', 'AR', 'IN', 'OK', 'LA', 'ND', 'TX', 'MI',\n",
       "       'MO', 'TN', 'NC', 'GA', 'UT', 'WI', 'MS', 'WA', 'NE', 'AL', 'WV',\n",
       "       'VT', 'AZ', 'KS', 'MN', 'SD', 'NM', 'OR', 'ME', 'IA', 'WY', 'IL',\n",
       "       'VA', 'MT', 'ID', 'PA', 'NJ', 'MD', 'FL', 'CA', 'MA', 'CO', 'NV',\n",
       "       'NH', 'CT', 'DE', 'HI'], dtype=object)"
      ]
     },
     "execution_count": 16,
     "metadata": {},
     "output_type": "execute_result"
    }
   ],
   "source": [
    "to_drop = []\n",
    "for i in fast_ratings_df.index:\n",
    "    if (\"'country': 'US'\" in fast_ratings_df['location'][i]):\n",
    "        continue\n",
    "    else:\n",
    "        to_drop.append(i)\n",
    "fast_ratings_df = fast_ratings_df.drop(to_drop)\n",
    "fast_ratings_df['state'].unique()"
   ]
  },
  {
   "cell_type": "code",
   "execution_count": 17,
   "metadata": {},
   "outputs": [
    {
     "data": {
      "text/plain": [
       "array(['NY', 'OH', 'KY', 'SC', 'AR', 'IN', 'OK', 'LA', 'ND', 'TX', 'MI',\n",
       "       'MO', 'TN', 'NC', 'GA', 'UT', 'WI', 'MS', 'WA', 'NE', 'AL', 'WV',\n",
       "       'VT', 'AZ', 'KS', 'MN', 'SD', 'NM', 'OR', 'ME', 'IA', 'WY', 'IL',\n",
       "       'VA', 'MT', 'ID', 'PA', 'NJ', 'MD', 'FL', 'CA', 'MA', 'CO', 'NV',\n",
       "       'NH', 'CT', 'DE', 'HI'], dtype=object)"
      ]
     },
     "execution_count": 17,
     "metadata": {},
     "output_type": "execute_result"
    }
   ],
   "source": [
    "fast_ratings_df['state'].unique()"
   ]
  },
  {
   "cell_type": "code",
   "execution_count": 18,
   "metadata": {
    "scrolled": true
   },
   "outputs": [],
   "source": [
    "#Separate longitude and latitude information from coordinates column for the fast_ratings_df\n",
    "fast_ratings_df['latitude'] = np.nan\n",
    "fast_ratings_df['longitude'] = np.nan\n",
    "for i in fast_ratings_df.index:\n",
    "    coord = fast_ratings_df.at[i, 'coordinates']\n",
    "    fast_ratings_df.at[i, 'latitude'] = coord[coord.find(':') + 1 : coord.find(',')]\n",
    "    fast_ratings_df.at[i, 'longitude'] = coord[coord.find(':', coord.find(',') + 1) + 1 : coord.find('}')]\n",
    "\n",
    "fast_ratings_df = fast_ratings_df.drop('coordinates',axis=1)"
   ]
  },
  {
   "cell_type": "code",
   "execution_count": 19,
   "metadata": {
    "scrolled": true
   },
   "outputs": [],
   "source": [
    "#Separate address information from location column for the fast_ratings_df\n",
    "fast_ratings_df['address'] = ''\n",
    "for i in fast_ratings_df.index:\n",
    "    address = fast_ratings_df.at[i, 'location']\n",
    "    fast_ratings_df.at[i, 'address'] = address[address.find(':') + 3 : address.find(',') - 1]\n",
    "\n",
    "fast_ratings_df = fast_ratings_df.drop('location', axis=1)"
   ]
  },
  {
   "cell_type": "code",
   "execution_count": 20,
   "metadata": {},
   "outputs": [],
   "source": [
    "# Drop unnamed column from fast_ratings_df\n",
    "fast_ratings_df = fast_ratings_df.drop(['Unnamed: 0', 'Unnamed: 0.1'], axis=1)"
   ]
  },
  {
   "cell_type": "markdown",
   "metadata": {},
   "source": [
    "# Data Analysis & Results"
   ]
  },
  {
   "cell_type": "markdown",
   "metadata": {},
   "source": [
    "Include cells that describe the steps in your data analysis."
   ]
  },
  {
   "cell_type": "code",
   "execution_count": 21,
   "metadata": {
    "scrolled": true
   },
   "outputs": [
    {
     "data": {
      "text/html": [
       "<div>\n",
       "<style scoped>\n",
       "    .dataframe tbody tr th:only-of-type {\n",
       "        vertical-align: middle;\n",
       "    }\n",
       "\n",
       "    .dataframe tbody tr th {\n",
       "        vertical-align: top;\n",
       "    }\n",
       "\n",
       "    .dataframe thead th {\n",
       "        text-align: right;\n",
       "    }\n",
       "</style>\n",
       "<table border=\"1\" class=\"dataframe\">\n",
       "  <thead>\n",
       "    <tr style=\"text-align: right;\">\n",
       "      <th></th>\n",
       "      <th>name</th>\n",
       "      <th>category</th>\n",
       "      <th>rating</th>\n",
       "      <th>review_count</th>\n",
       "      <th>state</th>\n",
       "      <th>latitude</th>\n",
       "      <th>longitude</th>\n",
       "      <th>address</th>\n",
       "    </tr>\n",
       "  </thead>\n",
       "  <tbody>\n",
       "    <tr>\n",
       "      <td>0</td>\n",
       "      <td>el barrio</td>\n",
       "      <td>[{'alias': 'mexican', 'title': 'Mexican'}]</td>\n",
       "      <td>4.5</td>\n",
       "      <td>615</td>\n",
       "      <td>AL</td>\n",
       "      <td>33.516636</td>\n",
       "      <td>-86.802849</td>\n",
       "      <td>2211 2nd Ave N</td>\n",
       "    </tr>\n",
       "    <tr>\n",
       "      <td>1</td>\n",
       "      <td>saw's soul kitchen</td>\n",
       "      <td>[{'alias': 'bbq', 'title': 'Barbeque'}, {'alia...</td>\n",
       "      <td>4.5</td>\n",
       "      <td>782</td>\n",
       "      <td>AL</td>\n",
       "      <td>33.524190</td>\n",
       "      <td>-86.773830</td>\n",
       "      <td>215 41st St S</td>\n",
       "    </tr>\n",
       "    <tr>\n",
       "      <td>2</td>\n",
       "      <td>yo' mama's</td>\n",
       "      <td>[{'alias': 'newamerican', 'title': 'American (...</td>\n",
       "      <td>4.5</td>\n",
       "      <td>356</td>\n",
       "      <td>AL</td>\n",
       "      <td>33.517660</td>\n",
       "      <td>-86.801830</td>\n",
       "      <td>2328 2nd Ave N</td>\n",
       "    </tr>\n",
       "    <tr>\n",
       "      <td>3</td>\n",
       "      <td>carrigan's public house</td>\n",
       "      <td>[{'alias': 'cocktailbars', 'title': 'Cocktail ...</td>\n",
       "      <td>4.5</td>\n",
       "      <td>527</td>\n",
       "      <td>AL</td>\n",
       "      <td>33.517124</td>\n",
       "      <td>-86.798646</td>\n",
       "      <td>2430 Morris Ave</td>\n",
       "    </tr>\n",
       "    <tr>\n",
       "      <td>4</td>\n",
       "      <td>highlands bar &amp; grill</td>\n",
       "      <td>[{'alias': 'southern', 'title': 'Southern'}, {...</td>\n",
       "      <td>4.5</td>\n",
       "      <td>298</td>\n",
       "      <td>AL</td>\n",
       "      <td>33.500572</td>\n",
       "      <td>-86.795577</td>\n",
       "      <td>2011 11th Ave S</td>\n",
       "    </tr>\n",
       "    <tr>\n",
       "      <td>...</td>\n",
       "      <td>...</td>\n",
       "      <td>...</td>\n",
       "      <td>...</td>\n",
       "      <td>...</td>\n",
       "      <td>...</td>\n",
       "      <td>...</td>\n",
       "      <td>...</td>\n",
       "      <td>...</td>\n",
       "    </tr>\n",
       "    <tr>\n",
       "      <td>1032</td>\n",
       "      <td>l'osteria mondello</td>\n",
       "      <td>[{'alias': 'italian', 'title': 'Italian'}, {'a...</td>\n",
       "      <td>4.0</td>\n",
       "      <td>79</td>\n",
       "      <td>WY</td>\n",
       "      <td>41.159263</td>\n",
       "      <td>-104.804882</td>\n",
       "      <td>1507 Stillwater Ave</td>\n",
       "    </tr>\n",
       "    <tr>\n",
       "      <td>1033</td>\n",
       "      <td>paramount ballroom</td>\n",
       "      <td>[{'alias': 'vegetarian', 'title': 'Vegetarian'...</td>\n",
       "      <td>4.5</td>\n",
       "      <td>20</td>\n",
       "      <td>WY</td>\n",
       "      <td>41.133169</td>\n",
       "      <td>-104.815396</td>\n",
       "      <td>1609 Capitol Ave</td>\n",
       "    </tr>\n",
       "    <tr>\n",
       "      <td>1034</td>\n",
       "      <td>mort's bagels</td>\n",
       "      <td>[{'alias': 'bagels', 'title': 'Bagels'}, {'ali...</td>\n",
       "      <td>4.5</td>\n",
       "      <td>43</td>\n",
       "      <td>WY</td>\n",
       "      <td>41.134658</td>\n",
       "      <td>-104.817705</td>\n",
       "      <td>1815 Carey Ave</td>\n",
       "    </tr>\n",
       "    <tr>\n",
       "      <td>1035</td>\n",
       "      <td>japonessa sushi cocina</td>\n",
       "      <td>[{'alias': 'japanese', 'title': 'Japanese'}, {...</td>\n",
       "      <td>4.0</td>\n",
       "      <td>4608</td>\n",
       "      <td>WA</td>\n",
       "      <td>47.608090</td>\n",
       "      <td>-122.338990</td>\n",
       "      <td>1400 1st Ave</td>\n",
       "    </tr>\n",
       "    <tr>\n",
       "      <td>1036</td>\n",
       "      <td>sobelman's pub &amp; grill</td>\n",
       "      <td>[{'alias': 'pubs', 'title': 'Pubs'}, {'alias':...</td>\n",
       "      <td>4.0</td>\n",
       "      <td>768</td>\n",
       "      <td>WI</td>\n",
       "      <td>43.034992</td>\n",
       "      <td>-87.936775</td>\n",
       "      <td>1900 W St Paul Ave</td>\n",
       "    </tr>\n",
       "  </tbody>\n",
       "</table>\n",
       "<p>1037 rows × 8 columns</p>\n",
       "</div>"
      ],
      "text/plain": [
       "                         name  \\\n",
       "0                   el barrio   \n",
       "1          saw's soul kitchen   \n",
       "2                  yo' mama's   \n",
       "3     carrigan's public house   \n",
       "4       highlands bar & grill   \n",
       "...                       ...   \n",
       "1032       l'osteria mondello   \n",
       "1033       paramount ballroom   \n",
       "1034            mort's bagels   \n",
       "1035   japonessa sushi cocina   \n",
       "1036   sobelman's pub & grill   \n",
       "\n",
       "                                               category  rating  review_count  \\\n",
       "0            [{'alias': 'mexican', 'title': 'Mexican'}]     4.5           615   \n",
       "1     [{'alias': 'bbq', 'title': 'Barbeque'}, {'alia...     4.5           782   \n",
       "2     [{'alias': 'newamerican', 'title': 'American (...     4.5           356   \n",
       "3     [{'alias': 'cocktailbars', 'title': 'Cocktail ...     4.5           527   \n",
       "4     [{'alias': 'southern', 'title': 'Southern'}, {...     4.5           298   \n",
       "...                                                 ...     ...           ...   \n",
       "1032  [{'alias': 'italian', 'title': 'Italian'}, {'a...     4.0            79   \n",
       "1033  [{'alias': 'vegetarian', 'title': 'Vegetarian'...     4.5            20   \n",
       "1034  [{'alias': 'bagels', 'title': 'Bagels'}, {'ali...     4.5            43   \n",
       "1035  [{'alias': 'japanese', 'title': 'Japanese'}, {...     4.0          4608   \n",
       "1036  [{'alias': 'pubs', 'title': 'Pubs'}, {'alias':...     4.0           768   \n",
       "\n",
       "     state   latitude   longitude              address  \n",
       "0       AL  33.516636  -86.802849       2211 2nd Ave N  \n",
       "1       AL  33.524190  -86.773830        215 41st St S  \n",
       "2       AL  33.517660  -86.801830       2328 2nd Ave N  \n",
       "3       AL  33.517124  -86.798646      2430 Morris Ave  \n",
       "4       AL  33.500572  -86.795577      2011 11th Ave S  \n",
       "...    ...        ...         ...                  ...  \n",
       "1032    WY  41.159263 -104.804882  1507 Stillwater Ave  \n",
       "1033    WY  41.133169 -104.815396     1609 Capitol Ave  \n",
       "1034    WY  41.134658 -104.817705       1815 Carey Ave  \n",
       "1035    WA  47.608090 -122.338990         1400 1st Ave  \n",
       "1036    WI  43.034992  -87.936775   1900 W St Paul Ave  \n",
       "\n",
       "[1037 rows x 8 columns]"
      ]
     },
     "execution_count": 21,
     "metadata": {},
     "output_type": "execute_result"
    }
   ],
   "source": [
    "yelp_df=yelp_df.drop_duplicates()\n",
    "yelp_df=yelp_df.reset_index(drop=True)\n",
    "yelp_df"
   ]
  },
  {
   "cell_type": "code",
   "execution_count": 22,
   "metadata": {
    "scrolled": true
   },
   "outputs": [
    {
     "data": {
      "text/html": [
       "<div>\n",
       "<style scoped>\n",
       "    .dataframe tbody tr th:only-of-type {\n",
       "        vertical-align: middle;\n",
       "    }\n",
       "\n",
       "    .dataframe tbody tr th {\n",
       "        vertical-align: top;\n",
       "    }\n",
       "\n",
       "    .dataframe thead th {\n",
       "        text-align: right;\n",
       "    }\n",
       "</style>\n",
       "<table border=\"1\" class=\"dataframe\">\n",
       "  <thead>\n",
       "    <tr style=\"text-align: right;\">\n",
       "      <th></th>\n",
       "      <th>name</th>\n",
       "      <th>category</th>\n",
       "      <th>rating</th>\n",
       "      <th>review_count</th>\n",
       "      <th>state</th>\n",
       "      <th>latitude</th>\n",
       "      <th>longitude</th>\n",
       "      <th>address</th>\n",
       "    </tr>\n",
       "  </thead>\n",
       "  <tbody>\n",
       "    <tr>\n",
       "      <td>0</td>\n",
       "      <td>taco bell</td>\n",
       "      <td>[{'alias': 'hotdogs', 'title': 'Fast Food'}, {...</td>\n",
       "      <td>5.0</td>\n",
       "      <td>4</td>\n",
       "      <td>NY</td>\n",
       "      <td>44.950268</td>\n",
       "      <td>-74.844363</td>\n",
       "      <td>1602 State Highway 37</td>\n",
       "    </tr>\n",
       "    <tr>\n",
       "      <td>1</td>\n",
       "      <td>mcdonald's</td>\n",
       "      <td>[{'alias': 'hotdogs', 'title': 'Fast Food'}, {...</td>\n",
       "      <td>3.5</td>\n",
       "      <td>8</td>\n",
       "      <td>OH</td>\n",
       "      <td>39.523908</td>\n",
       "      <td>-83.458744</td>\n",
       "      <td>1401 Leesburg Ave</td>\n",
       "    </tr>\n",
       "    <tr>\n",
       "      <td>2</td>\n",
       "      <td>wendy's</td>\n",
       "      <td>[{'alias': 'burgers', 'title': 'Burgers'}, {'a...</td>\n",
       "      <td>2.5</td>\n",
       "      <td>5</td>\n",
       "      <td>OH</td>\n",
       "      <td>39.532787</td>\n",
       "      <td>-83.445862</td>\n",
       "      <td>530 Clinton Avenue</td>\n",
       "    </tr>\n",
       "    <tr>\n",
       "      <td>3</td>\n",
       "      <td>frisch's big boy</td>\n",
       "      <td>[{'alias': 'burgers', 'title': 'Burgers'}, {'a...</td>\n",
       "      <td>3.5</td>\n",
       "      <td>15</td>\n",
       "      <td>KY</td>\n",
       "      <td>38.627340</td>\n",
       "      <td>-83.791582</td>\n",
       "      <td>408 Market Square Dr</td>\n",
       "    </tr>\n",
       "    <tr>\n",
       "      <td>4</td>\n",
       "      <td>lee's famous recipe chicken</td>\n",
       "      <td>[{'alias': 'hotdogs', 'title': 'Fast Food'}, {...</td>\n",
       "      <td>5.0</td>\n",
       "      <td>3</td>\n",
       "      <td>KY</td>\n",
       "      <td>38.633732</td>\n",
       "      <td>-83.792804</td>\n",
       "      <td>Highway 68 S</td>\n",
       "    </tr>\n",
       "    <tr>\n",
       "      <td>...</td>\n",
       "      <td>...</td>\n",
       "      <td>...</td>\n",
       "      <td>...</td>\n",
       "      <td>...</td>\n",
       "      <td>...</td>\n",
       "      <td>...</td>\n",
       "      <td>...</td>\n",
       "      <td>...</td>\n",
       "    </tr>\n",
       "    <tr>\n",
       "      <td>4318</td>\n",
       "      <td>mcdonald's</td>\n",
       "      <td>[{'alias': 'hotdogs', 'title': 'Fast Food'}, {...</td>\n",
       "      <td>2.0</td>\n",
       "      <td>12</td>\n",
       "      <td>MT</td>\n",
       "      <td>46.397796</td>\n",
       "      <td>-105.822041</td>\n",
       "      <td>1120 S Haynes</td>\n",
       "    </tr>\n",
       "    <tr>\n",
       "      <td>4319</td>\n",
       "      <td>wendy's</td>\n",
       "      <td>[{'alias': 'hotdogs', 'title': 'Fast Food'}, {...</td>\n",
       "      <td>3.0</td>\n",
       "      <td>9</td>\n",
       "      <td>MT</td>\n",
       "      <td>46.405777</td>\n",
       "      <td>-105.822041</td>\n",
       "      <td>210 S. Haynes Ave</td>\n",
       "    </tr>\n",
       "    <tr>\n",
       "      <td>4320</td>\n",
       "      <td>pizza hut</td>\n",
       "      <td>[{'alias': 'pizza', 'title': 'Pizza'}, {'alias...</td>\n",
       "      <td>3.5</td>\n",
       "      <td>4</td>\n",
       "      <td>MT</td>\n",
       "      <td>46.403074</td>\n",
       "      <td>-105.821939</td>\n",
       "      <td>3009 Stower St</td>\n",
       "    </tr>\n",
       "    <tr>\n",
       "      <td>4321</td>\n",
       "      <td>taco john's</td>\n",
       "      <td>[{'alias': 'mexican', 'title': 'Mexican'}, {'a...</td>\n",
       "      <td>2.5</td>\n",
       "      <td>8</td>\n",
       "      <td>MT</td>\n",
       "      <td>46.399650</td>\n",
       "      <td>-105.822989</td>\n",
       "      <td>911 S Haynes St</td>\n",
       "    </tr>\n",
       "    <tr>\n",
       "      <td>4322</td>\n",
       "      <td>chick-fil-a</td>\n",
       "      <td>[{'alias': 'hotdogs', 'title': 'Fast Food'}]</td>\n",
       "      <td>4.5</td>\n",
       "      <td>28</td>\n",
       "      <td>GA</td>\n",
       "      <td>33.410332</td>\n",
       "      <td>-82.026117</td>\n",
       "      <td>3130 Peach Orchard Rd</td>\n",
       "    </tr>\n",
       "  </tbody>\n",
       "</table>\n",
       "<p>4323 rows × 8 columns</p>\n",
       "</div>"
      ],
      "text/plain": [
       "                             name  \\\n",
       "0                       taco bell   \n",
       "1                      mcdonald's   \n",
       "2                         wendy's   \n",
       "3                frisch's big boy   \n",
       "4     lee's famous recipe chicken   \n",
       "...                           ...   \n",
       "4318                   mcdonald's   \n",
       "4319                      wendy's   \n",
       "4320                    pizza hut   \n",
       "4321                  taco john's   \n",
       "4322                  chick-fil-a   \n",
       "\n",
       "                                               category  rating  review_count  \\\n",
       "0     [{'alias': 'hotdogs', 'title': 'Fast Food'}, {...     5.0             4   \n",
       "1     [{'alias': 'hotdogs', 'title': 'Fast Food'}, {...     3.5             8   \n",
       "2     [{'alias': 'burgers', 'title': 'Burgers'}, {'a...     2.5             5   \n",
       "3     [{'alias': 'burgers', 'title': 'Burgers'}, {'a...     3.5            15   \n",
       "4     [{'alias': 'hotdogs', 'title': 'Fast Food'}, {...     5.0             3   \n",
       "...                                                 ...     ...           ...   \n",
       "4318  [{'alias': 'hotdogs', 'title': 'Fast Food'}, {...     2.0            12   \n",
       "4319  [{'alias': 'hotdogs', 'title': 'Fast Food'}, {...     3.0             9   \n",
       "4320  [{'alias': 'pizza', 'title': 'Pizza'}, {'alias...     3.5             4   \n",
       "4321  [{'alias': 'mexican', 'title': 'Mexican'}, {'a...     2.5             8   \n",
       "4322       [{'alias': 'hotdogs', 'title': 'Fast Food'}]     4.5            28   \n",
       "\n",
       "     state   latitude   longitude                address  \n",
       "0       NY  44.950268  -74.844363  1602 State Highway 37  \n",
       "1       OH  39.523908  -83.458744      1401 Leesburg Ave  \n",
       "2       OH  39.532787  -83.445862     530 Clinton Avenue  \n",
       "3       KY  38.627340  -83.791582   408 Market Square Dr  \n",
       "4       KY  38.633732  -83.792804           Highway 68 S  \n",
       "...    ...        ...         ...                    ...  \n",
       "4318    MT  46.397796 -105.822041          1120 S Haynes  \n",
       "4319    MT  46.405777 -105.822041      210 S. Haynes Ave  \n",
       "4320    MT  46.403074 -105.821939         3009 Stower St  \n",
       "4321    MT  46.399650 -105.822989        911 S Haynes St  \n",
       "4322    GA  33.410332  -82.026117  3130 Peach Orchard Rd  \n",
       "\n",
       "[4323 rows x 8 columns]"
      ]
     },
     "execution_count": 22,
     "metadata": {},
     "output_type": "execute_result"
    }
   ],
   "source": [
    "fast_ratings_df=fast_ratings_df.drop_duplicates()\n",
    "fast_ratings_df=fast_ratings_df.reset_index(drop=True)\n",
    "fast_ratings_df"
   ]
  },
  {
   "cell_type": "code",
   "execution_count": 23,
   "metadata": {
    "scrolled": true
   },
   "outputs": [
    {
     "data": {
      "text/plain": [
       "(1037, 8)"
      ]
     },
     "execution_count": 23,
     "metadata": {},
     "output_type": "execute_result"
    }
   ],
   "source": [
    "# there are ~1k restaurants in our general df\n",
    "yelp_df.shape"
   ]
  },
  {
   "cell_type": "code",
   "execution_count": 24,
   "metadata": {
    "scrolled": true
   },
   "outputs": [
    {
     "data": {
      "text/plain": [
       "(4323, 8)"
      ]
     },
     "execution_count": 24,
     "metadata": {},
     "output_type": "execute_result"
    }
   ],
   "source": [
    "# there are ~4k fast food restaurants in our fast food df\n",
    "fast_ratings_df.shape "
   ]
  },
  {
   "cell_type": "code",
   "execution_count": 25,
   "metadata": {
    "scrolled": true
   },
   "outputs": [
    {
     "data": {
      "text/plain": [
       "array(['AL', 'AK', 'AZ', 'OK', 'CA', 'CO', 'CT', 'DC', 'KS', 'FL', 'GA',\n",
       "       'HI', 'ID', 'IL', 'IN', 'IA', 'KY', 'ME', 'MD', 'MA', 'MI', 'MN',\n",
       "       'MS', 'MO', 'MT', 'NE', 'NV', 'NH', 'NJ', 'NM', 'NY', 'NC', 'ND',\n",
       "       'OH', 'OR', 'PA', 'RI', 'SC', 'SD', 'TN', 'TX', 'UT', 'VT', 'VA',\n",
       "       'WA', 'WV', 'WI', 'WY'], dtype=object)"
      ]
     },
     "execution_count": 25,
     "metadata": {},
     "output_type": "execute_result"
    }
   ],
   "source": [
    "# Our general df includes 48 states, and is missing AR and DE\n",
    "yelp_df[\"state\"].unique() "
   ]
  },
  {
   "cell_type": "code",
   "execution_count": 26,
   "metadata": {
    "scrolled": true
   },
   "outputs": [
    {
     "data": {
      "text/plain": [
       "array(['NY', 'OH', 'KY', 'SC', 'AR', 'IN', 'OK', 'LA', 'ND', 'TX', 'MI',\n",
       "       'MO', 'TN', 'NC', 'GA', 'UT', 'WI', 'MS', 'WA', 'NE', 'AL', 'WV',\n",
       "       'VT', 'AZ', 'KS', 'MN', 'SD', 'NM', 'OR', 'ME', 'IA', 'WY', 'IL',\n",
       "       'VA', 'MT', 'ID', 'PA', 'NJ', 'MD', 'FL', 'CA', 'MA', 'CO', 'NV',\n",
       "       'NH', 'CT', 'DE', 'HI'], dtype=object)"
      ]
     },
     "execution_count": 26,
     "metadata": {},
     "output_type": "execute_result"
    }
   ],
   "source": [
    "# our fastfood df includes 48 states, missing AK and RI\n",
    "fast_ratings_df[\"state\"].unique()"
   ]
  },
  {
   "cell_type": "code",
   "execution_count": 27,
   "metadata": {},
   "outputs": [
    {
     "data": {
      "text/plain": [
       "TX    356\n",
       "KY    343\n",
       "MO    233\n",
       "OH    230\n",
       "IN    209\n",
       "AL    186\n",
       "NC    185\n",
       "VA    157\n",
       "SC    157\n",
       "TN    156\n",
       "IL    153\n",
       "GA    149\n",
       "CA    146\n",
       "OK    141\n",
       "AR    135\n",
       "LA    114\n",
       "PA    113\n",
       "WV     97\n",
       "IA     94\n",
       "MS     88\n",
       "KS     80\n",
       "NE     77\n",
       "NM     68\n",
       "AZ     62\n",
       "CO     53\n",
       "FL     53\n",
       "WI     51\n",
       "MN     50\n",
       "SD     48\n",
       "UT     48\n",
       "MI     43\n",
       "MD     32\n",
       "NY     31\n",
       "WY     25\n",
       "WA     23\n",
       "ND     17\n",
       "ID     17\n",
       "NV     17\n",
       "ME     15\n",
       "NJ     14\n",
       "DE     14\n",
       "MT     11\n",
       "OR     10\n",
       "NH      8\n",
       "MA      7\n",
       "CT      4\n",
       "HI      2\n",
       "VT      1\n",
       "Name: state, dtype: int64"
      ]
     },
     "execution_count": 27,
     "metadata": {},
     "output_type": "execute_result"
    }
   ],
   "source": [
    "fast_ratings_df[\"state\"].value_counts()"
   ]
  },
  {
   "cell_type": "code",
   "execution_count": 28,
   "metadata": {
    "scrolled": true
   },
   "outputs": [
    {
     "data": {
      "text/plain": [
       "(0, 8)"
      ]
     },
     "execution_count": 28,
     "metadata": {},
     "output_type": "execute_result"
    }
   ],
   "source": [
    "# our general df has no null values!\n",
    "null_rows = yelp_df.isnull().any(axis=1)\n",
    "yelp_df[null_rows].shape"
   ]
  },
  {
   "cell_type": "code",
   "execution_count": 29,
   "metadata": {
    "scrolled": true
   },
   "outputs": [
    {
     "data": {
      "text/plain": [
       "(0, 8)"
      ]
     },
     "execution_count": 29,
     "metadata": {},
     "output_type": "execute_result"
    }
   ],
   "source": [
    "# our fast food df has no null values!\n",
    "null_rows = fast_ratings_df.isnull().any(axis=1)\n",
    "fast_ratings_df[null_rows].shape"
   ]
  },
  {
   "cell_type": "code",
   "execution_count": 30,
   "metadata": {
    "scrolled": true
   },
   "outputs": [
    {
     "data": {
      "image/png": "[encoded data removed]",
      "text/plain": [
       "<Figure size 432x288 with 1 Axes>"
      ]
     },
     "metadata": {
      "needs_background": "light"
     },
     "output_type": "display_data"
    }
   ],
   "source": [
    "# Let's start by plotting histograms of general food rating and fast food rating\n",
    "sns.distplot(yelp_df['rating'], kde=False, bins=5);\n",
    "\n",
    "f1 = plt.gcf()"
   ]
  },
  {
   "cell_type": "code",
   "execution_count": 31,
   "metadata": {
    "scrolled": true
   },
   "outputs": [
    {
     "data": {
      "text/plain": [
       "array([4.5, 4. , 5. , 3.5, 3. ])"
      ]
     },
     "execution_count": 31,
     "metadata": {},
     "output_type": "execute_result"
    }
   ],
   "source": [
    "# There are 5 possible ratings in our data set: 3, 3.5, 4, 4.5, and 5\n",
    "yelp_df[\"rating\"].unique()"
   ]
  },
  {
   "cell_type": "code",
   "execution_count": 32,
   "metadata": {
    "scrolled": true
   },
   "outputs": [
    {
     "data": {
      "text/plain": [
       "count    1037.000000\n",
       "mean        4.347637\n",
       "std         0.296255\n",
       "min         3.000000\n",
       "25%         4.000000\n",
       "50%         4.500000\n",
       "75%         4.500000\n",
       "max         5.000000\n",
       "Name: rating, dtype: float64"
      ]
     },
     "execution_count": 32,
     "metadata": {},
     "output_type": "execute_result"
    }
   ],
   "source": [
    "# It appears that our rating data is normal-ish and is skewed right. We have a mean of 4.358 and an std of .294.\n",
    "yelp_df[\"rating\"].describe()"
   ]
  },
  {
   "cell_type": "markdown",
   "metadata": {},
   "source": [
    "Note that the fast food dataset doesn't have a rating column. We will need to merge the two datasets ..."
   ]
  },
  {
   "cell_type": "code",
   "execution_count": 33,
   "metadata": {
    "scrolled": true
   },
   "outputs": [],
   "source": [
    "# NOTE: do we need this cell anymore since we now have fast food ratings from fast_ratings_df?\n",
    "# To get the ratings of the data found in the fast food dataset, we merge the yelp dataset (which has the ratings) with the fast food dataset \n",
    "# merged_df = fast_df\n",
    "# merged_df['ratings'] = np.nan\n",
    "#for i in fast_df.index:\n",
    "#    for j in yelp_df.index:\n",
    "#        if merged_df.at[i, 'name'] == yelp_df.at[j, 'name']:\n",
    "#            if merged_df.at[i, 'address'] == yelp_df.at[j, 'address']:\n",
    "#                merged_df.iloc[i].ratings = yelp_df.iloc[j].rating\n",
    "\n",
    "#merged_df.dropna()\n",
    "\n",
    "#print(merged_df)"
   ]
  },
  {
   "cell_type": "code",
   "execution_count": 34,
   "metadata": {
    "scrolled": true
   },
   "outputs": [],
   "source": [
    "#TODO: Explain what the merged df shows/means"
   ]
  },
  {
   "cell_type": "code",
   "execution_count": 35,
   "metadata": {
    "scrolled": true
   },
   "outputs": [],
   "source": [
    "# TODO: describe the lattitude/longitude data to see if there is any bias in geography for our 2 datasets"
   ]
  },
  {
   "cell_type": "code",
   "execution_count": 36,
   "metadata": {
    "scrolled": true
   },
   "outputs": [],
   "source": [
    "# TODO: maybe move the null row removal into the data cleanup section rather than analysis"
   ]
  },
  {
   "cell_type": "markdown",
   "metadata": {},
   "source": [
    "### Fast Food Ratings Analysis"
   ]
  },
  {
   "cell_type": "code",
   "execution_count": null,
   "metadata": {},
   "outputs": [],
   "source": []
  },
  {
   "cell_type": "markdown",
   "metadata": {},
   "source": [
    "# Ethics & Privacy"
   ]
  },
  {
   "cell_type": "markdown",
   "metadata": {},
   "source": [
    "In order to gain access to the data, we utilized several Yelp API keys at no charge. Anyone is able to  obtain the available data on Yelp, therefore we do have permission to use it. The API however does not return every business available, only the businesses that have Yelp-user generated content. In addition, we only found data for 48 states in which we’re missing the data for Arizona and Delaware. This is concerning because it excludes these populations. In addition, it seems that the restaurants listed in the yelp dataset do not include all ethnic groups (ex: there are no Korean restaurants listed). Furthermore, there are biases in our dataset because the data (reviews) is manipulated by Yelp and does not reflect the overall ratings of everyone who has written a review. In terms of privacy, our project should not have any major concerns as we are using information that has been released to the public, all which do not contain personal information. The data we are working with are on businesses, such as their location and amount of reviews. \n",
    " \n",
    "While our dataset has a potential bias, we have decided to continue on with using it. Our dataset may be missing 2 states, but we felt that missing 2 out of 50 states would not significantly change our results and analysis. One thing we must note is that we would be unable to predict the success of a restaurant if the location given were to be in Arizona or Delaware. We must also note that our prediction of a restaurant's success may be inaccurate for restaurants who identify as any of the ethnic groups not represented by the dataset. We have also decided to overlook Yelp’s manipulation of the reviews because it is also a factor that plays a role in the success or failure of a business, as mentioned in the Background and Prior Work section. In addition, there is little we can do about Yelp’s manipulation of data, as we only have permission to data that Yelp has legally consented to publicizing. \n"
   ]
  },
  {
   "cell_type": "markdown",
   "metadata": {},
   "source": [
    "# Conclusion & Discussion"
   ]
  },
  {
   "cell_type": "markdown",
   "metadata": {},
   "source": [
    "*Fill in your discussion information here*"
   ]
  },
  {
   "cell_type": "markdown",
   "metadata": {},
   "source": [
    "# Team Contributions"
   ]
  },
  {
   "cell_type": "markdown",
   "metadata": {},
   "source": []
  }
 ],
 "metadata": {
  "kernelspec": {
   "display_name": "Python 3",
   "language": "python",
   "name": "python3"
  },
  "language_info": {
   "codemirror_mode": {
    "name": "ipython",
    "version": 3
   },
   "file_extension": ".py",
   "mimetype": "text/x-python",
   "name": "python",
   "nbconvert_exporter": "python",
   "pygments_lexer": "ipython3",
   "version": "3.7.4"
  }
 },
 "nbformat": 4,
 "nbformat_minor": 2
}
