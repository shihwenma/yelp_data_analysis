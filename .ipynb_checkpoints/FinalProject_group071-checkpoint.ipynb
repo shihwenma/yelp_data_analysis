{
 "cells": [
  {
   "cell_type": "markdown",
   "metadata": {},
   "source": [
    "# COGS 108 - Final Project "
   ]
  },
  {
   "cell_type": "markdown",
   "metadata": {},
   "source": [
    "## Permissions"
   ]
  },
  {
   "cell_type": "markdown",
   "metadata": {},
   "source": [
    "Place an `X` in the appropriate bracket below to specify if you would like your group's project to be made available to the public. (Note that PIDs will be scraped from the public submission, but student names will be included.)\n",
    "\n",
    "* [X] YES - make available\n",
    "* [  ] NO - keep private"
   ]
  },
  {
   "cell_type": "markdown",
   "metadata": {},
   "source": [
    "# Overview"
   ]
  },
  {
   "cell_type": "markdown",
   "metadata": {},
   "source": [
    "*Fill in your overview here*"
   ]
  },
  {
   "cell_type": "markdown",
   "metadata": {},
   "source": [
    "# Names\n",
    "\n",
    "- Shih Wen Ma\n",
    "- Andrea Diaz\n",
    "- Viet Nguyen\n",
    "- Manda Tran\n",
    "- Matthew Luu"
   ]
  },
  {
   "cell_type": "markdown",
   "metadata": {},
   "source": [
    "# Group Members IDs\n",
    "\n",
    "- A15469802\n",
    "- A15084975\n",
    "- A13702483\n",
    "- A14452168\n",
    "- A16067866"
   ]
  },
  {
   "cell_type": "markdown",
   "metadata": {},
   "source": [
    "# Research Question"
   ]
  },
  {
   "cell_type": "markdown",
   "metadata": {},
   "source": [
    "*Fill in your research question here*"
   ]
  },
  {
   "cell_type": "markdown",
   "metadata": {},
   "source": [
    "## Background and Prior Work"
   ]
  },
  {
   "cell_type": "markdown",
   "metadata": {},
   "source": [
    "*Fill in your background and prior work here* \n",
    "\n",
    "References (include links):\n",
    "- 1)\n",
    "- 2)"
   ]
  },
  {
   "cell_type": "markdown",
   "metadata": {},
   "source": [
    "# Hypothesis\n"
   ]
  },
  {
   "cell_type": "markdown",
   "metadata": {},
   "source": [
    "*Fill in your hypotheses here*"
   ]
  },
  {
   "cell_type": "markdown",
   "metadata": {},
   "source": [
    "# Dataset(s)"
   ]
  },
  {
   "cell_type": "markdown",
   "metadata": {},
   "source": [
    "- Dataset Name: Yelp Categories (categories.json)\n",
    "- Link to the dataset: https://www.yelp.com/developers/documentation/v3/all_category_list\n",
    "- Number of observations: 1,563 observations\n",
    "\n",
    "This data was used to gather all the relevant categories to collect our data using the Yelp API. We found the categories by finding all the rows who's parent category contained 'restaurant' in it.\n",
    "\n",
    "\n",
    "- Dataset Name: Yelp Restaurant Data Across America\n",
    "- Link to the dataset: https://www.yelp.com/developers/documentation/v3/business_search\n",
    "- Number of observations: 150,980 observations\n",
    "\n",
    "The data was collected by using a Yelp API and the github repo: https://github.com/gfairchild/yelpapi. We used the dataset categories.json to find all the relevant restaurant categories and ran a search query for each state. The data contains the name of the restaurant, the location (including latitude and longitude), the average rating, the applicable categories, and the number of customer reviews.\n",
    "\n",
    "\n",
    "- Dataset Name: Fast Food Restaurants Across America\n",
    "- Link to the dataset: https://www.kaggle.com/datafiniti/fast-food-restaurants#FastFoodRestaurants.csv\n",
    "- Number of observations: 10,000 observations\n",
    "\n",
    "This dataset provides information about 10,000 fast food restaurants across America. The data was collected from Datafiniti's Business Database in March 2018. We are using this dataset to understand which fast food chains are the most popular across the US (per state) based on the number of locations. While the data comes from a reliable source, the completion of the dataset is cannot be confirmed because there was no free option to download the data directly from the source so we had to download the data from kaggle.com. The data includes the fast food restaurant, its location, and website.\n",
    "\n",
    "**If you plan to use multiple datasets, add 1-2 sentences about how you plan to combine these datasets.**"
   ]
  },
  {
   "cell_type": "markdown",
   "metadata": {},
   "source": [
    "# Setup"
   ]
  },
  {
   "cell_type": "code",
   "execution_count": 1,
   "metadata": {},
   "outputs": [],
   "source": [
    "# import libraries\n",
    "import numpy as np\n",
    "import pandas as pd\n",
    "import matplotlib.pyplot as plt\n",
    "import seaborn as sns"
   ]
  },
  {
   "cell_type": "markdown",
   "metadata": {},
   "source": [
    "Import dataframes from csv files"
   ]
  },
  {
   "cell_type": "code",
   "execution_count": 2,
   "metadata": {},
   "outputs": [],
   "source": [
    "yelp_df = pd.read_csv('data/YelpRestaurants.csv')\n",
    "fast_df = pd.read_csv('data/FastFoodRestaurants.csv')"
   ]
  },
  {
   "cell_type": "markdown",
   "metadata": {},
   "source": [
    "# Data Cleaning"
   ]
  },
  {
   "cell_type": "markdown",
   "metadata": {},
   "source": [
    "Describe your data cleaning steps here."
   ]
  },
  {
   "cell_type": "code",
   "execution_count": 3,
   "metadata": {},
   "outputs": [],
   "source": [
    "## YOUR CODE HERE\n",
    "## FEEL FREE TO ADD MULTIPLE CELLS PER SECTION"
   ]
  },
  {
   "cell_type": "markdown",
   "metadata": {},
   "source": [
    "# Data Analysis & Results"
   ]
  },
  {
   "cell_type": "markdown",
   "metadata": {},
   "source": [
    "Include cells that describe the steps in your data analysis."
   ]
  },
  {
   "cell_type": "code",
   "execution_count": 4,
   "metadata": {},
   "outputs": [
    {
     "data": {
      "text/html": [
       "<div>\n",
       "<style scoped>\n",
       "    .dataframe tbody tr th:only-of-type {\n",
       "        vertical-align: middle;\n",
       "    }\n",
       "\n",
       "    .dataframe tbody tr th {\n",
       "        vertical-align: top;\n",
       "    }\n",
       "\n",
       "    .dataframe thead th {\n",
       "        text-align: right;\n",
       "    }\n",
       "</style>\n",
       "<table border=\"1\" class=\"dataframe\">\n",
       "  <thead>\n",
       "    <tr style=\"text-align: right;\">\n",
       "      <th></th>\n",
       "      <th>Unnamed: 0</th>\n",
       "      <th>name</th>\n",
       "      <th>coordinates</th>\n",
       "      <th>category</th>\n",
       "      <th>location</th>\n",
       "      <th>rating</th>\n",
       "      <th>review_count</th>\n",
       "      <th>state</th>\n",
       "    </tr>\n",
       "  </thead>\n",
       "  <tbody>\n",
       "    <tr>\n",
       "      <td>0</td>\n",
       "      <td>0</td>\n",
       "      <td>El Barrio</td>\n",
       "      <td>{'latitude': 33.516636, 'longitude': -86.802849}</td>\n",
       "      <td>[{'alias': 'mexican', 'title': 'Mexican'}]</td>\n",
       "      <td>{'address1': '2211 2nd Ave N', 'address2': '',...</td>\n",
       "      <td>4.5</td>\n",
       "      <td>615</td>\n",
       "      <td>AL</td>\n",
       "    </tr>\n",
       "    <tr>\n",
       "      <td>1</td>\n",
       "      <td>1</td>\n",
       "      <td>Saw's Soul Kitchen</td>\n",
       "      <td>{'latitude': 33.52419, 'longitude': -86.77383}</td>\n",
       "      <td>[{'alias': 'bbq', 'title': 'Barbeque'}, {'alia...</td>\n",
       "      <td>{'address1': '215 41st St S', 'address2': None...</td>\n",
       "      <td>4.5</td>\n",
       "      <td>782</td>\n",
       "      <td>AL</td>\n",
       "    </tr>\n",
       "    <tr>\n",
       "      <td>2</td>\n",
       "      <td>2</td>\n",
       "      <td>Yo' Mama's</td>\n",
       "      <td>{'latitude': 33.51766, 'longitude': -86.80183}</td>\n",
       "      <td>[{'alias': 'newamerican', 'title': 'American (...</td>\n",
       "      <td>{'address1': '2328 2nd Ave N', 'address2': Non...</td>\n",
       "      <td>4.5</td>\n",
       "      <td>356</td>\n",
       "      <td>AL</td>\n",
       "    </tr>\n",
       "    <tr>\n",
       "      <td>3</td>\n",
       "      <td>3</td>\n",
       "      <td>Carrigan's Public House</td>\n",
       "      <td>{'latitude': 33.5171239295806, 'longitude': -8...</td>\n",
       "      <td>[{'alias': 'cocktailbars', 'title': 'Cocktail ...</td>\n",
       "      <td>{'address1': '2430 Morris Ave', 'address2': ''...</td>\n",
       "      <td>4.5</td>\n",
       "      <td>527</td>\n",
       "      <td>AL</td>\n",
       "    </tr>\n",
       "    <tr>\n",
       "      <td>4</td>\n",
       "      <td>4</td>\n",
       "      <td>Highlands Bar &amp; Grill</td>\n",
       "      <td>{'latitude': 33.500572, 'longitude': -86.795577}</td>\n",
       "      <td>[{'alias': 'southern', 'title': 'Southern'}, {...</td>\n",
       "      <td>{'address1': '2011 11th Ave S', 'address2': ''...</td>\n",
       "      <td>4.5</td>\n",
       "      <td>298</td>\n",
       "      <td>AL</td>\n",
       "    </tr>\n",
       "  </tbody>\n",
       "</table>\n",
       "</div>"
      ],
      "text/plain": [
       "   Unnamed: 0                     name  \\\n",
       "0           0                El Barrio   \n",
       "1           1       Saw's Soul Kitchen   \n",
       "2           2               Yo' Mama's   \n",
       "3           3  Carrigan's Public House   \n",
       "4           4    Highlands Bar & Grill   \n",
       "\n",
       "                                         coordinates  \\\n",
       "0   {'latitude': 33.516636, 'longitude': -86.802849}   \n",
       "1     {'latitude': 33.52419, 'longitude': -86.77383}   \n",
       "2     {'latitude': 33.51766, 'longitude': -86.80183}   \n",
       "3  {'latitude': 33.5171239295806, 'longitude': -8...   \n",
       "4   {'latitude': 33.500572, 'longitude': -86.795577}   \n",
       "\n",
       "                                            category  \\\n",
       "0         [{'alias': 'mexican', 'title': 'Mexican'}]   \n",
       "1  [{'alias': 'bbq', 'title': 'Barbeque'}, {'alia...   \n",
       "2  [{'alias': 'newamerican', 'title': 'American (...   \n",
       "3  [{'alias': 'cocktailbars', 'title': 'Cocktail ...   \n",
       "4  [{'alias': 'southern', 'title': 'Southern'}, {...   \n",
       "\n",
       "                                            location  rating  review_count  \\\n",
       "0  {'address1': '2211 2nd Ave N', 'address2': '',...     4.5           615   \n",
       "1  {'address1': '215 41st St S', 'address2': None...     4.5           782   \n",
       "2  {'address1': '2328 2nd Ave N', 'address2': Non...     4.5           356   \n",
       "3  {'address1': '2430 Morris Ave', 'address2': ''...     4.5           527   \n",
       "4  {'address1': '2011 11th Ave S', 'address2': ''...     4.5           298   \n",
       "\n",
       "  state  \n",
       "0    AL  \n",
       "1    AL  \n",
       "2    AL  \n",
       "3    AL  \n",
       "4    AL  "
      ]
     },
     "execution_count": 4,
     "metadata": {},
     "output_type": "execute_result"
    }
   ],
   "source": [
    "yelp_df.head()"
   ]
  },
  {
   "cell_type": "code",
   "execution_count": 5,
   "metadata": {},
   "outputs": [
    {
     "data": {
      "text/html": [
       "<div>\n",
       "<style scoped>\n",
       "    .dataframe tbody tr th:only-of-type {\n",
       "        vertical-align: middle;\n",
       "    }\n",
       "\n",
       "    .dataframe tbody tr th {\n",
       "        vertical-align: top;\n",
       "    }\n",
       "\n",
       "    .dataframe thead th {\n",
       "        text-align: right;\n",
       "    }\n",
       "</style>\n",
       "<table border=\"1\" class=\"dataframe\">\n",
       "  <thead>\n",
       "    <tr style=\"text-align: right;\">\n",
       "      <th></th>\n",
       "      <th>address</th>\n",
       "      <th>city</th>\n",
       "      <th>country</th>\n",
       "      <th>keys</th>\n",
       "      <th>latitude</th>\n",
       "      <th>longitude</th>\n",
       "      <th>name</th>\n",
       "      <th>postalCode</th>\n",
       "      <th>province</th>\n",
       "      <th>websites</th>\n",
       "    </tr>\n",
       "  </thead>\n",
       "  <tbody>\n",
       "    <tr>\n",
       "      <td>0</td>\n",
       "      <td>324 Main St</td>\n",
       "      <td>Massena</td>\n",
       "      <td>US</td>\n",
       "      <td>us/ny/massena/324mainst/-1161002137</td>\n",
       "      <td>44.92130</td>\n",
       "      <td>-74.89021</td>\n",
       "      <td>McDonald's</td>\n",
       "      <td>13662</td>\n",
       "      <td>NY</td>\n",
       "      <td>http://mcdonalds.com,http://www.mcdonalds.com/...</td>\n",
       "    </tr>\n",
       "    <tr>\n",
       "      <td>1</td>\n",
       "      <td>530 Clinton Ave</td>\n",
       "      <td>Washington Court House</td>\n",
       "      <td>US</td>\n",
       "      <td>us/oh/washingtoncourthouse/530clintonave/-7914...</td>\n",
       "      <td>39.53255</td>\n",
       "      <td>-83.44526</td>\n",
       "      <td>Wendy's</td>\n",
       "      <td>43160</td>\n",
       "      <td>OH</td>\n",
       "      <td>http://www.wendys.com</td>\n",
       "    </tr>\n",
       "    <tr>\n",
       "      <td>2</td>\n",
       "      <td>408 Market Square Dr</td>\n",
       "      <td>Maysville</td>\n",
       "      <td>US</td>\n",
       "      <td>us/ky/maysville/408marketsquaredr/1051460804</td>\n",
       "      <td>38.62736</td>\n",
       "      <td>-83.79141</td>\n",
       "      <td>Frisch's Big Boy</td>\n",
       "      <td>41056</td>\n",
       "      <td>KY</td>\n",
       "      <td>http://www.frischs.com,https://www.frischs.com...</td>\n",
       "    </tr>\n",
       "    <tr>\n",
       "      <td>3</td>\n",
       "      <td>6098 State Highway 37</td>\n",
       "      <td>Massena</td>\n",
       "      <td>US</td>\n",
       "      <td>us/ny/massena/6098statehighway37/-1161002137</td>\n",
       "      <td>44.95008</td>\n",
       "      <td>-74.84553</td>\n",
       "      <td>McDonald's</td>\n",
       "      <td>13662</td>\n",
       "      <td>NY</td>\n",
       "      <td>http://mcdonalds.com,http://www.mcdonalds.com/...</td>\n",
       "    </tr>\n",
       "    <tr>\n",
       "      <td>4</td>\n",
       "      <td>139 Columbus Rd</td>\n",
       "      <td>Athens</td>\n",
       "      <td>US</td>\n",
       "      <td>us/oh/athens/139columbusrd/990890980</td>\n",
       "      <td>39.35155</td>\n",
       "      <td>-82.09728</td>\n",
       "      <td>OMG! Rotisserie</td>\n",
       "      <td>45701</td>\n",
       "      <td>OH</td>\n",
       "      <td>http://www.omgrotisserie.com,http://omgrotisse...</td>\n",
       "    </tr>\n",
       "  </tbody>\n",
       "</table>\n",
       "</div>"
      ],
      "text/plain": [
       "                 address                    city country  \\\n",
       "0            324 Main St                 Massena      US   \n",
       "1        530 Clinton Ave  Washington Court House      US   \n",
       "2   408 Market Square Dr               Maysville      US   \n",
       "3  6098 State Highway 37                 Massena      US   \n",
       "4        139 Columbus Rd                  Athens      US   \n",
       "\n",
       "                                                keys  latitude  longitude  \\\n",
       "0                us/ny/massena/324mainst/-1161002137  44.92130  -74.89021   \n",
       "1  us/oh/washingtoncourthouse/530clintonave/-7914...  39.53255  -83.44526   \n",
       "2       us/ky/maysville/408marketsquaredr/1051460804  38.62736  -83.79141   \n",
       "3       us/ny/massena/6098statehighway37/-1161002137  44.95008  -74.84553   \n",
       "4               us/oh/athens/139columbusrd/990890980  39.35155  -82.09728   \n",
       "\n",
       "               name postalCode province  \\\n",
       "0        McDonald's      13662       NY   \n",
       "1           Wendy's      43160       OH   \n",
       "2  Frisch's Big Boy      41056       KY   \n",
       "3        McDonald's      13662       NY   \n",
       "4   OMG! Rotisserie      45701       OH   \n",
       "\n",
       "                                            websites  \n",
       "0  http://mcdonalds.com,http://www.mcdonalds.com/...  \n",
       "1                              http://www.wendys.com  \n",
       "2  http://www.frischs.com,https://www.frischs.com...  \n",
       "3  http://mcdonalds.com,http://www.mcdonalds.com/...  \n",
       "4  http://www.omgrotisserie.com,http://omgrotisse...  "
      ]
     },
     "execution_count": 5,
     "metadata": {},
     "output_type": "execute_result"
    }
   ],
   "source": [
    "fast_df.head()"
   ]
  },
  {
   "cell_type": "code",
   "execution_count": 6,
   "metadata": {},
   "outputs": [
    {
     "data": {
      "text/plain": [
       "(150980, 8)"
      ]
     },
     "execution_count": 6,
     "metadata": {},
     "output_type": "execute_result"
    }
   ],
   "source": [
    "# there are ~150k restaurants in our general df\n",
    "yelp_df.shape"
   ]
  },
  {
   "cell_type": "code",
   "execution_count": 7,
   "metadata": {},
   "outputs": [
    {
     "data": {
      "text/plain": [
       "(10000, 10)"
      ]
     },
     "execution_count": 7,
     "metadata": {},
     "output_type": "execute_result"
    }
   ],
   "source": [
    "# there are ~10k fast food restaurants in our fast food df\n",
    "fast_df.shape "
   ]
  },
  {
   "cell_type": "code",
   "execution_count": 8,
   "metadata": {},
   "outputs": [
    {
     "data": {
      "text/plain": [
       "array(['AL', 'AK', 'AZ', 'OK', 'CA', 'CO', 'CT', 'DC', 'KS', 'FL', 'GA',\n",
       "       'HI', 'ID', 'IL', 'IN', 'IA', 'KY', 'ME', 'MD', 'MA', 'MI', 'MN',\n",
       "       'MS', 'MO', 'MT', 'NE', 'NV', 'NH', 'NJ', 'NM', 'NY', 'NC', 'ND',\n",
       "       'OH', 'OR', 'PA', 'RI', 'SC', 'SD', 'TN', 'TX', 'UT', 'VT', 'VA',\n",
       "       'WA', 'WV', 'WI', 'WY'], dtype=object)"
      ]
     },
     "execution_count": 8,
     "metadata": {},
     "output_type": "execute_result"
    }
   ],
   "source": [
    "# Our general df includes 48 states, and is missing AR and DE\n",
    "yelp_df[\"state\"].unique() "
   ]
  },
  {
   "cell_type": "code",
   "execution_count": 9,
   "metadata": {},
   "outputs": [
    {
     "data": {
      "text/plain": [
       "array(['NY', 'OH', 'KY', 'SC', 'AR', 'OK', 'IN', 'NC', 'TN', 'TX', 'LA',\n",
       "       'KS', 'ND', 'UT', 'GA', 'NM', 'OR', 'HI', 'VT', 'MI', 'MO', 'WI',\n",
       "       'WA', 'MS', 'NE', 'ME', 'MN', 'AL', 'IA', 'WV', 'AZ', 'SD', 'WY',\n",
       "       'IL', 'VA', 'FL', 'CA', 'MT', 'ID', 'PA', 'RI', 'NV', 'NJ', 'MA',\n",
       "       'MD', 'CO', 'NH', 'CT', 'AK', 'DE', 'DC', 'Co Spgs'], dtype=object)"
      ]
     },
     "execution_count": 9,
     "metadata": {},
     "output_type": "execute_result"
    }
   ],
   "source": [
    "# our fastfood df includes 50 states, plus DC and Co Spgs\n",
    "fast_df[\"province\"].unique()"
   ]
  },
  {
   "cell_type": "code",
   "execution_count": 10,
   "metadata": {},
   "outputs": [
    {
     "data": {
      "text/plain": [
       "(0, 8)"
      ]
     },
     "execution_count": 10,
     "metadata": {},
     "output_type": "execute_result"
    }
   ],
   "source": [
    "# our general df has no null values!\n",
    "null_rows = yelp_df.isnull().any(axis=1)\n",
    "yelp_df[null_rows].shape"
   ]
  },
  {
   "cell_type": "code",
   "execution_count": 11,
   "metadata": {},
   "outputs": [
    {
     "data": {
      "text/plain": [
       "(465, 10)"
      ]
     },
     "execution_count": 11,
     "metadata": {},
     "output_type": "execute_result"
    }
   ],
   "source": [
    "# our fast food df has 465 rows with null values\n",
    "null_rows = fast_df.isnull().any(axis=1)\n",
    "fast_df[null_rows].shape"
   ]
  },
  {
   "cell_type": "code",
   "execution_count": 12,
   "metadata": {},
   "outputs": [
    {
     "data": {
      "text/plain": [
       "CA         676\n",
       "TX         634\n",
       "OH         543\n",
       "FL         471\n",
       "IN         379\n",
       "IL         363\n",
       "NC         358\n",
       "GA         347\n",
       "MO         334\n",
       "KY         332\n",
       "VA         327\n",
       "PA         283\n",
       "NY         269\n",
       "MI         251\n",
       "TN         245\n",
       "SC         238\n",
       "LA         237\n",
       "AL         236\n",
       "WA         209\n",
       "OK         208\n",
       "AZ         208\n",
       "WI         186\n",
       "IA         166\n",
       "UT         159\n",
       "MD         159\n",
       "CO         158\n",
       "AR         151\n",
       "NJ         151\n",
       "NM         149\n",
       "MN         148\n",
       "NV         135\n",
       "MA         131\n",
       "OR         114\n",
       "SD         105\n",
       "KS         103\n",
       "ID          99\n",
       "CT          96\n",
       "WV          93\n",
       "NE          92\n",
       "MS          82\n",
       "ND          50\n",
       "ME          44\n",
       "VT          43\n",
       "WY          41\n",
       "HI          40\n",
       "NH          36\n",
       "DE          32\n",
       "MT          25\n",
       "RI          24\n",
       "DC          21\n",
       "AK          14\n",
       "Co Spgs      5\n",
       "Name: province, dtype: int64"
      ]
     },
     "execution_count": 12,
     "metadata": {},
     "output_type": "execute_result"
    }
   ],
   "source": [
    "# check if we can drop the null rows\n",
    "fast_df[\"province\"].value_counts()"
   ]
  },
  {
   "cell_type": "code",
   "execution_count": 13,
   "metadata": {},
   "outputs": [
    {
     "data": {
      "text/plain": [
       "CA    58\n",
       "TX    31\n",
       "IL    26\n",
       "FL    26\n",
       "GA    21\n",
       "NY    19\n",
       "TN    18\n",
       "OH    18\n",
       "PA    16\n",
       "NJ    15\n",
       "NC    14\n",
       "MO    13\n",
       "SC    12\n",
       "KY    12\n",
       "WA    11\n",
       "NV    10\n",
       "MI    10\n",
       "IN    10\n",
       "AL    10\n",
       "MD    10\n",
       "AZ    10\n",
       "VA     9\n",
       "CO     9\n",
       "LA     8\n",
       "OK     7\n",
       "AR     6\n",
       "WI     5\n",
       "OR     5\n",
       "UT     5\n",
       "KS     4\n",
       "CT     4\n",
       "IA     4\n",
       "HI     3\n",
       "NM     3\n",
       "NE     3\n",
       "MS     2\n",
       "DE     2\n",
       "MN     2\n",
       "NH     2\n",
       "WV     2\n",
       "MA     2\n",
       "DC     2\n",
       "SD     2\n",
       "RI     1\n",
       "VT     1\n",
       "ID     1\n",
       "AK     1\n",
       "Name: province, dtype: int64"
      ]
     },
     "execution_count": 13,
     "metadata": {},
     "output_type": "execute_result"
    }
   ],
   "source": [
    "fast_df[null_rows][\"province\"].value_counts()"
   ]
  },
  {
   "cell_type": "code",
   "execution_count": 14,
   "metadata": {},
   "outputs": [
    {
     "data": {
      "text/plain": [
       "McDonald's                           1886\n",
       "Burger King                          1154\n",
       "Taco Bell                             873\n",
       "Wendy's                               731\n",
       "Arby's                                518\n",
       "                                     ... \n",
       "Bamboo Bistro                           1\n",
       "Fuku                                    1\n",
       "Greek Oven Pizza and Wings              1\n",
       "Simmies Arirang Hill Cheese Steak       1\n",
       "Luby's                                  1\n",
       "Name: name, Length: 548, dtype: int64"
      ]
     },
     "execution_count": 14,
     "metadata": {},
     "output_type": "execute_result"
    }
   ],
   "source": [
    "fast_df[\"name\"].value_counts()"
   ]
  },
  {
   "cell_type": "code",
   "execution_count": 15,
   "metadata": {},
   "outputs": [
    {
     "data": {
      "text/plain": [
       "Burger King                35\n",
       "KFC                        24\n",
       "Mcdonald's                 22\n",
       "McDonald's                 21\n",
       "Subway                     19\n",
       "                           ..\n",
       "Panda                       1\n",
       "Fallguys Burger Company     1\n",
       "World Wrapps                1\n",
       "SUBWAY                      1\n",
       "Petro's Chili & Chips       1\n",
       "Name: name, Length: 204, dtype: int64"
      ]
     },
     "execution_count": 15,
     "metadata": {},
     "output_type": "execute_result"
    }
   ],
   "source": [
    "fast_df[null_rows][\"name\"].value_counts()"
   ]
  },
  {
   "cell_type": "code",
   "execution_count": 16,
   "metadata": {},
   "outputs": [
    {
     "data": {
      "text/plain": [
       "(9535, 10)"
      ]
     },
     "execution_count": 16,
     "metadata": {},
     "output_type": "execute_result"
    }
   ],
   "source": [
    "# when compared to the original dataset, the null rows have similar ratios of province/name value counts\n",
    "# therefore we can safely drop rows with missing data \n",
    "fast_df=fast_df.dropna()\n",
    "fast_df.shape"
   ]
  },
  {
   "cell_type": "code",
   "execution_count": 17,
   "metadata": {},
   "outputs": [
    {
     "data": {
      "image/png": "[encoded data removed]",
      "text/plain": [
       "<Figure size 432x288 with 1 Axes>"
      ]
     },
     "metadata": {
      "needs_background": "light"
     },
     "output_type": "display_data"
    }
   ],
   "source": [
    "# Let's start by plotting histograms of general food rating and fast food rating\n",
    "sns.distplot(yelp_df['rating'], kde=False, bins=5);\n",
    "\n",
    "f1 = plt.gcf()"
   ]
  },
  {
   "cell_type": "code",
   "execution_count": 18,
   "metadata": {},
   "outputs": [
    {
     "data": {
      "text/plain": [
       "array([4.5, 4. , 5. , 3.5, 3. ])"
      ]
     },
     "execution_count": 18,
     "metadata": {},
     "output_type": "execute_result"
    }
   ],
   "source": [
    "# There are 5 possible ratings in our data set: 3, 3.5, 4, 4.5, and 5\n",
    "yelp_df[\"rating\"].unique()"
   ]
  },
  {
   "cell_type": "code",
   "execution_count": 19,
   "metadata": {},
   "outputs": [
    {
     "data": {
      "text/plain": [
       "count    150980.000000\n",
       "mean          4.358157\n",
       "std           0.294299\n",
       "min           3.000000\n",
       "25%           4.000000\n",
       "50%           4.500000\n",
       "75%           4.500000\n",
       "max           5.000000\n",
       "Name: rating, dtype: float64"
      ]
     },
     "execution_count": 19,
     "metadata": {},
     "output_type": "execute_result"
    }
   ],
   "source": [
    "# It appears that our rating data is normal-ish and is skewed right. We have a mean of 4.358 and an std of .294.\n",
    "yelp_df[\"rating\"].describe()"
   ]
  },
  {
   "cell_type": "markdown",
   "metadata": {},
   "source": [
    "Note that the fast food dataset doesn't have a rating column. We will need to merge the two datasets ..."
   ]
  },
  {
   "cell_type": "code",
   "execution_count": 20,
   "metadata": {},
   "outputs": [],
   "source": [
    "# TODO: check if big dataset includes the entries in fast food data sets. If possible, get the ratings. "
   ]
  },
  {
   "cell_type": "code",
   "execution_count": 21,
   "metadata": {},
   "outputs": [],
   "source": [
    "# TODO: describe the lattitude/longitude data to see if there is any bias in geography for our 2 datasets"
   ]
  },
  {
   "cell_type": "code",
   "execution_count": 22,
   "metadata": {},
   "outputs": [],
   "source": [
    "# TODO: from the valuecounts() above, mcdonalds appears under different names with different capitalizations. Fix\n",
    "# in data cleaning"
   ]
  },
  {
   "cell_type": "code",
   "execution_count": 23,
   "metadata": {},
   "outputs": [],
   "source": [
    "# TODO: maybe move the null row removal into the data cleanup section rather than analysis"
   ]
  },
  {
   "cell_type": "markdown",
   "metadata": {},
   "source": [
    "# Ethics & Privacy"
   ]
  },
  {
   "cell_type": "markdown",
   "metadata": {},
   "source": [
    "*Fill in your ethics & privacy discussion here*"
   ]
  },
  {
   "cell_type": "markdown",
   "metadata": {},
   "source": [
    "# Conclusion & Discussion"
   ]
  },
  {
   "cell_type": "markdown",
   "metadata": {},
   "source": [
    "*Fill in your discussion information here*"
   ]
  },
  {
   "cell_type": "markdown",
   "metadata": {},
   "source": [
    "# Team Contributions"
   ]
  },
  {
   "cell_type": "markdown",
   "metadata": {},
   "source": [
    "*Specify who in your group worked on which parts of the project.*"
   ]
  }
 ],
 "metadata": {
  "kernelspec": {
   "display_name": "Python 3",
   "language": "python",
   "name": "python3"
  },
  "language_info": {
   "codemirror_mode": {
    "name": "ipython",
    "version": 3
   },
   "file_extension": ".py",
   "mimetype": "text/x-python",
   "name": "python",
   "nbconvert_exporter": "python",
   "pygments_lexer": "ipython3",
   "version": "3.7.4"
  }
 },
 "nbformat": 4,
 "nbformat_minor": 2
}
