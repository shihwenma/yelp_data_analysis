{
 "cells": [
  {
   "cell_type": "markdown",
   "metadata": {},
   "source": [
    "# COGS 108 Final Project Check-In"
   ]
  },
  {
   "cell_type": "markdown",
   "metadata": {},
   "source": [
    "# Names\n",
    "\n",
    "- Shih Wen Ma\n",
    "- Andrea Diaz\n",
    "- Viet Nguyen\n",
    "- Manda Tran\n",
    "- Matthew Luu"
   ]
  },
  {
   "cell_type": "markdown",
   "metadata": {},
   "source": [
    "# Group Members IDs\n",
    "\n",
    "- A15469802\n",
    "- A15084975\n",
    "- A13702483\n",
    "- A14452168\n",
    "- A16067866"
   ]
  },
  {
   "cell_type": "markdown",
   "metadata": {},
   "source": [
    "# Accomplishments"
   ]
  },
  {
   "cell_type": "markdown",
   "metadata": {},
   "source": [
    "*Briefly explain what your group has accomplished up to this point on your final project.*\n",
    "\n",
    "We created an outline of the analyses we want to make in order to answer our question. This includes: \n",
    "1. Most popular “genre” of cuisine\n",
    "2. Which chain correlates to these genres? (heat map)\n",
    "3. How well do these chains do across the country (particularly does this do well in the state where this is the most popular type of food) \n",
    "4. Conclude (based on correlation) if a chain was going to set up a shop there, the ratings / popularity of that shop\n",
    "\n",
    "We found our two major datasets that we will be using for our final project. The link to download the dataset is: https://www.yelp.com/dataset/download. We will be the using business.json and review.json files and are currently in the process of cleaning the data to only include the relevant data (restaurant reviews and restaurant business information) before uploading the file because it is such a large dataset. Then we plan on joining the two datasets so that the information about the business will be included in the reviews dataset."
   ]
  },
  {
   "cell_type": "markdown",
   "metadata": {},
   "source": [
    "# Going Well"
   ]
  },
  {
   "cell_type": "markdown",
   "metadata": {},
   "source": [
    "*Briefly explain what has gone well so far in completing your group project.*\n",
    "\n",
    "Our group has been meeting consistently and now have a clear direction of where we want to go with the project. We also have specific tasks assigned to each person, although we will all be helping out in other areas if needed."
   ]
  },
  {
   "cell_type": "markdown",
   "metadata": {},
   "source": [
    "# Struggles"
   ]
  },
  {
   "cell_type": "markdown",
   "metadata": {},
   "source": [
    "*Briefly explain what snags or issues your group has faced.*\n",
    "\n",
    "Cleaning the data is more challenging than we expected. Because the file size is so large, we are not able to store the original file on our GitHub repo so that everyone is able to work on cleaning it. We also wanted to visualize our data using a geographical map of the US. For instance in one section, we wanted to find the most popular type of food for each state so we wanted to represent this using a map of the US with the type of food that corresponds to each state. The only way we could think of representing the data this way would be using Tableau but we are unsure if there is a better way to do so in Python. "
   ]
  },
  {
   "cell_type": "markdown",
   "metadata": {},
   "source": [
    "# Plan Forward"
   ]
  },
  {
   "cell_type": "markdown",
   "metadata": {},
   "source": [
    "*Explain what your plan is for successful completion of your COGS 108 project. If any issues have arisen, address your plan for addressing these issues throughout the rest of the quarter.*\n",
    "\n",
    "We plan on finishing the data cleaning by the end of week 7. Then in week 8 we will focus on descriptive data analysis and in week 9 we will focus on exploratory data analysis. In week 10 we put finishing touches on our final project making sure to have clear explanations and data visualizations but mainly finish up the Conclusion & Discussion section and clarify the Ethics & Privacy section from our project proposal."
   ]
  },
  {
   "cell_type": "code",
   "execution_count": null,
   "metadata": {},
   "outputs": [],
   "source": []
  }
 ],
 "metadata": {
  "kernelspec": {
   "display_name": "Python 3",
   "language": "python",
   "name": "python3"
  },
  "language_info": {
   "codemirror_mode": {
    "name": "ipython",
    "version": 3
   },
   "file_extension": ".py",
   "mimetype": "text/x-python",
   "name": "python",
   "nbconvert_exporter": "python",
   "pygments_lexer": "ipython3",
   "version": "3.7.4"
  }
 },
 "nbformat": 4,
 "nbformat_minor": 2
}
